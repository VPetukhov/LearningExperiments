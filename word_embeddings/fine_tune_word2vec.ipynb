{
 "cells": [
  {
   "cell_type": "code",
   "execution_count": 1,
   "metadata": {
    "tags": []
   },
   "outputs": [],
   "source": [
    "from pandas import Series, DataFrame\n",
    "import pandas as pd\n",
    "import numpy as np\n",
    "from tqdm.notebook import tqdm\n",
    "import re\n",
    "\n",
    "import sqlite3 as sql\n",
    "from gensim.corpora import Dictionary\n",
    "from datasets import load_dataset\n",
    "\n",
    "tqdm.pandas()"
   ]
  },
  {
   "cell_type": "code",
   "execution_count": 2,
   "metadata": {},
   "outputs": [],
   "source": [
    "import string\n",
    "from nltk.corpus import stopwords\n",
    "from nltk.stem import WordNetLemmatizer\n",
    "from nltk.tokenize import RegexpTokenizer\n",
    "import pycld2 as cld2\n",
    "\n",
    "stop_words = set(stopwords.words('english'))\n",
    "lemmatize = WordNetLemmatizer().lemmatize\n",
    "tokenizer = RegexpTokenizer(r'\\w+')\n",
    "\n",
    "printable_char_re = re.compile(f'[^{string.printable[:-2]}]')\n",
    "\n",
    "def remove_nonprintable_chars(text:str):\n",
    "    return printable_char_re.sub(\"\", text)\n",
    "\n",
    "\n",
    "def normalize_text_doc(doc:str):\n",
    "    doc = remove_nonprintable_chars(doc)\n",
    "    words = [lemmatize(w) for w in tokenizer.tokenize(doc.lower()) if len(w) > 2]\n",
    "    return [w for w in words if w not in stop_words]\n",
    "\n",
    "\n",
    "def detect_lang(text):\n",
    "    is_rel,_,langs = cld2.detect(remove_nonprintable_chars(text))\n",
    "    if not is_rel:\n",
    "        return \"unk\"\n",
    "    return langs[0][1]"
   ]
  },
  {
   "cell_type": "markdown",
   "metadata": {
    "jp-MarkdownHeadingCollapsed": true,
    "tags": []
   },
   "source": [
    "## Read and filter documnets"
   ]
  },
  {
   "cell_type": "markdown",
   "metadata": {},
   "source": [
    "### Bio"
   ]
  },
  {
   "cell_type": "code",
   "execution_count": 4,
   "metadata": {},
   "outputs": [],
   "source": [
    "# db_path = '/home/vpetukhov/data_nlp/dbs/all.db'\n",
    "db_path = '/home/vpetukhov/data_nlp/dbs/bio.db'\n",
    "db = sql.connect(db_path)"
   ]
  },
  {
   "cell_type": "code",
   "execution_count": 5,
   "metadata": {},
   "outputs": [
    {
     "name": "stdout",
     "output_type": "stream",
     "text": [
      "CPU times: user 3min 28s, sys: 1min 22s, total: 4min 50s\n",
      "Wall time: 13min 6s\n"
     ]
    },
    {
     "data": {
      "text/plain": [
       "(9828896, 2)"
      ]
     },
     "execution_count": 5,
     "metadata": {},
     "output_type": "execute_result"
    }
   ],
   "source": [
    "%%time\n",
    "# train_df = pd.read_sql(\"SELECT title,abstract FROM Data LIMIT 100000\", db)\n",
    "train_df = pd.read_sql(\"SELECT id,title,abstract FROM Data\", db).set_index('id')\n",
    "train_df = train_df[train_df.abstract.map(lambda x: len(x.split())) > 20]\n",
    "train_df.shape"
   ]
  },
  {
   "cell_type": "code",
   "execution_count": 98,
   "metadata": {},
   "outputs": [
    {
     "data": {
      "application/vnd.jupyter.widget-view+json": {
       "model_id": "4a2ad1c5baa7475cbb3c6bbd6a05e531",
       "version_major": 2,
       "version_minor": 0
      },
      "text/plain": [
       "HBox(children=(HTML(value=''), FloatProgress(value=0.0, max=9828896.0), HTML(value='')))"
      ]
     },
     "metadata": {},
     "output_type": "display_data"
    },
    {
     "name": "stdout",
     "output_type": "stream",
     "text": [
      "\n"
     ]
    }
   ],
   "source": [
    "train_df['lang'] = [detect_lang(t[:200]) for t in tqdm(train_df.abstract.values)];"
   ]
  },
  {
   "cell_type": "code",
   "execution_count": 100,
   "metadata": {},
   "outputs": [
    {
     "data": {
      "text/plain": [
       "(9407480, 3)"
      ]
     },
     "execution_count": 100,
     "metadata": {},
     "output_type": "execute_result"
    }
   ],
   "source": [
    "train_df = train_df[train_df['lang'] == 'en']\n",
    "train_df.shape"
   ]
  },
  {
   "cell_type": "code",
   "execution_count": 101,
   "metadata": {},
   "outputs": [],
   "source": [
    "train_df['text'] = train_df.title + \"\\n\" + train_df.abstract\n",
    "# train_df['text_norm'] = [\"\".join(re.findall(r'[\\s\\w\\d]', t)).lower() for t in tqdm(train_df.text.values)]"
   ]
  },
  {
   "cell_type": "code",
   "execution_count": 110,
   "metadata": {},
   "outputs": [
    {
     "data": {
      "application/vnd.jupyter.widget-view+json": {
       "model_id": "198c5bccca164c7485e7e2044b367449",
       "version_major": 2,
       "version_minor": 0
      },
      "text/plain": [
       "HBox(children=(HTML(value=''), FloatProgress(value=0.0, max=9407480.0), HTML(value='')))"
      ]
     },
     "metadata": {},
     "output_type": "display_data"
    },
    {
     "name": "stdout",
     "output_type": "stream",
     "text": [
      "\n"
     ]
    }
   ],
   "source": [
    "with open(\"cache/bio_tokenized.txt\", \"w\") as f:\n",
    "    for k,t in tqdm(train_df['text'].items(), total=train_df.shape[0]):\n",
    "        print(k + \",\" + \" \".join(normalize_text_doc(t)), file=f)"
   ]
  },
  {
   "cell_type": "code",
   "execution_count": null,
   "metadata": {},
   "outputs": [
    {
     "name": "stderr",
     "output_type": "stream",
     "text": [
      "Using custom data configuration default-47076e7fb39e64a5\n"
     ]
    }
   ],
   "source": [
    "token_data = load_dataset(\"csv\", data_files=\"./cache/bio_tokenized.txt\", column_names=['uid', 'tokens'], streaming=True)['train']"
   ]
  },
  {
   "cell_type": "code",
   "execution_count": null,
   "metadata": {},
   "outputs": [
    {
     "data": {
      "application/vnd.jupyter.widget-view+json": {
       "model_id": "416e4096b9f84c2680d575beadb7d59a",
       "version_major": 2,
       "version_minor": 0
      },
      "text/plain": [
       "  0%|          | 0/9407480 [00:00<?, ?it/s]"
      ]
     },
     "metadata": {},
     "output_type": "display_data"
    },
    {
     "name": "stdout",
     "output_type": "stream",
     "text": [
      "CPU times: user 1h 17min 30s, sys: 6min 36s, total: 1h 24min 6s\n",
      "Wall time: 1h 24min 3s\n"
     ]
    }
   ],
   "source": [
    "%time token_dict = Dictionary(map(lambda x: x['tokens'].split(), tqdm(token_data, total=token_data.info.splits['train'].num_examples)))\n",
    "token_dict.save(\"./cache/bio_tokens.dict\")"
   ]
  },
  {
   "cell_type": "markdown",
   "metadata": {},
   "source": [
    "### All"
   ]
  },
  {
   "cell_type": "code",
   "execution_count": 5,
   "metadata": {},
   "outputs": [],
   "source": [
    "db_path = '/home/vpetukhov/data_nlp/dbs/all.db'\n",
    "db = sql.connect(db_path)"
   ]
  },
  {
   "cell_type": "code",
   "execution_count": 11,
   "metadata": {},
   "outputs": [
    {
     "data": {
      "application/vnd.jupyter.widget-view+json": {
       "model_id": "1f0e87ac625c416fa37937eb48a28b33",
       "version_major": 2,
       "version_minor": 0
      },
      "text/plain": [
       "0it [00:00, ?it/s]"
      ]
     },
     "metadata": {},
     "output_type": "display_data"
    }
   ],
   "source": [
    "cur = db.execute(\"SELECT id,title,abstract FROM Data\")\n",
    "tokenized_texts = {}\n",
    "with open(\"cache/all_tokenized.txt\", \"w\") as f:\n",
    "    for pid,title,abstract in tqdm(cur):\n",
    "        if len(abstract.split()) < 20:\n",
    "            continue\n",
    "\n",
    "        lang = detect_lang(abstract[:200])\n",
    "        if lang != 'en':\n",
    "            continue\n",
    "\n",
    "        text = title + \"\\n\" + abstract\n",
    "        # print(pid + \",\" + \" \".join(normalize_text_doc(text)), file=f)\n",
    "        tokenized_texts[pid] = \" \".join(normalize_text_doc(text))"
   ]
  },
  {
   "cell_type": "code",
   "execution_count": 12,
   "metadata": {},
   "outputs": [],
   "source": [
    "# shuffle Series\n",
    "tokenized_texts = Series(tokenized_texts).sample(frac=1.0, replace=False, random_state=42)"
   ]
  },
  {
   "cell_type": "code",
   "execution_count": 14,
   "metadata": {},
   "outputs": [
    {
     "data": {
      "application/vnd.jupyter.widget-view+json": {
       "model_id": "3d83b313f3ab4ad2842fa36b4577a3e1",
       "version_major": 2,
       "version_minor": 0
      },
      "text/plain": [
       "  0%|          | 0/41908692 [00:00<?, ?it/s]"
      ]
     },
     "metadata": {},
     "output_type": "display_data"
    }
   ],
   "source": [
    "with open(\"cache/all_tokenized.txt\", \"w\") as f:\n",
    "    for k,t in tqdm(tokenized_texts.items(), total=tokenized_texts.size):\n",
    "        print(k + \",\" + t, file=f)"
   ]
  },
  {
   "cell_type": "code",
   "execution_count": 13,
   "metadata": {},
   "outputs": [
    {
     "data": {
      "application/vnd.jupyter.widget-view+json": {
       "model_id": "c6e62140ed5c4c8fa9d05ab3cc5466f5",
       "version_major": 2,
       "version_minor": 0
      },
      "text/plain": [
       "  0%|          | 0/41908692 [00:00<?, ?it/s]"
      ]
     },
     "metadata": {},
     "output_type": "display_data"
    }
   ],
   "source": [
    "token_dict = Dictionary(map(str.split, tqdm(tokenized_texts.values)))\n",
    "token_dict.save(\"./cache/all_tokens.dict\")"
   ]
  },
  {
   "cell_type": "markdown",
   "metadata": {},
   "source": [
    "## Process tokens"
   ]
  },
  {
   "cell_type": "code",
   "execution_count": 3,
   "metadata": {},
   "outputs": [
    {
     "data": {
      "text/plain": [
       "2005581"
      ]
     },
     "execution_count": 3,
     "metadata": {},
     "output_type": "execute_result"
    }
   ],
   "source": [
    "DATA_PART = \"all\" # bio\n",
    "token_dict = Dictionary.load(f\"./cache/{DATA_PART}_tokens.dict\")\n",
    "len(token_dict)"
   ]
  },
  {
   "cell_type": "code",
   "execution_count": 4,
   "metadata": {},
   "outputs": [
    {
     "data": {
      "text/plain": [
       "29434"
      ]
     },
     "execution_count": 4,
     "metadata": {},
     "output_type": "execute_result"
    }
   ],
   "source": [
    "doc_freqs = Series(token_dict.dfs)\n",
    "# doc_freqs = doc_freqs[(doc_freqs / token_dict.num_docs) > 0.0005]\n",
    "doc_freqs = doc_freqs[(doc_freqs / token_dict.num_docs) > 0.0001]\n",
    "doc_freqs.size"
   ]
  },
  {
   "cell_type": "code",
   "execution_count": 5,
   "metadata": {},
   "outputs": [],
   "source": [
    "token_dict.filter_tokens(good_ids=doc_freqs.index)\n",
    "token_dict.compactify()"
   ]
  },
  {
   "cell_type": "markdown",
   "metadata": {},
   "source": [
    "## Word2vec"
   ]
  },
  {
   "cell_type": "code",
   "execution_count": 6,
   "metadata": {
    "tags": []
   },
   "outputs": [],
   "source": [
    "import gensim\n",
    "from gensim.models import Word2Vec \n",
    "from gensim.models import KeyedVectors\n",
    "\n",
    "import logging  # Setting up the loggings to monitor gensim\n",
    "logging.basicConfig(format=\"%(levelname)s - %(asctime)s: %(message)s\", datefmt= '%H:%M:%S', level=logging.INFO)"
   ]
  },
  {
   "cell_type": "code",
   "execution_count": 7,
   "metadata": {},
   "outputs": [
    {
     "name": "stderr",
     "output_type": "stream",
     "text": [
      "INFO - 23:37:53: Word2Vec lifecycle event {'params': 'Word2Vec<vocab=0, vector_size=200, alpha=0.025>', 'datetime': '2022-10-10T23:37:53.808479', 'gensim': '4.2.0', 'python': '3.8.0 (default, Nov  6 2019, 21:49:08) \\n[GCC 7.3.0]', 'platform': 'Linux-5.15.71-gentoo-x86_64-x86_64-Intel-R-_Core-TM-_i7-8850H_CPU_@_2.60GHz-with-glibc2.10', 'event': 'created'}\n",
      "INFO - 23:37:53: Processing provided word frequencies\n",
      "INFO - 23:37:53: collected 29434 unique word types, with total frequency of 4718217881\n",
      "INFO - 23:37:53: Creating a fresh vocabulary\n",
      "INFO - 23:37:53: Word2Vec lifecycle event {'msg': 'effective_min_count=2 retains 29434 unique words (100.00% of original 29434, drops 0)', 'datetime': '2022-10-10T23:37:53.954048', 'gensim': '4.2.0', 'python': '3.8.0 (default, Nov  6 2019, 21:49:08) \\n[GCC 7.3.0]', 'platform': 'Linux-5.15.71-gentoo-x86_64-x86_64-Intel-R-_Core-TM-_i7-8850H_CPU_@_2.60GHz-with-glibc2.10', 'event': 'prepare_vocab'}\n",
      "INFO - 23:37:53: Word2Vec lifecycle event {'msg': 'effective_min_count=2 leaves 4718217881 word corpus (100.00% of original 4718217881, drops 0)', 'datetime': '2022-10-10T23:37:53.954955', 'gensim': '4.2.0', 'python': '3.8.0 (default, Nov  6 2019, 21:49:08) \\n[GCC 7.3.0]', 'platform': 'Linux-5.15.71-gentoo-x86_64-x86_64-Intel-R-_Core-TM-_i7-8850H_CPU_@_2.60GHz-with-glibc2.10', 'event': 'prepare_vocab'}\n",
      "INFO - 23:37:54: deleting the raw counts dictionary of 29434 items\n",
      "INFO - 23:37:54: sample=0.001 downsamples 19 most-common words\n",
      "INFO - 23:37:54: Word2Vec lifecycle event {'msg': 'downsampling leaves estimated 4613570432.697741 word corpus (97.8%% of prior 4718217881)', 'datetime': '2022-10-10T23:37:54.121136', 'gensim': '4.2.0', 'python': '3.8.0 (default, Nov  6 2019, 21:49:08) \\n[GCC 7.3.0]', 'platform': 'Linux-5.15.71-gentoo-x86_64-x86_64-Intel-R-_Core-TM-_i7-8850H_CPU_@_2.60GHz-with-glibc2.10', 'event': 'prepare_vocab'}\n",
      "INFO - 23:37:54: estimated required memory for 29434 words and 200 dimensions: 61811400 bytes\n",
      "INFO - 23:37:54: resetting layer weights\n"
     ]
    }
   ],
   "source": [
    "WINDOW_SIZE = 1000\n",
    "# WINDOW_SIZE = 5\n",
    "model = Word2Vec(vector_size=200, min_count=2, workers=12, window=WINDOW_SIZE)\n",
    "model.build_vocab_from_freq({token_dict[k]: f for k,f in token_dict.cfs.items()})"
   ]
  },
  {
   "cell_type": "markdown",
   "metadata": {},
   "source": [
    "**TODO: make `window=5` and compare it on Bio before processing all**"
   ]
  },
  {
   "cell_type": "code",
   "execution_count": 8,
   "metadata": {},
   "outputs": [],
   "source": [
    "model.wv.vectors_lockf = np.ones(len(model.wv.vectors))"
   ]
  },
  {
   "cell_type": "code",
   "execution_count": 9,
   "metadata": {},
   "outputs": [
    {
     "name": "stderr",
     "output_type": "stream",
     "text": [
      "INFO - 23:38:01: loading projection weights from /home/vpetukhov/data_nlp/embeddings/BioWordVec_PubMed_MIMICIII_d200.vec.bin\n",
      "INFO - 23:40:22: KeyedVectors lifecycle event {'msg': 'merged 29360 vectors into (29434, 200) matrix from /home/vpetukhov/data_nlp/embeddings/BioWordVec_PubMed_MIMICIII_d200.vec.bin', 'datetime': '2022-10-10T23:40:22.633958', 'gensim': '4.2.0', 'python': '3.8.0 (default, Nov  6 2019, 21:49:08) \\n[GCC 7.3.0]', 'platform': 'Linux-5.15.71-gentoo-x86_64-x86_64-Intel-R-_Core-TM-_i7-8850H_CPU_@_2.60GHz-with-glibc2.10', 'event': 'intersect_word2vec_format'}\n"
     ]
    },
    {
     "name": "stdout",
     "output_type": "stream",
     "text": [
      "CPU times: user 2min 11s, sys: 6.55 s, total: 2min 17s\n",
      "Wall time: 2min 20s\n"
     ]
    }
   ],
   "source": [
    "%time model.wv.intersect_word2vec_format(\"/home/vpetukhov/data_nlp/embeddings/BioWordVec_PubMed_MIMICIII_d200.vec.bin\", binary=True, lockf=1.0)"
   ]
  },
  {
   "cell_type": "code",
   "execution_count": 10,
   "metadata": {},
   "outputs": [
    {
     "name": "stderr",
     "output_type": "stream",
     "text": [
      "WARNING - 23:40:23: Using custom data configuration default-bc9794c9e975cb57\n"
     ]
    }
   ],
   "source": [
    "token_data = load_dataset(\"csv\", data_files=f\"./cache/{DATA_PART}_tokenized.txt\", column_names=['uid', 'tokens'], streaming=True)['train']"
   ]
  },
  {
   "cell_type": "code",
   "execution_count": 11,
   "metadata": {},
   "outputs": [],
   "source": [
    "class StringSplitterCorpus:\n",
    "    def __init__(self, token_data, token_dict):\n",
    "        self.token_data = token_data\n",
    "        self.dict_words = set(token_dict.token2id.keys())\n",
    "\n",
    "    def __iter__(self):\n",
    "        for ts in self.token_data:\n",
    "            if pd.isna(ts['tokens']):\n",
    "                continue\n",
    "\n",
    "            yield [w for w in ts['tokens'].split() if w in self.dict_words]"
   ]
  },
  {
   "cell_type": "code",
   "execution_count": 12,
   "metadata": {},
   "outputs": [],
   "source": [
    "token_corpus = StringSplitterCorpus(token_data, token_dict)"
   ]
  },
  {
   "cell_type": "code",
   "execution_count": 13,
   "metadata": {
    "collapsed": true,
    "jupyter": {
     "outputs_hidden": true
    },
    "tags": []
   },
   "outputs": [
    {
     "name": "stderr",
     "output_type": "stream",
     "text": [
      "INFO - 23:40:23: Word2Vec lifecycle event {'msg': 'training model with 12 workers on 29434 vocabulary and 200 features, using sg=0 hs=0 sample=0.001 negative=5 window=1000 shrink_windows=True', 'datetime': '2022-10-10T23:40:23.748487', 'gensim': '4.2.0', 'python': '3.8.0 (default, Nov  6 2019, 21:49:08) \\n[GCC 7.3.0]', 'platform': 'Linux-5.15.71-gentoo-x86_64-x86_64-Intel-R-_Core-TM-_i7-8850H_CPU_@_2.60GHz-with-glibc2.10', 'event': 'train'}\n",
      "INFO - 23:40:24: EPOCH 0 - PROGRESS: at 0.00% examples, 163008 words/s, in_qsize 23, out_qsize 0\n",
      "INFO - 23:41:24: EPOCH 0 - PROGRESS: at 0.34% examples, 259087 words/s, in_qsize 23, out_qsize 0\n",
      "INFO - 23:42:24: EPOCH 0 - PROGRESS: at 0.68% examples, 260752 words/s, in_qsize 21, out_qsize 0\n",
      "INFO - 23:43:24: EPOCH 0 - PROGRESS: at 1.08% examples, 275579 words/s, in_qsize 23, out_qsize 0\n",
      "INFO - 23:44:24: EPOCH 0 - PROGRESS: at 1.48% examples, 282855 words/s, in_qsize 23, out_qsize 0\n",
      "INFO - 23:45:25: EPOCH 0 - PROGRESS: at 1.89% examples, 288971 words/s, in_qsize 23, out_qsize 0\n",
      "INFO - 23:46:25: EPOCH 0 - PROGRESS: at 2.30% examples, 293564 words/s, in_qsize 23, out_qsize 0\n",
      "INFO - 23:47:25: EPOCH 0 - PROGRESS: at 2.70% examples, 295569 words/s, in_qsize 23, out_qsize 1\n",
      "INFO - 23:48:25: EPOCH 0 - PROGRESS: at 3.10% examples, 296599 words/s, in_qsize 15, out_qsize 1\n",
      "INFO - 23:49:25: EPOCH 0 - PROGRESS: at 3.50% examples, 298133 words/s, in_qsize 22, out_qsize 0\n",
      "INFO - 23:50:25: EPOCH 0 - PROGRESS: at 3.91% examples, 300101 words/s, in_qsize 23, out_qsize 0\n",
      "INFO - 23:51:25: EPOCH 0 - PROGRESS: at 4.33% examples, 302232 words/s, in_qsize 22, out_qsize 1\n",
      "INFO - 23:52:25: EPOCH 0 - PROGRESS: at 4.75% examples, 303742 words/s, in_qsize 24, out_qsize 0\n",
      "INFO - 23:53:25: EPOCH 0 - PROGRESS: at 5.17% examples, 305100 words/s, in_qsize 23, out_qsize 0\n",
      "INFO - 23:54:25: EPOCH 0 - PROGRESS: at 5.59% examples, 306538 words/s, in_qsize 23, out_qsize 0\n",
      "INFO - 23:55:25: EPOCH 0 - PROGRESS: at 6.02% examples, 307779 words/s, in_qsize 23, out_qsize 0\n",
      "INFO - 23:56:25: EPOCH 0 - PROGRESS: at 6.44% examples, 308762 words/s, in_qsize 15, out_qsize 0\n",
      "INFO - 23:57:25: EPOCH 0 - PROGRESS: at 6.86% examples, 309558 words/s, in_qsize 24, out_qsize 0\n",
      "INFO - 23:58:25: EPOCH 0 - PROGRESS: at 7.28% examples, 310403 words/s, in_qsize 22, out_qsize 1\n",
      "INFO - 23:59:25: EPOCH 0 - PROGRESS: at 7.70% examples, 311139 words/s, in_qsize 23, out_qsize 0\n",
      "INFO - 00:00:25: EPOCH 0 - PROGRESS: at 8.12% examples, 311723 words/s, in_qsize 23, out_qsize 0\n",
      "INFO - 00:01:25: EPOCH 0 - PROGRESS: at 8.54% examples, 312179 words/s, in_qsize 22, out_qsize 1\n",
      "INFO - 00:02:25: EPOCH 0 - PROGRESS: at 8.93% examples, 311529 words/s, in_qsize 23, out_qsize 0\n",
      "INFO - 00:03:25: EPOCH 0 - PROGRESS: at 9.34% examples, 311746 words/s, in_qsize 24, out_qsize 0\n",
      "INFO - 00:04:25: EPOCH 0 - PROGRESS: at 9.76% examples, 312010 words/s, in_qsize 21, out_qsize 2\n",
      "INFO - 00:05:25: EPOCH 0 - PROGRESS: at 10.17% examples, 312264 words/s, in_qsize 24, out_qsize 1\n",
      "INFO - 00:06:25: EPOCH 0 - PROGRESS: at 10.59% examples, 312520 words/s, in_qsize 23, out_qsize 0\n",
      "INFO - 00:07:25: EPOCH 0 - PROGRESS: at 11.00% examples, 312757 words/s, in_qsize 23, out_qsize 0\n",
      "INFO - 00:08:25: EPOCH 0 - PROGRESS: at 11.41% examples, 312973 words/s, in_qsize 24, out_qsize 0\n",
      "INFO - 00:09:25: EPOCH 0 - PROGRESS: at 11.83% examples, 313133 words/s, in_qsize 19, out_qsize 2\n",
      "INFO - 00:10:25: EPOCH 0 - PROGRESS: at 12.25% examples, 313442 words/s, in_qsize 23, out_qsize 0\n",
      "INFO - 00:11:25: EPOCH 0 - PROGRESS: at 12.67% examples, 313731 words/s, in_qsize 23, out_qsize 1\n",
      "INFO - 00:12:25: EPOCH 0 - PROGRESS: at 13.08% examples, 313883 words/s, in_qsize 23, out_qsize 0\n",
      "INFO - 00:13:25: EPOCH 0 - PROGRESS: at 13.50% examples, 314041 words/s, in_qsize 23, out_qsize 0\n",
      "INFO - 00:14:25: EPOCH 0 - PROGRESS: at 13.91% examples, 314166 words/s, in_qsize 23, out_qsize 0\n",
      "INFO - 00:15:25: EPOCH 0 - PROGRESS: at 14.33% examples, 314344 words/s, in_qsize 24, out_qsize 0\n",
      "INFO - 00:16:25: EPOCH 0 - PROGRESS: at 14.71% examples, 313771 words/s, in_qsize 23, out_qsize 0\n",
      "INFO - 00:17:25: EPOCH 0 - PROGRESS: at 15.12% examples, 313737 words/s, in_qsize 23, out_qsize 0\n",
      "INFO - 00:18:25: EPOCH 0 - PROGRESS: at 15.53% examples, 313858 words/s, in_qsize 23, out_qsize 0\n",
      "INFO - 00:19:25: EPOCH 0 - PROGRESS: at 15.95% examples, 314021 words/s, in_qsize 23, out_qsize 0\n",
      "INFO - 00:20:25: EPOCH 0 - PROGRESS: at 16.37% examples, 314228 words/s, in_qsize 23, out_qsize 0\n",
      "INFO - 00:21:25: EPOCH 0 - PROGRESS: at 16.78% examples, 314364 words/s, in_qsize 23, out_qsize 0\n",
      "INFO - 00:22:26: EPOCH 0 - PROGRESS: at 17.20% examples, 314533 words/s, in_qsize 23, out_qsize 0\n",
      "INFO - 00:23:26: EPOCH 0 - PROGRESS: at 17.62% examples, 314725 words/s, in_qsize 23, out_qsize 0\n",
      "INFO - 00:24:26: EPOCH 0 - PROGRESS: at 18.04% examples, 314908 words/s, in_qsize 24, out_qsize 0\n",
      "INFO - 00:25:26: EPOCH 0 - PROGRESS: at 18.46% examples, 315134 words/s, in_qsize 12, out_qsize 0\n",
      "INFO - 00:26:26: EPOCH 0 - PROGRESS: at 18.89% examples, 315324 words/s, in_qsize 24, out_qsize 0\n",
      "INFO - 00:27:26: EPOCH 0 - PROGRESS: at 19.31% examples, 315460 words/s, in_qsize 23, out_qsize 0\n",
      "INFO - 00:28:26: EPOCH 0 - PROGRESS: at 19.72% examples, 315555 words/s, in_qsize 22, out_qsize 1\n",
      "INFO - 00:29:26: EPOCH 0 - PROGRESS: at 20.14% examples, 315698 words/s, in_qsize 23, out_qsize 0\n",
      "INFO - 00:30:26: EPOCH 0 - PROGRESS: at 20.56% examples, 315856 words/s, in_qsize 18, out_qsize 0\n",
      "INFO - 00:31:26: EPOCH 0 - PROGRESS: at 20.98% examples, 315963 words/s, in_qsize 23, out_qsize 1\n",
      "INFO - 00:32:26: EPOCH 0 - PROGRESS: at 21.40% examples, 316020 words/s, in_qsize 23, out_qsize 0\n",
      "INFO - 00:33:26: EPOCH 0 - PROGRESS: at 21.81% examples, 316130 words/s, in_qsize 24, out_qsize 0\n",
      "INFO - 00:34:26: EPOCH 0 - PROGRESS: at 22.23% examples, 316244 words/s, in_qsize 8, out_qsize 2\n",
      "INFO - 00:35:26: EPOCH 0 - PROGRESS: at 22.65% examples, 316372 words/s, in_qsize 23, out_qsize 0\n",
      "INFO - 00:36:26: EPOCH 0 - PROGRESS: at 23.08% examples, 316513 words/s, in_qsize 23, out_qsize 0\n",
      "INFO - 00:37:26: EPOCH 0 - PROGRESS: at 23.50% examples, 316667 words/s, in_qsize 19, out_qsize 1\n",
      "INFO - 00:38:26: EPOCH 0 - PROGRESS: at 23.92% examples, 316748 words/s, in_qsize 23, out_qsize 0\n",
      "INFO - 00:39:26: EPOCH 0 - PROGRESS: at 24.34% examples, 316838 words/s, in_qsize 23, out_qsize 0\n",
      "INFO - 00:40:26: EPOCH 0 - PROGRESS: at 24.76% examples, 316922 words/s, in_qsize 23, out_qsize 0\n",
      "INFO - 00:41:26: EPOCH 0 - PROGRESS: at 25.17% examples, 316988 words/s, in_qsize 23, out_qsize 3\n",
      "INFO - 00:42:26: EPOCH 0 - PROGRESS: at 25.59% examples, 317095 words/s, in_qsize 23, out_qsize 0\n",
      "INFO - 00:43:26: EPOCH 0 - PROGRESS: at 26.01% examples, 317167 words/s, in_qsize 23, out_qsize 0\n",
      "INFO - 00:44:26: EPOCH 0 - PROGRESS: at 26.43% examples, 317240 words/s, in_qsize 17, out_qsize 1\n",
      "INFO - 00:45:26: EPOCH 0 - PROGRESS: at 26.85% examples, 317327 words/s, in_qsize 23, out_qsize 0\n",
      "INFO - 00:46:26: EPOCH 0 - PROGRESS: at 27.27% examples, 317321 words/s, in_qsize 23, out_qsize 0\n",
      "INFO - 00:47:27: EPOCH 0 - PROGRESS: at 27.68% examples, 317349 words/s, in_qsize 23, out_qsize 0\n",
      "INFO - 00:48:27: EPOCH 0 - PROGRESS: at 28.06% examples, 317005 words/s, in_qsize 23, out_qsize 0\n",
      "INFO - 00:49:27: EPOCH 0 - PROGRESS: at 28.47% examples, 316942 words/s, in_qsize 23, out_qsize 0\n",
      "INFO - 00:50:27: EPOCH 0 - PROGRESS: at 28.88% examples, 316955 words/s, in_qsize 23, out_qsize 0\n",
      "INFO - 00:51:27: EPOCH 0 - PROGRESS: at 29.30% examples, 317018 words/s, in_qsize 23, out_qsize 0\n",
      "INFO - 00:52:27: EPOCH 0 - PROGRESS: at 29.72% examples, 317085 words/s, in_qsize 23, out_qsize 0\n",
      "INFO - 00:53:27: EPOCH 0 - PROGRESS: at 30.14% examples, 317147 words/s, in_qsize 23, out_qsize 0\n",
      "INFO - 00:54:27: EPOCH 0 - PROGRESS: at 30.55% examples, 317101 words/s, in_qsize 23, out_qsize 0\n",
      "INFO - 00:55:27: EPOCH 0 - PROGRESS: at 30.96% examples, 317081 words/s, in_qsize 23, out_qsize 0\n",
      "INFO - 00:56:27: EPOCH 0 - PROGRESS: at 31.37% examples, 317113 words/s, in_qsize 23, out_qsize 0\n",
      "INFO - 00:57:27: EPOCH 0 - PROGRESS: at 31.79% examples, 317155 words/s, in_qsize 24, out_qsize 1\n",
      "INFO - 00:58:27: EPOCH 0 - PROGRESS: at 32.19% examples, 316976 words/s, in_qsize 24, out_qsize 0\n",
      "INFO - 00:59:27: EPOCH 0 - PROGRESS: at 32.59% examples, 316945 words/s, in_qsize 23, out_qsize 0\n",
      "INFO - 01:00:27: EPOCH 0 - PROGRESS: at 33.01% examples, 316984 words/s, in_qsize 23, out_qsize 0\n",
      "INFO - 01:01:27: EPOCH 0 - PROGRESS: at 33.42% examples, 316970 words/s, in_qsize 23, out_qsize 0\n",
      "INFO - 01:02:27: EPOCH 0 - PROGRESS: at 33.83% examples, 316984 words/s, in_qsize 23, out_qsize 0\n",
      "INFO - 01:03:27: EPOCH 0 - PROGRESS: at 34.25% examples, 317047 words/s, in_qsize 23, out_qsize 0\n",
      "INFO - 01:04:27: EPOCH 0 - PROGRESS: at 34.67% examples, 317119 words/s, in_qsize 22, out_qsize 1\n",
      "INFO - 01:05:27: EPOCH 0 - PROGRESS: at 35.09% examples, 317186 words/s, in_qsize 17, out_qsize 0\n",
      "INFO - 01:06:27: EPOCH 0 - PROGRESS: at 35.51% examples, 317209 words/s, in_qsize 23, out_qsize 0\n",
      "INFO - 01:07:27: EPOCH 0 - PROGRESS: at 35.92% examples, 317240 words/s, in_qsize 23, out_qsize 0\n",
      "INFO - 01:08:27: EPOCH 0 - PROGRESS: at 36.34% examples, 317258 words/s, in_qsize 24, out_qsize 0\n",
      "INFO - 01:09:27: EPOCH 0 - PROGRESS: at 36.75% examples, 317274 words/s, in_qsize 23, out_qsize 0\n",
      "INFO - 01:10:27: EPOCH 0 - PROGRESS: at 37.14% examples, 317034 words/s, in_qsize 24, out_qsize 0\n",
      "INFO - 01:11:27: EPOCH 0 - PROGRESS: at 37.51% examples, 316704 words/s, in_qsize 23, out_qsize 0\n",
      "INFO - 01:12:27: EPOCH 0 - PROGRESS: at 37.89% examples, 316378 words/s, in_qsize 18, out_qsize 0\n",
      "INFO - 01:13:27: EPOCH 0 - PROGRESS: at 38.29% examples, 316353 words/s, in_qsize 23, out_qsize 0\n",
      "INFO - 01:14:27: EPOCH 0 - PROGRESS: at 38.71% examples, 316386 words/s, in_qsize 23, out_qsize 0\n",
      "INFO - 01:15:27: EPOCH 0 - PROGRESS: at 39.13% examples, 316412 words/s, in_qsize 11, out_qsize 4\n",
      "INFO - 01:16:27: EPOCH 0 - PROGRESS: at 39.51% examples, 316168 words/s, in_qsize 20, out_qsize 1\n",
      "INFO - 01:17:27: EPOCH 0 - PROGRESS: at 39.91% examples, 316083 words/s, in_qsize 23, out_qsize 0\n",
      "INFO - 01:18:27: EPOCH 0 - PROGRESS: at 40.29% examples, 315834 words/s, in_qsize 23, out_qsize 0\n",
      "INFO - 01:19:27: EPOCH 0 - PROGRESS: at 40.70% examples, 315814 words/s, in_qsize 24, out_qsize 0\n",
      "INFO - 01:20:27: EPOCH 0 - PROGRESS: at 41.08% examples, 315599 words/s, in_qsize 23, out_qsize 0\n",
      "INFO - 01:21:27: EPOCH 0 - PROGRESS: at 41.45% examples, 315278 words/s, in_qsize 23, out_qsize 0\n",
      "INFO - 01:22:28: EPOCH 0 - PROGRESS: at 41.85% examples, 315188 words/s, in_qsize 16, out_qsize 4\n",
      "INFO - 01:23:28: EPOCH 0 - PROGRESS: at 42.26% examples, 315181 words/s, in_qsize 23, out_qsize 0\n",
      "INFO - 01:24:28: EPOCH 0 - PROGRESS: at 42.64% examples, 314983 words/s, in_qsize 23, out_qsize 0\n",
      "INFO - 01:25:28: EPOCH 0 - PROGRESS: at 43.04% examples, 314906 words/s, in_qsize 22, out_qsize 0\n",
      "INFO - 01:26:28: EPOCH 0 - PROGRESS: at 43.42% examples, 314720 words/s, in_qsize 10, out_qsize 2\n",
      "INFO - 01:27:28: EPOCH 0 - PROGRESS: at 43.83% examples, 314702 words/s, in_qsize 9, out_qsize 1\n",
      "INFO - 01:28:28: EPOCH 0 - PROGRESS: at 44.24% examples, 314719 words/s, in_qsize 24, out_qsize 0\n",
      "INFO - 01:29:28: EPOCH 0 - PROGRESS: at 44.65% examples, 314728 words/s, in_qsize 24, out_qsize 0\n",
      "INFO - 01:30:28: EPOCH 0 - PROGRESS: at 45.04% examples, 314547 words/s, in_qsize 23, out_qsize 0\n",
      "INFO - 01:31:28: EPOCH 0 - PROGRESS: at 45.41% examples, 314278 words/s, in_qsize 23, out_qsize 1\n",
      "INFO - 01:32:28: EPOCH 0 - PROGRESS: at 45.77% examples, 314000 words/s, in_qsize 23, out_qsize 0\n",
      "INFO - 01:33:28: EPOCH 0 - PROGRESS: at 46.18% examples, 313956 words/s, in_qsize 21, out_qsize 0\n",
      "INFO - 01:34:28: EPOCH 0 - PROGRESS: at 46.59% examples, 313983 words/s, in_qsize 22, out_qsize 1\n",
      "INFO - 01:35:28: EPOCH 0 - PROGRESS: at 47.00% examples, 313990 words/s, in_qsize 23, out_qsize 0\n",
      "INFO - 01:36:28: EPOCH 0 - PROGRESS: at 47.41% examples, 314016 words/s, in_qsize 23, out_qsize 0\n",
      "INFO - 01:37:28: EPOCH 0 - PROGRESS: at 47.82% examples, 314055 words/s, in_qsize 23, out_qsize 0\n",
      "INFO - 01:38:28: EPOCH 0 - PROGRESS: at 48.24% examples, 314132 words/s, in_qsize 17, out_qsize 1\n",
      "INFO - 01:39:28: EPOCH 0 - PROGRESS: at 48.65% examples, 314147 words/s, in_qsize 23, out_qsize 0\n",
      "INFO - 01:40:28: EPOCH 0 - PROGRESS: at 49.05% examples, 314086 words/s, in_qsize 14, out_qsize 1\n",
      "INFO - 01:41:28: EPOCH 0 - PROGRESS: at 49.46% examples, 314053 words/s, in_qsize 23, out_qsize 0\n",
      "INFO - 01:42:28: EPOCH 0 - PROGRESS: at 49.85% examples, 313937 words/s, in_qsize 23, out_qsize 0\n",
      "INFO - 01:43:28: EPOCH 0 - PROGRESS: at 50.25% examples, 313939 words/s, in_qsize 23, out_qsize 0\n",
      "INFO - 01:44:28: EPOCH 0 - PROGRESS: at 50.67% examples, 313997 words/s, in_qsize 23, out_qsize 0\n",
      "INFO - 01:45:29: EPOCH 0 - PROGRESS: at 51.08% examples, 314017 words/s, in_qsize 23, out_qsize 0\n",
      "INFO - 01:46:29: EPOCH 0 - PROGRESS: at 51.46% examples, 313843 words/s, in_qsize 13, out_qsize 4\n",
      "INFO - 01:47:29: EPOCH 0 - PROGRESS: at 51.87% examples, 313814 words/s, in_qsize 20, out_qsize 1\n",
      "INFO - 01:48:29: EPOCH 0 - PROGRESS: at 52.26% examples, 313717 words/s, in_qsize 23, out_qsize 0\n",
      "INFO - 01:49:29: EPOCH 0 - PROGRESS: at 52.67% examples, 313747 words/s, in_qsize 22, out_qsize 1\n",
      "INFO - 01:50:29: EPOCH 0 - PROGRESS: at 53.09% examples, 313791 words/s, in_qsize 23, out_qsize 1\n",
      "INFO - 01:51:29: EPOCH 0 - PROGRESS: at 53.50% examples, 313823 words/s, in_qsize 23, out_qsize 0\n",
      "INFO - 01:52:29: EPOCH 0 - PROGRESS: at 53.92% examples, 313863 words/s, in_qsize 23, out_qsize 0\n",
      "INFO - 01:53:29: EPOCH 0 - PROGRESS: at 54.34% examples, 313936 words/s, in_qsize 23, out_qsize 0\n",
      "INFO - 01:54:29: EPOCH 0 - PROGRESS: at 54.76% examples, 313991 words/s, in_qsize 23, out_qsize 0\n",
      "INFO - 01:55:29: EPOCH 0 - PROGRESS: at 55.18% examples, 314053 words/s, in_qsize 23, out_qsize 0\n",
      "INFO - 01:56:29: EPOCH 0 - PROGRESS: at 55.59% examples, 314097 words/s, in_qsize 23, out_qsize 0\n",
      "INFO - 01:57:29: EPOCH 0 - PROGRESS: at 56.01% examples, 314129 words/s, in_qsize 21, out_qsize 2\n",
      "INFO - 01:58:29: EPOCH 0 - PROGRESS: at 56.39% examples, 314000 words/s, in_qsize 23, out_qsize 0\n",
      "INFO - 01:59:29: EPOCH 0 - PROGRESS: at 56.80% examples, 313994 words/s, in_qsize 23, out_qsize 0\n",
      "INFO - 02:00:29: EPOCH 0 - PROGRESS: at 57.22% examples, 314041 words/s, in_qsize 23, out_qsize 0\n",
      "INFO - 02:01:29: EPOCH 0 - PROGRESS: at 57.64% examples, 314086 words/s, in_qsize 23, out_qsize 1\n",
      "INFO - 02:02:29: EPOCH 0 - PROGRESS: at 58.05% examples, 314135 words/s, in_qsize 23, out_qsize 0\n",
      "INFO - 02:03:29: EPOCH 0 - PROGRESS: at 58.47% examples, 314179 words/s, in_qsize 22, out_qsize 1\n",
      "INFO - 02:04:29: EPOCH 0 - PROGRESS: at 58.88% examples, 314220 words/s, in_qsize 10, out_qsize 3\n",
      "INFO - 02:05:29: EPOCH 0 - PROGRESS: at 59.30% examples, 314278 words/s, in_qsize 23, out_qsize 0\n",
      "INFO - 02:06:29: EPOCH 0 - PROGRESS: at 59.72% examples, 314334 words/s, in_qsize 23, out_qsize 0\n",
      "INFO - 02:07:29: EPOCH 0 - PROGRESS: at 60.14% examples, 314392 words/s, in_qsize 23, out_qsize 0\n",
      "INFO - 02:08:29: EPOCH 0 - PROGRESS: at 60.56% examples, 314437 words/s, in_qsize 23, out_qsize 0\n",
      "INFO - 02:09:29: EPOCH 0 - PROGRESS: at 60.98% examples, 314487 words/s, in_qsize 23, out_qsize 0\n",
      "INFO - 02:10:29: EPOCH 0 - PROGRESS: at 61.39% examples, 314514 words/s, in_qsize 23, out_qsize 0\n",
      "INFO - 02:11:29: EPOCH 0 - PROGRESS: at 61.79% examples, 314433 words/s, in_qsize 23, out_qsize 1\n",
      "INFO - 02:12:29: EPOCH 0 - PROGRESS: at 62.20% examples, 314444 words/s, in_qsize 18, out_qsize 0\n",
      "INFO - 02:13:29: EPOCH 0 - PROGRESS: at 62.61% examples, 314427 words/s, in_qsize 14, out_qsize 0\n",
      "INFO - 02:14:29: EPOCH 0 - PROGRESS: at 63.02% examples, 314446 words/s, in_qsize 23, out_qsize 0\n",
      "INFO - 02:15:29: EPOCH 0 - PROGRESS: at 63.43% examples, 314466 words/s, in_qsize 23, out_qsize 0\n",
      "INFO - 02:16:29: EPOCH 0 - PROGRESS: at 63.85% examples, 314513 words/s, in_qsize 23, out_qsize 0\n",
      "INFO - 02:17:30: EPOCH 0 - PROGRESS: at 64.24% examples, 314380 words/s, in_qsize 23, out_qsize 0\n",
      "INFO - 02:18:30: EPOCH 0 - PROGRESS: at 64.60% examples, 314178 words/s, in_qsize 24, out_qsize 0\n",
      "INFO - 02:19:30: EPOCH 0 - PROGRESS: at 65.01% examples, 314147 words/s, in_qsize 23, out_qsize 0\n",
      "INFO - 02:20:30: EPOCH 0 - PROGRESS: at 65.40% examples, 314072 words/s, in_qsize 23, out_qsize 0\n",
      "INFO - 02:21:30: EPOCH 0 - PROGRESS: at 65.80% examples, 314007 words/s, in_qsize 23, out_qsize 0\n",
      "INFO - 02:22:30: EPOCH 0 - PROGRESS: at 66.20% examples, 313989 words/s, in_qsize 23, out_qsize 0\n",
      "INFO - 02:23:30: EPOCH 0 - PROGRESS: at 66.61% examples, 313997 words/s, in_qsize 23, out_qsize 0\n",
      "INFO - 02:24:30: EPOCH 0 - PROGRESS: at 67.02% examples, 314011 words/s, in_qsize 11, out_qsize 0\n",
      "INFO - 02:25:30: EPOCH 0 - PROGRESS: at 67.44% examples, 314038 words/s, in_qsize 23, out_qsize 0\n",
      "INFO - 02:26:30: EPOCH 0 - PROGRESS: at 67.85% examples, 314044 words/s, in_qsize 23, out_qsize 0\n",
      "INFO - 02:27:30: EPOCH 0 - PROGRESS: at 68.23% examples, 313916 words/s, in_qsize 23, out_qsize 0\n",
      "INFO - 02:28:30: EPOCH 0 - PROGRESS: at 68.59% examples, 313708 words/s, in_qsize 23, out_qsize 0\n",
      "INFO - 02:29:30: EPOCH 0 - PROGRESS: at 68.99% examples, 313659 words/s, in_qsize 23, out_qsize 0\n",
      "INFO - 02:30:30: EPOCH 0 - PROGRESS: at 69.40% examples, 313653 words/s, in_qsize 23, out_qsize 0\n",
      "INFO - 02:31:30: EPOCH 0 - PROGRESS: at 69.81% examples, 313670 words/s, in_qsize 23, out_qsize 0\n",
      "INFO - 02:32:30: EPOCH 0 - PROGRESS: at 70.22% examples, 313684 words/s, in_qsize 19, out_qsize 6\n",
      "INFO - 02:33:30: EPOCH 0 - PROGRESS: at 70.64% examples, 313730 words/s, in_qsize 23, out_qsize 0\n",
      "INFO - 02:34:30: EPOCH 0 - PROGRESS: at 71.06% examples, 313779 words/s, in_qsize 23, out_qsize 0\n",
      "INFO - 02:35:30: EPOCH 0 - PROGRESS: at 71.47% examples, 313811 words/s, in_qsize 23, out_qsize 0\n",
      "INFO - 02:36:30: EPOCH 0 - PROGRESS: at 71.89% examples, 313845 words/s, in_qsize 11, out_qsize 1\n",
      "INFO - 02:37:30: EPOCH 0 - PROGRESS: at 72.31% examples, 313885 words/s, in_qsize 23, out_qsize 0\n",
      "INFO - 02:38:30: EPOCH 0 - PROGRESS: at 72.73% examples, 313932 words/s, in_qsize 23, out_qsize 0\n",
      "INFO - 02:39:30: EPOCH 0 - PROGRESS: at 73.15% examples, 313977 words/s, in_qsize 23, out_qsize 0\n",
      "INFO - 02:40:30: EPOCH 0 - PROGRESS: at 73.56% examples, 314013 words/s, in_qsize 23, out_qsize 0\n",
      "INFO - 02:41:30: EPOCH 0 - PROGRESS: at 73.98% examples, 314048 words/s, in_qsize 23, out_qsize 0\n",
      "INFO - 02:42:31: EPOCH 0 - PROGRESS: at 74.39% examples, 314080 words/s, in_qsize 17, out_qsize 1\n",
      "INFO - 02:43:31: EPOCH 0 - PROGRESS: at 74.81% examples, 314132 words/s, in_qsize 23, out_qsize 0\n",
      "INFO - 02:44:31: EPOCH 0 - PROGRESS: at 75.23% examples, 314170 words/s, in_qsize 22, out_qsize 1\n",
      "INFO - 02:45:31: EPOCH 0 - PROGRESS: at 75.65% examples, 314221 words/s, in_qsize 23, out_qsize 0\n",
      "INFO - 02:46:31: EPOCH 0 - PROGRESS: at 76.07% examples, 314244 words/s, in_qsize 22, out_qsize 1\n",
      "INFO - 02:47:31: EPOCH 0 - PROGRESS: at 76.48% examples, 314256 words/s, in_qsize 23, out_qsize 0\n",
      "INFO - 02:48:31: EPOCH 0 - PROGRESS: at 76.90% examples, 314291 words/s, in_qsize 23, out_qsize 0\n",
      "INFO - 02:49:31: EPOCH 0 - PROGRESS: at 77.31% examples, 314319 words/s, in_qsize 23, out_qsize 0\n",
      "INFO - 02:50:31: EPOCH 0 - PROGRESS: at 77.73% examples, 314342 words/s, in_qsize 23, out_qsize 0\n",
      "INFO - 02:51:31: EPOCH 0 - PROGRESS: at 78.15% examples, 314376 words/s, in_qsize 23, out_qsize 0\n",
      "INFO - 02:52:31: EPOCH 0 - PROGRESS: at 78.56% examples, 314409 words/s, in_qsize 23, out_qsize 0\n",
      "INFO - 02:53:31: EPOCH 0 - PROGRESS: at 78.98% examples, 314449 words/s, in_qsize 23, out_qsize 0\n",
      "INFO - 02:54:31: EPOCH 0 - PROGRESS: at 79.40% examples, 314489 words/s, in_qsize 23, out_qsize 0\n",
      "INFO - 02:55:31: EPOCH 0 - PROGRESS: at 79.82% examples, 314533 words/s, in_qsize 24, out_qsize 0\n",
      "INFO - 02:56:31: EPOCH 0 - PROGRESS: at 80.24% examples, 314562 words/s, in_qsize 23, out_qsize 0\n",
      "INFO - 02:57:31: EPOCH 0 - PROGRESS: at 80.65% examples, 314566 words/s, in_qsize 22, out_qsize 1\n",
      "INFO - 02:58:31: EPOCH 0 - PROGRESS: at 81.06% examples, 314591 words/s, in_qsize 23, out_qsize 0\n",
      "INFO - 02:59:31: EPOCH 0 - PROGRESS: at 81.48% examples, 314627 words/s, in_qsize 23, out_qsize 0\n",
      "INFO - 03:00:31: EPOCH 0 - PROGRESS: at 81.87% examples, 314544 words/s, in_qsize 23, out_qsize 0\n",
      "INFO - 03:01:31: EPOCH 0 - PROGRESS: at 82.25% examples, 314420 words/s, in_qsize 22, out_qsize 1\n",
      "INFO - 03:02:31: EPOCH 0 - PROGRESS: at 82.63% examples, 314300 words/s, in_qsize 19, out_qsize 0\n",
      "INFO - 03:03:31: EPOCH 0 - PROGRESS: at 83.01% examples, 314218 words/s, in_qsize 23, out_qsize 0\n",
      "INFO - 03:04:31: EPOCH 0 - PROGRESS: at 83.43% examples, 314230 words/s, in_qsize 23, out_qsize 0\n",
      "INFO - 03:05:31: EPOCH 0 - PROGRESS: at 83.84% examples, 314258 words/s, in_qsize 20, out_qsize 0\n",
      "INFO - 03:06:31: EPOCH 0 - PROGRESS: at 84.22% examples, 314151 words/s, in_qsize 23, out_qsize 0\n",
      "INFO - 03:07:31: EPOCH 0 - PROGRESS: at 84.59% examples, 314008 words/s, in_qsize 23, out_qsize 0\n",
      "INFO - 03:08:31: EPOCH 0 - PROGRESS: at 85.00% examples, 314000 words/s, in_qsize 23, out_qsize 0\n",
      "INFO - 03:09:31: EPOCH 0 - PROGRESS: at 85.41% examples, 314018 words/s, in_qsize 23, out_qsize 0\n",
      "INFO - 03:10:32: EPOCH 0 - PROGRESS: at 85.83% examples, 314052 words/s, in_qsize 23, out_qsize 0\n",
      "INFO - 03:11:32: EPOCH 0 - PROGRESS: at 86.24% examples, 314072 words/s, in_qsize 24, out_qsize 0\n",
      "INFO - 03:12:32: EPOCH 0 - PROGRESS: at 86.66% examples, 314104 words/s, in_qsize 23, out_qsize 0\n",
      "INFO - 03:13:32: EPOCH 0 - PROGRESS: at 87.08% examples, 314144 words/s, in_qsize 23, out_qsize 0\n",
      "INFO - 03:14:32: EPOCH 0 - PROGRESS: at 87.50% examples, 314192 words/s, in_qsize 23, out_qsize 0\n",
      "INFO - 03:15:32: EPOCH 0 - PROGRESS: at 87.93% examples, 314237 words/s, in_qsize 22, out_qsize 1\n",
      "INFO - 03:16:32: EPOCH 0 - PROGRESS: at 88.34% examples, 314275 words/s, in_qsize 23, out_qsize 0\n",
      "INFO - 03:17:32: EPOCH 0 - PROGRESS: at 88.76% examples, 314307 words/s, in_qsize 22, out_qsize 1\n",
      "INFO - 03:18:32: EPOCH 0 - PROGRESS: at 89.18% examples, 314352 words/s, in_qsize 23, out_qsize 0\n",
      "INFO - 03:19:32: EPOCH 0 - PROGRESS: at 89.61% examples, 314394 words/s, in_qsize 23, out_qsize 0\n",
      "INFO - 03:20:32: EPOCH 0 - PROGRESS: at 90.03% examples, 314437 words/s, in_qsize 23, out_qsize 0\n",
      "INFO - 03:21:32: EPOCH 0 - PROGRESS: at 90.45% examples, 314466 words/s, in_qsize 23, out_qsize 0\n",
      "INFO - 03:22:32: EPOCH 0 - PROGRESS: at 90.82% examples, 314361 words/s, in_qsize 23, out_qsize 0\n",
      "INFO - 03:23:32: EPOCH 0 - PROGRESS: at 91.23% examples, 314352 words/s, in_qsize 22, out_qsize 1\n",
      "INFO - 03:24:32: EPOCH 0 - PROGRESS: at 91.61% examples, 314256 words/s, in_qsize 23, out_qsize 0\n",
      "INFO - 03:25:32: EPOCH 0 - PROGRESS: at 91.99% examples, 314150 words/s, in_qsize 23, out_qsize 0\n",
      "INFO - 03:26:32: EPOCH 0 - PROGRESS: at 92.37% examples, 314042 words/s, in_qsize 23, out_qsize 0\n",
      "INFO - 03:27:33: EPOCH 0 - PROGRESS: at 92.74% examples, 313934 words/s, in_qsize 17, out_qsize 0\n",
      "INFO - 03:28:33: EPOCH 0 - PROGRESS: at 93.13% examples, 313853 words/s, in_qsize 23, out_qsize 0\n",
      "INFO - 03:29:33: EPOCH 0 - PROGRESS: at 93.51% examples, 313776 words/s, in_qsize 23, out_qsize 0\n",
      "INFO - 03:30:33: EPOCH 0 - PROGRESS: at 93.91% examples, 313742 words/s, in_qsize 23, out_qsize 0\n",
      "INFO - 03:31:33: EPOCH 0 - PROGRESS: at 94.31% examples, 313708 words/s, in_qsize 23, out_qsize 0\n",
      "INFO - 03:32:33: EPOCH 0 - PROGRESS: at 94.69% examples, 313616 words/s, in_qsize 24, out_qsize 0\n",
      "INFO - 03:33:33: EPOCH 0 - PROGRESS: at 95.08% examples, 313570 words/s, in_qsize 18, out_qsize 0\n",
      "INFO - 03:34:33: EPOCH 0 - PROGRESS: at 95.48% examples, 313515 words/s, in_qsize 23, out_qsize 0\n",
      "INFO - 03:35:33: EPOCH 0 - PROGRESS: at 95.88% examples, 313498 words/s, in_qsize 23, out_qsize 0\n",
      "INFO - 03:36:33: EPOCH 0 - PROGRESS: at 96.29% examples, 313517 words/s, in_qsize 24, out_qsize 0\n",
      "INFO - 03:37:33: EPOCH 0 - PROGRESS: at 96.71% examples, 313550 words/s, in_qsize 23, out_qsize 0\n",
      "INFO - 03:38:33: EPOCH 0 - PROGRESS: at 97.13% examples, 313587 words/s, in_qsize 24, out_qsize 0\n",
      "INFO - 03:39:33: EPOCH 0 - PROGRESS: at 97.55% examples, 313615 words/s, in_qsize 23, out_qsize 1\n",
      "INFO - 03:40:33: EPOCH 0 - PROGRESS: at 97.96% examples, 313640 words/s, in_qsize 24, out_qsize 0\n",
      "INFO - 03:41:33: EPOCH 0 - PROGRESS: at 98.38% examples, 313672 words/s, in_qsize 21, out_qsize 0\n",
      "INFO - 03:42:33: EPOCH 0 - PROGRESS: at 98.79% examples, 313695 words/s, in_qsize 23, out_qsize 0\n",
      "INFO - 03:43:33: EPOCH 0 - PROGRESS: at 99.21% examples, 313732 words/s, in_qsize 20, out_qsize 5\n",
      "INFO - 03:44:33: EPOCH 0 - PROGRESS: at 99.63% examples, 313768 words/s, in_qsize 23, out_qsize 0\n",
      "INFO - 03:45:25: EPOCH 0: training on 4718217881 raw words (4613585272 effective words) took 14702.2s, 313803 effective words/s\n",
      "WARNING - 03:45:25: EPOCH 0: supplied example count (41908689) did not equal expected count (41908692)\n",
      "INFO - 03:45:26: EPOCH 1 - PROGRESS: at 0.00% examples, 179337 words/s, in_qsize 22, out_qsize 1\n",
      "INFO - 03:46:26: EPOCH 1 - PROGRESS: at 0.43% examples, 321097 words/s, in_qsize 23, out_qsize 0\n",
      "INFO - 03:47:27: EPOCH 1 - PROGRESS: at 0.85% examples, 322940 words/s, in_qsize 23, out_qsize 0\n",
      "INFO - 03:48:27: EPOCH 1 - PROGRESS: at 1.27% examples, 323117 words/s, in_qsize 23, out_qsize 0\n",
      "INFO - 03:49:27: EPOCH 1 - PROGRESS: at 1.69% examples, 323295 words/s, in_qsize 23, out_qsize 0\n",
      "INFO - 03:50:27: EPOCH 1 - PROGRESS: at 2.11% examples, 323485 words/s, in_qsize 24, out_qsize 0\n",
      "INFO - 03:51:27: EPOCH 1 - PROGRESS: at 2.53% examples, 323508 words/s, in_qsize 23, out_qsize 0\n",
      "INFO - 03:52:27: EPOCH 1 - PROGRESS: at 2.96% examples, 323481 words/s, in_qsize 23, out_qsize 0\n",
      "INFO - 03:53:27: EPOCH 1 - PROGRESS: at 3.37% examples, 323127 words/s, in_qsize 24, out_qsize 1\n",
      "INFO - 03:54:27: EPOCH 1 - PROGRESS: at 3.78% examples, 322145 words/s, in_qsize 23, out_qsize 0\n",
      "INFO - 03:55:27: EPOCH 1 - PROGRESS: at 4.20% examples, 321961 words/s, in_qsize 24, out_qsize 0\n",
      "INFO - 03:56:27: EPOCH 1 - PROGRESS: at 4.62% examples, 322075 words/s, in_qsize 22, out_qsize 1\n",
      "INFO - 03:57:27: EPOCH 1 - PROGRESS: at 5.04% examples, 322158 words/s, in_qsize 23, out_qsize 0\n",
      "INFO - 03:58:27: EPOCH 1 - PROGRESS: at 5.45% examples, 321842 words/s, in_qsize 23, out_qsize 1\n",
      "INFO - 03:59:27: EPOCH 1 - PROGRESS: at 5.87% examples, 321931 words/s, in_qsize 23, out_qsize 0\n",
      "INFO - 04:00:27: EPOCH 1 - PROGRESS: at 6.30% examples, 322087 words/s, in_qsize 23, out_qsize 0\n",
      "INFO - 04:01:27: EPOCH 1 - PROGRESS: at 6.72% examples, 322154 words/s, in_qsize 23, out_qsize 0\n",
      "INFO - 04:02:27: EPOCH 1 - PROGRESS: at 7.14% examples, 322186 words/s, in_qsize 23, out_qsize 0\n",
      "INFO - 04:03:27: EPOCH 1 - PROGRESS: at 7.56% examples, 322278 words/s, in_qsize 13, out_qsize 0\n",
      "INFO - 04:04:27: EPOCH 1 - PROGRESS: at 7.94% examples, 320893 words/s, in_qsize 24, out_qsize 0\n",
      "INFO - 04:05:27: EPOCH 1 - PROGRESS: at 8.35% examples, 320405 words/s, in_qsize 23, out_qsize 0\n",
      "INFO - 04:06:27: EPOCH 1 - PROGRESS: at 8.77% examples, 320458 words/s, in_qsize 24, out_qsize 1\n",
      "INFO - 04:07:27: EPOCH 1 - PROGRESS: at 9.15% examples, 319243 words/s, in_qsize 23, out_qsize 0\n",
      "INFO - 04:08:27: EPOCH 1 - PROGRESS: at 9.52% examples, 317715 words/s, in_qsize 22, out_qsize 1\n",
      "INFO - 04:09:27: EPOCH 1 - PROGRESS: at 9.89% examples, 316490 words/s, in_qsize 23, out_qsize 0\n",
      "INFO - 04:10:27: EPOCH 1 - PROGRESS: at 10.30% examples, 316269 words/s, in_qsize 23, out_qsize 0\n",
      "INFO - 04:11:27: EPOCH 1 - PROGRESS: at 10.70% examples, 315836 words/s, in_qsize 23, out_qsize 0\n",
      "INFO - 04:12:27: EPOCH 1 - PROGRESS: at 11.09% examples, 315423 words/s, in_qsize 24, out_qsize 0\n",
      "INFO - 04:13:27: EPOCH 1 - PROGRESS: at 11.51% examples, 315521 words/s, in_qsize 23, out_qsize 0\n",
      "INFO - 04:14:27: EPOCH 1 - PROGRESS: at 11.92% examples, 315687 words/s, in_qsize 19, out_qsize 0\n",
      "INFO - 04:15:27: EPOCH 1 - PROGRESS: at 12.34% examples, 315796 words/s, in_qsize 23, out_qsize 0\n",
      "INFO - 04:16:27: EPOCH 1 - PROGRESS: at 12.76% examples, 316006 words/s, in_qsize 21, out_qsize 0\n",
      "INFO - 04:17:27: EPOCH 1 - PROGRESS: at 13.18% examples, 316238 words/s, in_qsize 23, out_qsize 0\n",
      "INFO - 04:18:27: EPOCH 1 - PROGRESS: at 13.60% examples, 316519 words/s, in_qsize 24, out_qsize 0\n",
      "INFO - 04:19:27: EPOCH 1 - PROGRESS: at 14.03% examples, 316761 words/s, in_qsize 23, out_qsize 0\n",
      "INFO - 04:20:27: EPOCH 1 - PROGRESS: at 14.41% examples, 316138 words/s, in_qsize 22, out_qsize 1\n",
      "INFO - 04:21:27: EPOCH 1 - PROGRESS: at 14.82% examples, 316037 words/s, in_qsize 23, out_qsize 0\n",
      "INFO - 04:22:28: EPOCH 1 - PROGRESS: at 15.20% examples, 315378 words/s, in_qsize 23, out_qsize 0\n",
      "INFO - 04:23:28: EPOCH 1 - PROGRESS: at 15.60% examples, 315270 words/s, in_qsize 23, out_qsize 0\n",
      "INFO - 04:24:28: EPOCH 1 - PROGRESS: at 15.98% examples, 314658 words/s, in_qsize 21, out_qsize 1\n",
      "INFO - 04:25:28: EPOCH 1 - PROGRESS: at 16.35% examples, 313917 words/s, in_qsize 23, out_qsize 0\n",
      "INFO - 04:26:28: EPOCH 1 - PROGRESS: at 16.76% examples, 313844 words/s, in_qsize 23, out_qsize 0\n",
      "INFO - 04:27:28: EPOCH 1 - PROGRESS: at 17.17% examples, 313956 words/s, in_qsize 23, out_qsize 0\n",
      "INFO - 04:28:28: EPOCH 1 - PROGRESS: at 17.59% examples, 314125 words/s, in_qsize 23, out_qsize 0\n",
      "INFO - 04:29:28: EPOCH 1 - PROGRESS: at 18.01% examples, 314324 words/s, in_qsize 18, out_qsize 2\n",
      "INFO - 04:30:28: EPOCH 1 - PROGRESS: at 18.43% examples, 314541 words/s, in_qsize 23, out_qsize 0\n",
      "INFO - 04:31:28: EPOCH 1 - PROGRESS: at 18.85% examples, 314716 words/s, in_qsize 23, out_qsize 0\n",
      "INFO - 04:32:28: EPOCH 1 - PROGRESS: at 19.27% examples, 314897 words/s, in_qsize 23, out_qsize 0\n",
      "INFO - 04:33:28: EPOCH 1 - PROGRESS: at 19.69% examples, 315076 words/s, in_qsize 23, out_qsize 0\n",
      "INFO - 04:34:28: EPOCH 1 - PROGRESS: at 20.11% examples, 315183 words/s, in_qsize 15, out_qsize 4\n",
      "INFO - 04:35:28: EPOCH 1 - PROGRESS: at 20.53% examples, 315360 words/s, in_qsize 23, out_qsize 0\n",
      "INFO - 04:36:28: EPOCH 1 - PROGRESS: at 20.95% examples, 315536 words/s, in_qsize 23, out_qsize 0\n",
      "INFO - 04:37:28: EPOCH 1 - PROGRESS: at 21.37% examples, 315645 words/s, in_qsize 23, out_qsize 1\n",
      "INFO - 04:38:28: EPOCH 1 - PROGRESS: at 21.78% examples, 315654 words/s, in_qsize 21, out_qsize 1\n",
      "INFO - 04:39:28: EPOCH 1 - PROGRESS: at 22.19% examples, 315671 words/s, in_qsize 23, out_qsize 0\n",
      "INFO - 04:40:28: EPOCH 1 - PROGRESS: at 22.60% examples, 315662 words/s, in_qsize 23, out_qsize 0\n",
      "INFO - 04:41:28: EPOCH 1 - PROGRESS: at 23.02% examples, 315763 words/s, in_qsize 21, out_qsize 0\n",
      "INFO - 04:42:28: EPOCH 1 - PROGRESS: at 23.44% examples, 315857 words/s, in_qsize 23, out_qsize 2\n",
      "INFO - 04:43:28: EPOCH 1 - PROGRESS: at 23.86% examples, 315934 words/s, in_qsize 24, out_qsize 0\n",
      "INFO - 04:44:28: EPOCH 1 - PROGRESS: at 24.27% examples, 316006 words/s, in_qsize 23, out_qsize 0\n",
      "INFO - 04:45:28: EPOCH 1 - PROGRESS: at 24.69% examples, 316072 words/s, in_qsize 22, out_qsize 0\n",
      "INFO - 04:46:29: EPOCH 1 - PROGRESS: at 25.11% examples, 316149 words/s, in_qsize 23, out_qsize 0\n",
      "INFO - 04:47:29: EPOCH 1 - PROGRESS: at 25.53% examples, 316271 words/s, in_qsize 23, out_qsize 0\n",
      "INFO - 04:48:29: EPOCH 1 - PROGRESS: at 25.95% examples, 316384 words/s, in_qsize 24, out_qsize 0\n",
      "INFO - 04:49:29: EPOCH 1 - PROGRESS: at 26.37% examples, 316498 words/s, in_qsize 23, out_qsize 0\n",
      "INFO - 04:50:29: EPOCH 1 - PROGRESS: at 26.79% examples, 316608 words/s, in_qsize 23, out_qsize 1\n",
      "INFO - 04:51:29: EPOCH 1 - PROGRESS: at 27.21% examples, 316676 words/s, in_qsize 23, out_qsize 0\n",
      "INFO - 04:52:29: EPOCH 1 - PROGRESS: at 27.63% examples, 316737 words/s, in_qsize 23, out_qsize 0\n",
      "INFO - 04:53:29: EPOCH 1 - PROGRESS: at 28.05% examples, 316837 words/s, in_qsize 23, out_qsize 0\n",
      "INFO - 04:54:29: EPOCH 1 - PROGRESS: at 28.47% examples, 316952 words/s, in_qsize 23, out_qsize 0\n",
      "INFO - 04:55:29: EPOCH 1 - PROGRESS: at 28.89% examples, 317055 words/s, in_qsize 24, out_qsize 0\n",
      "INFO - 04:56:29: EPOCH 1 - PROGRESS: at 29.31% examples, 317154 words/s, in_qsize 23, out_qsize 0\n",
      "INFO - 04:57:29: EPOCH 1 - PROGRESS: at 29.74% examples, 317256 words/s, in_qsize 23, out_qsize 0\n",
      "INFO - 04:58:29: EPOCH 1 - PROGRESS: at 30.15% examples, 317296 words/s, in_qsize 21, out_qsize 0\n",
      "INFO - 04:59:29: EPOCH 1 - PROGRESS: at 30.57% examples, 317376 words/s, in_qsize 23, out_qsize 0\n",
      "INFO - 05:00:29: EPOCH 1 - PROGRESS: at 30.99% examples, 317431 words/s, in_qsize 23, out_qsize 0\n",
      "INFO - 05:01:29: EPOCH 1 - PROGRESS: at 31.42% examples, 317529 words/s, in_qsize 23, out_qsize 0\n",
      "INFO - 05:02:29: EPOCH 1 - PROGRESS: at 31.84% examples, 317622 words/s, in_qsize 23, out_qsize 0\n",
      "INFO - 05:03:29: EPOCH 1 - PROGRESS: at 32.26% examples, 317729 words/s, in_qsize 23, out_qsize 0\n",
      "INFO - 05:04:29: EPOCH 1 - PROGRESS: at 32.69% examples, 317827 words/s, in_qsize 23, out_qsize 0\n",
      "INFO - 05:05:29: EPOCH 1 - PROGRESS: at 33.11% examples, 317898 words/s, in_qsize 23, out_qsize 0\n",
      "INFO - 05:06:29: EPOCH 1 - PROGRESS: at 33.53% examples, 317955 words/s, in_qsize 23, out_qsize 0\n",
      "INFO - 05:07:29: EPOCH 1 - PROGRESS: at 33.92% examples, 317757 words/s, in_qsize 23, out_qsize 0\n",
      "INFO - 05:08:29: EPOCH 1 - PROGRESS: at 34.31% examples, 317518 words/s, in_qsize 23, out_qsize 0\n",
      "INFO - 05:09:29: EPOCH 1 - PROGRESS: at 34.72% examples, 317495 words/s, in_qsize 23, out_qsize 0\n",
      "INFO - 05:10:29: EPOCH 1 - PROGRESS: at 35.13% examples, 317533 words/s, in_qsize 23, out_qsize 0\n",
      "INFO - 05:11:29: EPOCH 1 - PROGRESS: at 35.55% examples, 317575 words/s, in_qsize 23, out_qsize 0\n",
      "INFO - 05:12:29: EPOCH 1 - PROGRESS: at 35.97% examples, 317611 words/s, in_qsize 24, out_qsize 0\n",
      "INFO - 05:13:29: EPOCH 1 - PROGRESS: at 36.39% examples, 317671 words/s, in_qsize 23, out_qsize 0\n",
      "INFO - 05:14:29: EPOCH 1 - PROGRESS: at 36.80% examples, 317693 words/s, in_qsize 23, out_qsize 0\n",
      "INFO - 05:15:29: EPOCH 1 - PROGRESS: at 37.22% examples, 317748 words/s, in_qsize 24, out_qsize 0\n",
      "INFO - 05:16:29: EPOCH 1 - PROGRESS: at 37.64% examples, 317788 words/s, in_qsize 23, out_qsize 0\n",
      "INFO - 05:17:29: EPOCH 1 - PROGRESS: at 38.06% examples, 317833 words/s, in_qsize 24, out_qsize 0\n",
      "INFO - 05:18:29: EPOCH 1 - PROGRESS: at 38.48% examples, 317882 words/s, in_qsize 23, out_qsize 0\n",
      "INFO - 05:19:30: EPOCH 1 - PROGRESS: at 38.91% examples, 317973 words/s, in_qsize 23, out_qsize 0\n",
      "INFO - 05:20:30: EPOCH 1 - PROGRESS: at 39.30% examples, 317829 words/s, in_qsize 22, out_qsize 1\n",
      "INFO - 05:21:30: EPOCH 1 - PROGRESS: at 39.70% examples, 317727 words/s, in_qsize 23, out_qsize 0\n",
      "INFO - 05:22:30: EPOCH 1 - PROGRESS: at 40.12% examples, 317737 words/s, in_qsize 22, out_qsize 1\n",
      "INFO - 05:23:30: EPOCH 1 - PROGRESS: at 40.53% examples, 317749 words/s, in_qsize 23, out_qsize 0\n",
      "INFO - 05:24:30: EPOCH 1 - PROGRESS: at 40.94% examples, 317669 words/s, in_qsize 23, out_qsize 0\n",
      "INFO - 05:25:30: EPOCH 1 - PROGRESS: at 41.34% examples, 317570 words/s, in_qsize 23, out_qsize 0\n",
      "INFO - 05:26:30: EPOCH 1 - PROGRESS: at 41.74% examples, 317514 words/s, in_qsize 23, out_qsize 0\n",
      "INFO - 05:27:30: EPOCH 1 - PROGRESS: at 42.14% examples, 317399 words/s, in_qsize 22, out_qsize 2\n",
      "INFO - 05:28:30: EPOCH 1 - PROGRESS: at 42.55% examples, 317417 words/s, in_qsize 23, out_qsize 0\n",
      "INFO - 05:29:30: EPOCH 1 - PROGRESS: at 42.97% examples, 317453 words/s, in_qsize 23, out_qsize 0\n",
      "INFO - 05:30:30: EPOCH 1 - PROGRESS: at 43.39% examples, 317463 words/s, in_qsize 23, out_qsize 0\n",
      "INFO - 05:31:30: EPOCH 1 - PROGRESS: at 43.81% examples, 317516 words/s, in_qsize 24, out_qsize 0\n",
      "INFO - 05:32:30: EPOCH 1 - PROGRESS: at 44.19% examples, 317313 words/s, in_qsize 24, out_qsize 0\n",
      "INFO - 05:33:30: EPOCH 1 - PROGRESS: at 44.60% examples, 317307 words/s, in_qsize 23, out_qsize 0\n",
      "INFO - 05:34:30: EPOCH 1 - PROGRESS: at 45.02% examples, 317313 words/s, in_qsize 22, out_qsize 1\n",
      "INFO - 05:35:30: EPOCH 1 - PROGRESS: at 45.43% examples, 317337 words/s, in_qsize 23, out_qsize 0\n",
      "INFO - 05:36:30: EPOCH 1 - PROGRESS: at 45.85% examples, 317340 words/s, in_qsize 23, out_qsize 0\n",
      "INFO - 05:37:30: EPOCH 1 - PROGRESS: at 46.26% examples, 317369 words/s, in_qsize 23, out_qsize 0\n",
      "INFO - 05:38:30: EPOCH 1 - PROGRESS: at 46.68% examples, 317387 words/s, in_qsize 23, out_qsize 0\n",
      "INFO - 05:39:30: EPOCH 1 - PROGRESS: at 47.09% examples, 317394 words/s, in_qsize 23, out_qsize 0\n",
      "INFO - 05:40:30: EPOCH 1 - PROGRESS: at 47.51% examples, 317413 words/s, in_qsize 23, out_qsize 0\n",
      "INFO - 05:41:30: EPOCH 1 - PROGRESS: at 47.93% examples, 317472 words/s, in_qsize 23, out_qsize 0\n",
      "INFO - 05:42:30: EPOCH 1 - PROGRESS: at 48.35% examples, 317548 words/s, in_qsize 23, out_qsize 0\n",
      "INFO - 05:43:30: EPOCH 1 - PROGRESS: at 48.78% examples, 317601 words/s, in_qsize 23, out_qsize 0\n",
      "INFO - 05:44:30: EPOCH 1 - PROGRESS: at 49.20% examples, 317661 words/s, in_qsize 22, out_qsize 1\n",
      "INFO - 05:45:30: EPOCH 1 - PROGRESS: at 49.62% examples, 317712 words/s, in_qsize 22, out_qsize 1\n",
      "INFO - 05:46:30: EPOCH 1 - PROGRESS: at 50.04% examples, 317751 words/s, in_qsize 23, out_qsize 0\n",
      "INFO - 05:47:30: EPOCH 1 - PROGRESS: at 50.46% examples, 317804 words/s, in_qsize 22, out_qsize 1\n",
      "INFO - 05:48:30: EPOCH 1 - PROGRESS: at 50.88% examples, 317830 words/s, in_qsize 22, out_qsize 1\n",
      "INFO - 05:49:30: EPOCH 1 - PROGRESS: at 51.30% examples, 317878 words/s, in_qsize 24, out_qsize 0\n",
      "INFO - 05:50:31: EPOCH 1 - PROGRESS: at 51.72% examples, 317928 words/s, in_qsize 23, out_qsize 0\n",
      "INFO - 05:51:31: EPOCH 1 - PROGRESS: at 52.14% examples, 317975 words/s, in_qsize 23, out_qsize 0\n",
      "INFO - 05:52:31: EPOCH 1 - PROGRESS: at 52.52% examples, 317780 words/s, in_qsize 23, out_qsize 0\n",
      "INFO - 05:53:31: EPOCH 1 - PROGRESS: at 52.93% examples, 317737 words/s, in_qsize 23, out_qsize 1\n",
      "INFO - 05:54:31: EPOCH 1 - PROGRESS: at 53.35% examples, 317772 words/s, in_qsize 17, out_qsize 0\n",
      "INFO - 05:55:31: EPOCH 1 - PROGRESS: at 53.77% examples, 317799 words/s, in_qsize 23, out_qsize 0\n",
      "INFO - 05:56:31: EPOCH 1 - PROGRESS: at 54.18% examples, 317811 words/s, in_qsize 16, out_qsize 3\n",
      "INFO - 05:57:31: EPOCH 1 - PROGRESS: at 54.60% examples, 317836 words/s, in_qsize 21, out_qsize 2\n",
      "INFO - 05:58:31: EPOCH 1 - PROGRESS: at 55.02% examples, 317873 words/s, in_qsize 23, out_qsize 0\n",
      "INFO - 05:59:31: EPOCH 1 - PROGRESS: at 55.44% examples, 317930 words/s, in_qsize 23, out_qsize 0\n",
      "INFO - 06:00:31: EPOCH 1 - PROGRESS: at 55.87% examples, 317976 words/s, in_qsize 23, out_qsize 0\n",
      "INFO - 06:01:31: EPOCH 1 - PROGRESS: at 56.29% examples, 318016 words/s, in_qsize 23, out_qsize 0\n",
      "INFO - 06:02:31: EPOCH 1 - PROGRESS: at 56.71% examples, 318040 words/s, in_qsize 23, out_qsize 0\n",
      "INFO - 06:03:31: EPOCH 1 - PROGRESS: at 57.12% examples, 318064 words/s, in_qsize 24, out_qsize 0\n",
      "INFO - 06:04:31: EPOCH 1 - PROGRESS: at 57.54% examples, 318097 words/s, in_qsize 23, out_qsize 0\n",
      "INFO - 06:05:31: EPOCH 1 - PROGRESS: at 57.96% examples, 318109 words/s, in_qsize 22, out_qsize 1\n",
      "INFO - 06:06:31: EPOCH 1 - PROGRESS: at 58.38% examples, 318148 words/s, in_qsize 23, out_qsize 0\n",
      "INFO - 06:07:31: EPOCH 1 - PROGRESS: at 58.80% examples, 318189 words/s, in_qsize 23, out_qsize 0\n",
      "INFO - 06:08:31: EPOCH 1 - PROGRESS: at 59.22% examples, 318214 words/s, in_qsize 18, out_qsize 0\n",
      "INFO - 06:09:31: EPOCH 1 - PROGRESS: at 59.64% examples, 318244 words/s, in_qsize 23, out_qsize 0\n",
      "INFO - 06:10:31: EPOCH 1 - PROGRESS: at 60.05% examples, 318242 words/s, in_qsize 23, out_qsize 0\n",
      "INFO - 06:11:31: EPOCH 1 - PROGRESS: at 60.47% examples, 318265 words/s, in_qsize 23, out_qsize 0\n",
      "INFO - 06:12:31: EPOCH 1 - PROGRESS: at 60.87% examples, 318172 words/s, in_qsize 16, out_qsize 1\n",
      "INFO - 06:13:31: EPOCH 1 - PROGRESS: at 61.28% examples, 318167 words/s, in_qsize 21, out_qsize 2\n",
      "INFO - 06:14:31: EPOCH 1 - PROGRESS: at 61.70% examples, 318195 words/s, in_qsize 22, out_qsize 1\n",
      "INFO - 06:15:31: EPOCH 1 - PROGRESS: at 62.12% examples, 318230 words/s, in_qsize 23, out_qsize 0\n",
      "INFO - 06:16:31: EPOCH 1 - PROGRESS: at 62.54% examples, 318245 words/s, in_qsize 23, out_qsize 0\n",
      "INFO - 06:17:31: EPOCH 1 - PROGRESS: at 62.96% examples, 318285 words/s, in_qsize 23, out_qsize 0\n",
      "INFO - 06:18:31: EPOCH 1 - PROGRESS: at 63.38% examples, 318334 words/s, in_qsize 23, out_qsize 0\n",
      "INFO - 06:19:31: EPOCH 1 - PROGRESS: at 63.80% examples, 318350 words/s, in_qsize 21, out_qsize 3\n",
      "INFO - 06:20:31: EPOCH 1 - PROGRESS: at 64.22% examples, 318373 words/s, in_qsize 23, out_qsize 0\n",
      "INFO - 06:21:31: EPOCH 1 - PROGRESS: at 64.64% examples, 318403 words/s, in_qsize 23, out_qsize 0\n",
      "INFO - 06:22:31: EPOCH 1 - PROGRESS: at 65.07% examples, 318449 words/s, in_qsize 12, out_qsize 0\n",
      "INFO - 06:23:31: EPOCH 1 - PROGRESS: at 65.48% examples, 318456 words/s, in_qsize 21, out_qsize 2\n",
      "INFO - 06:24:31: EPOCH 1 - PROGRESS: at 65.91% examples, 318502 words/s, in_qsize 23, out_qsize 0\n",
      "INFO - 06:25:32: EPOCH 1 - PROGRESS: at 66.33% examples, 318546 words/s, in_qsize 23, out_qsize 0\n",
      "INFO - 06:26:32: EPOCH 1 - PROGRESS: at 66.75% examples, 318556 words/s, in_qsize 23, out_qsize 0\n",
      "INFO - 06:27:32: EPOCH 1 - PROGRESS: at 67.16% examples, 318543 words/s, in_qsize 23, out_qsize 0\n",
      "INFO - 06:28:32: EPOCH 1 - PROGRESS: at 67.58% examples, 318557 words/s, in_qsize 23, out_qsize 0\n",
      "INFO - 06:29:32: EPOCH 1 - PROGRESS: at 68.00% examples, 318601 words/s, in_qsize 23, out_qsize 0\n",
      "INFO - 06:30:32: EPOCH 1 - PROGRESS: at 68.42% examples, 318642 words/s, in_qsize 23, out_qsize 0\n",
      "INFO - 06:31:32: EPOCH 1 - PROGRESS: at 68.85% examples, 318673 words/s, in_qsize 23, out_qsize 0\n",
      "INFO - 06:32:32: EPOCH 1 - PROGRESS: at 69.26% examples, 318685 words/s, in_qsize 20, out_qsize 0\n",
      "INFO - 06:33:32: EPOCH 1 - PROGRESS: at 69.68% examples, 318700 words/s, in_qsize 23, out_qsize 0\n",
      "INFO - 06:34:32: EPOCH 1 - PROGRESS: at 70.10% examples, 318705 words/s, in_qsize 23, out_qsize 0\n",
      "INFO - 06:35:32: EPOCH 1 - PROGRESS: at 70.51% examples, 318714 words/s, in_qsize 22, out_qsize 1\n",
      "INFO - 06:36:32: EPOCH 1 - PROGRESS: at 70.94% examples, 318760 words/s, in_qsize 23, out_qsize 0\n",
      "INFO - 06:37:32: EPOCH 1 - PROGRESS: at 71.36% examples, 318804 words/s, in_qsize 13, out_qsize 0\n",
      "INFO - 06:38:32: EPOCH 1 - PROGRESS: at 71.78% examples, 318824 words/s, in_qsize 23, out_qsize 0\n",
      "INFO - 06:39:32: EPOCH 1 - PROGRESS: at 72.20% examples, 318828 words/s, in_qsize 15, out_qsize 3\n",
      "INFO - 06:40:32: EPOCH 1 - PROGRESS: at 72.62% examples, 318861 words/s, in_qsize 23, out_qsize 0\n",
      "INFO - 06:41:32: EPOCH 1 - PROGRESS: at 73.04% examples, 318897 words/s, in_qsize 22, out_qsize 1\n",
      "INFO - 06:42:32: EPOCH 1 - PROGRESS: at 73.43% examples, 318773 words/s, in_qsize 23, out_qsize 0\n",
      "INFO - 06:43:32: EPOCH 1 - PROGRESS: at 73.84% examples, 318751 words/s, in_qsize 23, out_qsize 0\n",
      "INFO - 06:44:32: EPOCH 1 - PROGRESS: at 74.25% examples, 318751 words/s, in_qsize 23, out_qsize 0\n",
      "INFO - 06:45:32: EPOCH 1 - PROGRESS: at 74.67% examples, 318755 words/s, in_qsize 22, out_qsize 1\n",
      "INFO - 06:46:32: EPOCH 1 - PROGRESS: at 75.09% examples, 318785 words/s, in_qsize 23, out_qsize 0\n",
      "INFO - 06:47:32: EPOCH 1 - PROGRESS: at 75.51% examples, 318811 words/s, in_qsize 22, out_qsize 1\n",
      "INFO - 06:48:32: EPOCH 1 - PROGRESS: at 75.94% examples, 318850 words/s, in_qsize 23, out_qsize 0\n",
      "INFO - 06:49:32: EPOCH 1 - PROGRESS: at 76.36% examples, 318886 words/s, in_qsize 23, out_qsize 0\n",
      "INFO - 06:50:32: EPOCH 1 - PROGRESS: at 76.77% examples, 318889 words/s, in_qsize 23, out_qsize 0\n",
      "INFO - 06:51:32: EPOCH 1 - PROGRESS: at 77.19% examples, 318910 words/s, in_qsize 23, out_qsize 0\n",
      "INFO - 06:52:32: EPOCH 1 - PROGRESS: at 77.61% examples, 318923 words/s, in_qsize 23, out_qsize 0\n",
      "INFO - 06:53:32: EPOCH 1 - PROGRESS: at 78.03% examples, 318947 words/s, in_qsize 24, out_qsize 0\n",
      "INFO - 06:54:32: EPOCH 1 - PROGRESS: at 78.45% examples, 318964 words/s, in_qsize 23, out_qsize 0\n",
      "INFO - 06:55:32: EPOCH 1 - PROGRESS: at 78.87% examples, 318986 words/s, in_qsize 24, out_qsize 0\n",
      "INFO - 06:56:33: EPOCH 1 - PROGRESS: at 79.29% examples, 319007 words/s, in_qsize 23, out_qsize 0\n",
      "INFO - 06:57:33: EPOCH 1 - PROGRESS: at 79.68% examples, 318904 words/s, in_qsize 23, out_qsize 0\n",
      "INFO - 06:58:33: EPOCH 1 - PROGRESS: at 80.09% examples, 318889 words/s, in_qsize 23, out_qsize 0\n",
      "INFO - 06:59:33: EPOCH 1 - PROGRESS: at 80.51% examples, 318913 words/s, in_qsize 23, out_qsize 0\n",
      "INFO - 07:00:33: EPOCH 1 - PROGRESS: at 80.93% examples, 318927 words/s, in_qsize 20, out_qsize 1\n",
      "INFO - 07:01:33: EPOCH 1 - PROGRESS: at 81.35% examples, 318937 words/s, in_qsize 22, out_qsize 1\n",
      "INFO - 07:02:33: EPOCH 1 - PROGRESS: at 81.74% examples, 318814 words/s, in_qsize 23, out_qsize 0\n",
      "INFO - 07:03:33: EPOCH 1 - PROGRESS: at 82.11% examples, 318657 words/s, in_qsize 22, out_qsize 0\n",
      "INFO - 07:04:33: EPOCH 1 - PROGRESS: at 82.49% examples, 318514 words/s, in_qsize 20, out_qsize 7\n",
      "INFO - 07:05:33: EPOCH 1 - PROGRESS: at 82.90% examples, 318493 words/s, in_qsize 23, out_qsize 1\n",
      "INFO - 07:06:33: EPOCH 1 - PROGRESS: at 83.29% examples, 318434 words/s, in_qsize 13, out_qsize 0\n",
      "INFO - 07:07:33: EPOCH 1 - PROGRESS: at 83.69% examples, 318370 words/s, in_qsize 22, out_qsize 1\n",
      "INFO - 07:08:33: EPOCH 1 - PROGRESS: at 84.11% examples, 318374 words/s, in_qsize 23, out_qsize 0\n",
      "INFO - 07:09:33: EPOCH 1 - PROGRESS: at 84.52% examples, 318372 words/s, in_qsize 22, out_qsize 1\n",
      "INFO - 07:10:33: EPOCH 1 - PROGRESS: at 84.94% examples, 318380 words/s, in_qsize 23, out_qsize 0\n",
      "INFO - 07:11:33: EPOCH 1 - PROGRESS: at 85.36% examples, 318395 words/s, in_qsize 23, out_qsize 0\n",
      "INFO - 07:12:33: EPOCH 1 - PROGRESS: at 85.77% examples, 318406 words/s, in_qsize 23, out_qsize 0\n",
      "INFO - 07:13:33: EPOCH 1 - PROGRESS: at 86.19% examples, 318430 words/s, in_qsize 23, out_qsize 0\n",
      "INFO - 07:14:33: EPOCH 1 - PROGRESS: at 86.57% examples, 318297 words/s, in_qsize 23, out_qsize 0\n",
      "INFO - 07:15:33: EPOCH 1 - PROGRESS: at 86.94% examples, 318123 words/s, in_qsize 23, out_qsize 0\n",
      "INFO - 07:16:33: EPOCH 1 - PROGRESS: at 87.33% examples, 318036 words/s, in_qsize 20, out_qsize 0\n",
      "INFO - 07:17:33: EPOCH 1 - PROGRESS: at 87.73% examples, 318004 words/s, in_qsize 15, out_qsize 1\n",
      "INFO - 07:18:33: EPOCH 1 - PROGRESS: at 88.14% examples, 317996 words/s, in_qsize 23, out_qsize 0\n",
      "INFO - 07:19:33: EPOCH 1 - PROGRESS: at 88.53% examples, 317893 words/s, in_qsize 23, out_qsize 0\n",
      "INFO - 07:20:33: EPOCH 1 - PROGRESS: at 88.93% examples, 317864 words/s, in_qsize 22, out_qsize 1\n",
      "INFO - 07:21:33: EPOCH 1 - PROGRESS: at 89.35% examples, 317873 words/s, in_qsize 24, out_qsize 1\n",
      "INFO - 07:22:33: EPOCH 1 - PROGRESS: at 89.73% examples, 317745 words/s, in_qsize 23, out_qsize 0\n",
      "INFO - 07:23:33: EPOCH 1 - PROGRESS: at 90.10% examples, 317590 words/s, in_qsize 23, out_qsize 0\n",
      "INFO - 07:24:33: EPOCH 1 - PROGRESS: at 90.47% examples, 317440 words/s, in_qsize 23, out_qsize 0\n",
      "INFO - 07:25:33: EPOCH 1 - PROGRESS: at 90.84% examples, 317316 words/s, in_qsize 23, out_qsize 0\n",
      "INFO - 07:26:33: EPOCH 1 - PROGRESS: at 91.23% examples, 317213 words/s, in_qsize 23, out_qsize 0\n",
      "INFO - 07:27:33: EPOCH 1 - PROGRESS: at 91.62% examples, 317137 words/s, in_qsize 23, out_qsize 0\n",
      "INFO - 07:28:33: EPOCH 1 - PROGRESS: at 92.02% examples, 317084 words/s, in_qsize 22, out_qsize 1\n",
      "INFO - 07:29:33: EPOCH 1 - PROGRESS: at 92.43% examples, 317077 words/s, in_qsize 24, out_qsize 0\n",
      "INFO - 07:30:33: EPOCH 1 - PROGRESS: at 92.81% examples, 316977 words/s, in_qsize 22, out_qsize 1\n",
      "INFO - 07:31:33: EPOCH 1 - PROGRESS: at 93.18% examples, 316835 words/s, in_qsize 24, out_qsize 0\n",
      "INFO - 07:32:34: EPOCH 1 - PROGRESS: at 93.54% examples, 316662 words/s, in_qsize 23, out_qsize 0\n",
      "INFO - 07:33:34: EPOCH 1 - PROGRESS: at 93.94% examples, 316625 words/s, in_qsize 23, out_qsize 0\n",
      "INFO - 07:34:34: EPOCH 1 - PROGRESS: at 94.33% examples, 316556 words/s, in_qsize 23, out_qsize 0\n",
      "INFO - 07:35:34: EPOCH 1 - PROGRESS: at 94.72% examples, 316484 words/s, in_qsize 14, out_qsize 2\n",
      "INFO - 07:36:34: EPOCH 1 - PROGRESS: at 95.13% examples, 316482 words/s, in_qsize 21, out_qsize 2\n",
      "INFO - 07:37:34: EPOCH 1 - PROGRESS: at 95.55% examples, 316486 words/s, in_qsize 23, out_qsize 0\n",
      "INFO - 07:38:34: EPOCH 1 - PROGRESS: at 95.96% examples, 316491 words/s, in_qsize 23, out_qsize 0\n",
      "INFO - 07:39:34: EPOCH 1 - PROGRESS: at 96.38% examples, 316501 words/s, in_qsize 23, out_qsize 0\n",
      "INFO - 07:40:34: EPOCH 1 - PROGRESS: at 96.79% examples, 316516 words/s, in_qsize 23, out_qsize 0\n",
      "INFO - 07:41:34: EPOCH 1 - PROGRESS: at 97.21% examples, 316540 words/s, in_qsize 23, out_qsize 0\n",
      "INFO - 07:42:34: EPOCH 1 - PROGRESS: at 97.60% examples, 316470 words/s, in_qsize 23, out_qsize 0\n",
      "INFO - 07:43:34: EPOCH 1 - PROGRESS: at 98.01% examples, 316463 words/s, in_qsize 22, out_qsize 1\n",
      "INFO - 07:44:34: EPOCH 1 - PROGRESS: at 98.43% examples, 316473 words/s, in_qsize 23, out_qsize 0\n",
      "INFO - 07:45:34: EPOCH 1 - PROGRESS: at 98.85% examples, 316499 words/s, in_qsize 23, out_qsize 0\n",
      "INFO - 07:46:34: EPOCH 1 - PROGRESS: at 99.27% examples, 316535 words/s, in_qsize 22, out_qsize 1\n",
      "INFO - 07:47:34: EPOCH 1 - PROGRESS: at 99.66% examples, 316470 words/s, in_qsize 23, out_qsize 0\n",
      "INFO - 07:48:27: EPOCH 1: training on 4718217881 raw words (4613571980 effective words) took 14581.9s, 316390 effective words/s\n",
      "WARNING - 07:48:27: EPOCH 1: supplied example count (41908689) did not equal expected count (41908692)\n",
      "INFO - 07:48:28: EPOCH 2 - PROGRESS: at 0.00% examples, 179361 words/s, in_qsize 23, out_qsize 0\n",
      "INFO - 07:49:28: EPOCH 2 - PROGRESS: at 0.42% examples, 313912 words/s, in_qsize 23, out_qsize 0\n",
      "INFO - 07:50:28: EPOCH 2 - PROGRESS: at 0.84% examples, 318353 words/s, in_qsize 23, out_qsize 0\n",
      "INFO - 07:51:28: EPOCH 2 - PROGRESS: at 1.25% examples, 318557 words/s, in_qsize 24, out_qsize 0\n",
      "INFO - 07:52:28: EPOCH 2 - PROGRESS: at 1.67% examples, 319116 words/s, in_qsize 23, out_qsize 0\n",
      "INFO - 07:53:29: EPOCH 2 - PROGRESS: at 2.09% examples, 320190 words/s, in_qsize 23, out_qsize 0\n",
      "INFO - 07:54:29: EPOCH 2 - PROGRESS: at 2.51% examples, 321044 words/s, in_qsize 24, out_qsize 1\n",
      "INFO - 07:55:29: EPOCH 2 - PROGRESS: at 2.94% examples, 321556 words/s, in_qsize 22, out_qsize 1\n",
      "INFO - 07:56:29: EPOCH 2 - PROGRESS: at 3.36% examples, 322024 words/s, in_qsize 23, out_qsize 0\n",
      "INFO - 07:57:29: EPOCH 2 - PROGRESS: at 3.78% examples, 322050 words/s, in_qsize 23, out_qsize 0\n",
      "INFO - 07:58:29: EPOCH 2 - PROGRESS: at 4.20% examples, 322166 words/s, in_qsize 22, out_qsize 1\n",
      "INFO - 07:59:29: EPOCH 2 - PROGRESS: at 4.63% examples, 322602 words/s, in_qsize 24, out_qsize 0\n",
      "INFO - 08:00:29: EPOCH 2 - PROGRESS: at 5.05% examples, 322684 words/s, in_qsize 23, out_qsize 0\n",
      "INFO - 08:01:29: EPOCH 2 - PROGRESS: at 5.47% examples, 322764 words/s, in_qsize 23, out_qsize 0\n",
      "INFO - 08:02:29: EPOCH 2 - PROGRESS: at 5.89% examples, 322805 words/s, in_qsize 23, out_qsize 0\n",
      "INFO - 08:03:29: EPOCH 2 - PROGRESS: at 6.31% examples, 322898 words/s, in_qsize 23, out_qsize 0\n",
      "INFO - 08:04:29: EPOCH 2 - PROGRESS: at 6.73% examples, 322860 words/s, in_qsize 23, out_qsize 0\n",
      "INFO - 08:05:29: EPOCH 2 - PROGRESS: at 7.16% examples, 323001 words/s, in_qsize 23, out_qsize 0\n",
      "INFO - 08:06:29: EPOCH 2 - PROGRESS: at 7.55% examples, 321798 words/s, in_qsize 23, out_qsize 0\n",
      "INFO - 08:07:29: EPOCH 2 - PROGRESS: at 7.96% examples, 321371 words/s, in_qsize 23, out_qsize 0\n",
      "INFO - 08:08:29: EPOCH 2 - PROGRESS: at 8.35% examples, 320314 words/s, in_qsize 23, out_qsize 0\n",
      "INFO - 08:09:29: EPOCH 2 - PROGRESS: at 8.77% examples, 320323 words/s, in_qsize 23, out_qsize 0\n",
      "INFO - 08:10:29: EPOCH 2 - PROGRESS: at 9.19% examples, 320463 words/s, in_qsize 23, out_qsize 0\n",
      "INFO - 08:11:29: EPOCH 2 - PROGRESS: at 9.61% examples, 320553 words/s, in_qsize 23, out_qsize 0\n",
      "INFO - 08:12:29: EPOCH 2 - PROGRESS: at 10.03% examples, 320632 words/s, in_qsize 23, out_qsize 0\n",
      "INFO - 08:13:29: EPOCH 2 - PROGRESS: at 10.45% examples, 320821 words/s, in_qsize 23, out_qsize 0\n",
      "INFO - 08:14:29: EPOCH 2 - PROGRESS: at 10.87% examples, 320853 words/s, in_qsize 23, out_qsize 0\n",
      "INFO - 08:15:29: EPOCH 2 - PROGRESS: at 11.29% examples, 320965 words/s, in_qsize 23, out_qsize 0\n",
      "INFO - 08:16:29: EPOCH 2 - PROGRESS: at 11.71% examples, 320942 words/s, in_qsize 24, out_qsize 0\n",
      "INFO - 08:17:29: EPOCH 2 - PROGRESS: at 12.12% examples, 320945 words/s, in_qsize 23, out_qsize 0\n",
      "INFO - 08:18:29: EPOCH 2 - PROGRESS: at 12.54% examples, 320992 words/s, in_qsize 23, out_qsize 1\n",
      "INFO - 08:19:29: EPOCH 2 - PROGRESS: at 12.97% examples, 321149 words/s, in_qsize 23, out_qsize 0\n",
      "INFO - 08:20:29: EPOCH 2 - PROGRESS: at 13.39% examples, 321284 words/s, in_qsize 23, out_qsize 0\n",
      "INFO - 08:21:29: EPOCH 2 - PROGRESS: at 13.81% examples, 321417 words/s, in_qsize 24, out_qsize 0\n",
      "INFO - 08:22:29: EPOCH 2 - PROGRESS: at 14.23% examples, 321348 words/s, in_qsize 22, out_qsize 1\n",
      "INFO - 08:23:29: EPOCH 2 - PROGRESS: at 14.65% examples, 321486 words/s, in_qsize 23, out_qsize 0\n",
      "INFO - 08:24:30: EPOCH 2 - PROGRESS: at 15.08% examples, 321579 words/s, in_qsize 22, out_qsize 1\n",
      "INFO - 08:25:30: EPOCH 2 - PROGRESS: at 15.50% examples, 321682 words/s, in_qsize 23, out_qsize 0\n",
      "INFO - 08:26:30: EPOCH 2 - PROGRESS: at 15.92% examples, 321766 words/s, in_qsize 23, out_qsize 0\n",
      "INFO - 08:27:30: EPOCH 2 - PROGRESS: at 16.35% examples, 321918 words/s, in_qsize 23, out_qsize 0\n",
      "INFO - 08:28:30: EPOCH 2 - PROGRESS: at 16.77% examples, 321966 words/s, in_qsize 23, out_qsize 0\n",
      "INFO - 08:29:30: EPOCH 2 - PROGRESS: at 17.20% examples, 322079 words/s, in_qsize 23, out_qsize 0\n",
      "INFO - 08:30:30: EPOCH 2 - PROGRESS: at 17.62% examples, 322191 words/s, in_qsize 23, out_qsize 0\n",
      "INFO - 08:31:30: EPOCH 2 - PROGRESS: at 18.04% examples, 322267 words/s, in_qsize 23, out_qsize 0\n",
      "INFO - 08:32:30: EPOCH 2 - PROGRESS: at 18.47% examples, 322357 words/s, in_qsize 24, out_qsize 0\n",
      "INFO - 08:33:30: EPOCH 2 - PROGRESS: at 18.89% examples, 322409 words/s, in_qsize 17, out_qsize 3\n",
      "INFO - 08:34:30: EPOCH 2 - PROGRESS: at 19.31% examples, 322380 words/s, in_qsize 23, out_qsize 0\n",
      "INFO - 08:35:30: EPOCH 2 - PROGRESS: at 19.73% examples, 322409 words/s, in_qsize 23, out_qsize 0\n",
      "INFO - 08:36:30: EPOCH 2 - PROGRESS: at 20.15% examples, 322420 words/s, in_qsize 23, out_qsize 0\n",
      "INFO - 08:37:30: EPOCH 2 - PROGRESS: at 20.57% examples, 322458 words/s, in_qsize 23, out_qsize 0\n",
      "INFO - 08:38:30: EPOCH 2 - PROGRESS: at 20.99% examples, 322464 words/s, in_qsize 18, out_qsize 1\n",
      "INFO - 08:39:30: EPOCH 2 - PROGRESS: at 21.42% examples, 322520 words/s, in_qsize 23, out_qsize 0\n",
      "INFO - 08:40:30: EPOCH 2 - PROGRESS: at 21.84% examples, 322564 words/s, in_qsize 24, out_qsize 0\n",
      "INFO - 08:41:30: EPOCH 2 - PROGRESS: at 22.26% examples, 322617 words/s, in_qsize 23, out_qsize 0\n",
      "INFO - 08:42:30: EPOCH 2 - PROGRESS: at 22.69% examples, 322665 words/s, in_qsize 17, out_qsize 1\n",
      "INFO - 08:43:30: EPOCH 2 - PROGRESS: at 23.11% examples, 322737 words/s, in_qsize 23, out_qsize 0\n",
      "INFO - 08:44:30: EPOCH 2 - PROGRESS: at 23.53% examples, 322746 words/s, in_qsize 23, out_qsize 0\n",
      "INFO - 08:45:30: EPOCH 2 - PROGRESS: at 23.95% examples, 322679 words/s, in_qsize 23, out_qsize 0\n",
      "INFO - 08:46:30: EPOCH 2 - PROGRESS: at 24.36% examples, 322588 words/s, in_qsize 23, out_qsize 1\n",
      "INFO - 08:47:30: EPOCH 2 - PROGRESS: at 24.78% examples, 322604 words/s, in_qsize 23, out_qsize 0\n",
      "INFO - 08:48:31: EPOCH 2 - PROGRESS: at 25.20% examples, 322562 words/s, in_qsize 23, out_qsize 0\n",
      "INFO - 08:49:31: EPOCH 2 - PROGRESS: at 25.62% examples, 322601 words/s, in_qsize 23, out_qsize 0\n",
      "INFO - 08:50:31: EPOCH 2 - PROGRESS: at 26.04% examples, 322631 words/s, in_qsize 22, out_qsize 1\n",
      "INFO - 08:51:31: EPOCH 2 - PROGRESS: at 26.46% examples, 322654 words/s, in_qsize 23, out_qsize 0\n",
      "INFO - 08:52:31: EPOCH 2 - PROGRESS: at 26.88% examples, 322644 words/s, in_qsize 22, out_qsize 1\n",
      "INFO - 08:53:31: EPOCH 2 - PROGRESS: at 27.28% examples, 322397 words/s, in_qsize 23, out_qsize 0\n",
      "INFO - 08:54:31: EPOCH 2 - PROGRESS: at 27.70% examples, 322378 words/s, in_qsize 23, out_qsize 0\n",
      "INFO - 08:55:31: EPOCH 2 - PROGRESS: at 28.12% examples, 322411 words/s, in_qsize 23, out_qsize 0\n",
      "INFO - 08:56:31: EPOCH 2 - PROGRESS: at 28.55% examples, 322443 words/s, in_qsize 23, out_qsize 0\n",
      "INFO - 08:57:31: EPOCH 2 - PROGRESS: at 28.97% examples, 322464 words/s, in_qsize 23, out_qsize 0\n",
      "INFO - 08:58:31: EPOCH 2 - PROGRESS: at 29.38% examples, 322434 words/s, in_qsize 23, out_qsize 0\n",
      "INFO - 08:59:31: EPOCH 2 - PROGRESS: at 29.81% examples, 322482 words/s, in_qsize 23, out_qsize 0\n",
      "INFO - 09:00:31: EPOCH 2 - PROGRESS: at 30.23% examples, 322463 words/s, in_qsize 16, out_qsize 1\n",
      "INFO - 09:01:31: EPOCH 2 - PROGRESS: at 30.65% examples, 322491 words/s, in_qsize 23, out_qsize 0\n",
      "INFO - 09:02:31: EPOCH 2 - PROGRESS: at 31.07% examples, 322500 words/s, in_qsize 23, out_qsize 0\n",
      "INFO - 09:03:31: EPOCH 2 - PROGRESS: at 31.49% examples, 322559 words/s, in_qsize 23, out_qsize 0\n",
      "INFO - 09:04:31: EPOCH 2 - PROGRESS: at 31.91% examples, 322549 words/s, in_qsize 23, out_qsize 0\n",
      "INFO - 09:05:31: EPOCH 2 - PROGRESS: at 32.33% examples, 322569 words/s, in_qsize 23, out_qsize 0\n",
      "INFO - 09:06:31: EPOCH 2 - PROGRESS: at 32.75% examples, 322567 words/s, in_qsize 22, out_qsize 1\n",
      "INFO - 09:07:31: EPOCH 2 - PROGRESS: at 33.17% examples, 322542 words/s, in_qsize 21, out_qsize 2\n",
      "INFO - 09:08:31: EPOCH 2 - PROGRESS: at 33.59% examples, 322575 words/s, in_qsize 23, out_qsize 0\n",
      "INFO - 09:09:31: EPOCH 2 - PROGRESS: at 34.02% examples, 322613 words/s, in_qsize 23, out_qsize 0\n",
      "INFO - 09:10:31: EPOCH 2 - PROGRESS: at 34.44% examples, 322604 words/s, in_qsize 23, out_qsize 0\n",
      "INFO - 09:11:31: EPOCH 2 - PROGRESS: at 34.86% examples, 322651 words/s, in_qsize 23, out_qsize 0\n",
      "INFO - 09:12:31: EPOCH 2 - PROGRESS: at 35.29% examples, 322702 words/s, in_qsize 21, out_qsize 1\n",
      "INFO - 09:13:31: EPOCH 2 - PROGRESS: at 35.71% examples, 322747 words/s, in_qsize 24, out_qsize 0\n",
      "INFO - 09:14:31: EPOCH 2 - PROGRESS: at 36.13% examples, 322771 words/s, in_qsize 23, out_qsize 0\n",
      "INFO - 09:15:32: EPOCH 2 - PROGRESS: at 36.56% examples, 322813 words/s, in_qsize 23, out_qsize 0\n",
      "INFO - 09:16:32: EPOCH 2 - PROGRESS: at 36.98% examples, 322827 words/s, in_qsize 15, out_qsize 0\n",
      "INFO - 09:17:32: EPOCH 2 - PROGRESS: at 37.40% examples, 322852 words/s, in_qsize 23, out_qsize 0\n",
      "INFO - 09:18:32: EPOCH 2 - PROGRESS: at 37.83% examples, 322880 words/s, in_qsize 23, out_qsize 0\n",
      "INFO - 09:19:32: EPOCH 2 - PROGRESS: at 38.25% examples, 322859 words/s, in_qsize 23, out_qsize 0\n",
      "INFO - 09:20:32: EPOCH 2 - PROGRESS: at 38.66% examples, 322825 words/s, in_qsize 23, out_qsize 0\n",
      "INFO - 09:21:32: EPOCH 2 - PROGRESS: at 39.05% examples, 322559 words/s, in_qsize 23, out_qsize 0\n",
      "INFO - 09:22:32: EPOCH 2 - PROGRESS: at 39.46% examples, 322452 words/s, in_qsize 23, out_qsize 0\n",
      "INFO - 09:23:32: EPOCH 2 - PROGRESS: at 39.85% examples, 322208 words/s, in_qsize 23, out_qsize 0\n",
      "INFO - 09:24:32: EPOCH 2 - PROGRESS: at 40.26% examples, 322156 words/s, in_qsize 22, out_qsize 1\n",
      "INFO - 09:25:32: EPOCH 2 - PROGRESS: at 40.67% examples, 322072 words/s, in_qsize 21, out_qsize 2\n",
      "INFO - 09:26:32: EPOCH 2 - PROGRESS: at 41.08% examples, 322021 words/s, in_qsize 22, out_qsize 1\n",
      "INFO - 09:27:32: EPOCH 2 - PROGRESS: at 41.50% examples, 322020 words/s, in_qsize 23, out_qsize 0\n",
      "INFO - 09:28:32: EPOCH 2 - PROGRESS: at 41.92% examples, 322008 words/s, in_qsize 22, out_qsize 0\n",
      "INFO - 09:29:32: EPOCH 2 - PROGRESS: at 42.33% examples, 322002 words/s, in_qsize 23, out_qsize 0\n",
      "INFO - 09:30:32: EPOCH 2 - PROGRESS: at 42.75% examples, 322012 words/s, in_qsize 22, out_qsize 2\n",
      "INFO - 09:31:32: EPOCH 2 - PROGRESS: at 43.18% examples, 322050 words/s, in_qsize 22, out_qsize 1\n",
      "INFO - 09:32:32: EPOCH 2 - PROGRESS: at 43.60% examples, 322069 words/s, in_qsize 23, out_qsize 0\n",
      "INFO - 09:33:32: EPOCH 2 - PROGRESS: at 44.00% examples, 321925 words/s, in_qsize 22, out_qsize 1\n",
      "INFO - 09:34:32: EPOCH 2 - PROGRESS: at 44.42% examples, 321920 words/s, in_qsize 24, out_qsize 0\n",
      "INFO - 09:35:32: EPOCH 2 - PROGRESS: at 44.84% examples, 321937 words/s, in_qsize 23, out_qsize 0\n",
      "INFO - 09:36:33: EPOCH 2 - PROGRESS: at 45.26% examples, 321960 words/s, in_qsize 23, out_qsize 0\n",
      "INFO - 09:37:33: EPOCH 2 - PROGRESS: at 45.68% examples, 321958 words/s, in_qsize 22, out_qsize 1\n",
      "INFO - 09:38:33: EPOCH 2 - PROGRESS: at 46.10% examples, 321963 words/s, in_qsize 23, out_qsize 0\n",
      "INFO - 09:39:33: EPOCH 2 - PROGRESS: at 46.52% examples, 321997 words/s, in_qsize 20, out_qsize 0\n",
      "INFO - 09:40:33: EPOCH 2 - PROGRESS: at 46.94% examples, 321987 words/s, in_qsize 23, out_qsize 0\n",
      "INFO - 09:41:33: EPOCH 2 - PROGRESS: at 47.36% examples, 322015 words/s, in_qsize 23, out_qsize 0\n",
      "INFO - 09:42:33: EPOCH 2 - PROGRESS: at 47.78% examples, 322030 words/s, in_qsize 23, out_qsize 0\n",
      "INFO - 09:43:33: EPOCH 2 - PROGRESS: at 48.21% examples, 322064 words/s, in_qsize 23, out_qsize 0\n",
      "INFO - 09:44:33: EPOCH 2 - PROGRESS: at 48.63% examples, 322083 words/s, in_qsize 23, out_qsize 0\n",
      "INFO - 09:45:33: EPOCH 2 - PROGRESS: at 49.05% examples, 322110 words/s, in_qsize 16, out_qsize 0\n",
      "INFO - 09:46:33: EPOCH 2 - PROGRESS: at 49.47% examples, 322105 words/s, in_qsize 23, out_qsize 0\n",
      "INFO - 09:47:33: EPOCH 2 - PROGRESS: at 49.88% examples, 322039 words/s, in_qsize 23, out_qsize 0\n",
      "INFO - 09:48:33: EPOCH 2 - PROGRESS: at 50.30% examples, 322036 words/s, in_qsize 24, out_qsize 0\n",
      "INFO - 09:49:33: EPOCH 2 - PROGRESS: at 50.72% examples, 322032 words/s, in_qsize 23, out_qsize 0\n",
      "INFO - 09:50:33: EPOCH 2 - PROGRESS: at 51.13% examples, 321993 words/s, in_qsize 17, out_qsize 2\n",
      "INFO - 09:51:33: EPOCH 2 - PROGRESS: at 51.55% examples, 321990 words/s, in_qsize 23, out_qsize 0\n",
      "INFO - 09:52:33: EPOCH 2 - PROGRESS: at 51.94% examples, 321801 words/s, in_qsize 23, out_qsize 0\n",
      "INFO - 09:53:33: EPOCH 2 - PROGRESS: at 52.30% examples, 321491 words/s, in_qsize 23, out_qsize 0\n",
      "INFO - 09:54:33: EPOCH 2 - PROGRESS: at 52.71% examples, 321436 words/s, in_qsize 23, out_qsize 0\n",
      "INFO - 09:55:33: EPOCH 2 - PROGRESS: at 53.13% examples, 321426 words/s, in_qsize 23, out_qsize 0\n",
      "INFO - 09:56:33: EPOCH 2 - PROGRESS: at 53.52% examples, 321241 words/s, in_qsize 23, out_qsize 0\n",
      "INFO - 09:57:33: EPOCH 2 - PROGRESS: at 53.89% examples, 320958 words/s, in_qsize 23, out_qsize 0\n",
      "INFO - 09:58:33: EPOCH 2 - PROGRESS: at 54.26% examples, 320662 words/s, in_qsize 23, out_qsize 0\n",
      "INFO - 09:59:33: EPOCH 2 - PROGRESS: at 54.63% examples, 320388 words/s, in_qsize 22, out_qsize 1\n",
      "INFO - 10:00:33: EPOCH 2 - PROGRESS: at 55.03% examples, 320285 words/s, in_qsize 23, out_qsize 0\n",
      "INFO - 10:01:33: EPOCH 2 - PROGRESS: at 55.41% examples, 320102 words/s, in_qsize 23, out_qsize 0\n",
      "INFO - 10:02:33: EPOCH 2 - PROGRESS: at 55.82% examples, 320049 words/s, in_qsize 23, out_qsize 0\n",
      "INFO - 10:03:34: EPOCH 2 - PROGRESS: at 56.24% examples, 320057 words/s, in_qsize 20, out_qsize 0\n",
      "INFO - 10:04:34: EPOCH 2 - PROGRESS: at 56.66% examples, 320068 words/s, in_qsize 23, out_qsize 0\n",
      "INFO - 10:05:34: EPOCH 2 - PROGRESS: at 57.08% examples, 320096 words/s, in_qsize 23, out_qsize 1\n",
      "INFO - 10:06:34: EPOCH 2 - PROGRESS: at 57.50% examples, 320115 words/s, in_qsize 23, out_qsize 0\n",
      "INFO - 10:07:34: EPOCH 2 - PROGRESS: at 57.91% examples, 320111 words/s, in_qsize 23, out_qsize 0\n",
      "INFO - 10:08:34: EPOCH 2 - PROGRESS: at 58.33% examples, 320108 words/s, in_qsize 22, out_qsize 1\n",
      "INFO - 10:09:34: EPOCH 2 - PROGRESS: at 58.75% examples, 320131 words/s, in_qsize 24, out_qsize 0\n",
      "INFO - 10:10:34: EPOCH 2 - PROGRESS: at 59.17% examples, 320139 words/s, in_qsize 23, out_qsize 0\n",
      "INFO - 10:11:34: EPOCH 2 - PROGRESS: at 59.59% examples, 320171 words/s, in_qsize 23, out_qsize 0\n",
      "INFO - 10:12:34: EPOCH 2 - PROGRESS: at 60.01% examples, 320192 words/s, in_qsize 23, out_qsize 0\n",
      "INFO - 10:13:34: EPOCH 2 - PROGRESS: at 60.43% examples, 320218 words/s, in_qsize 22, out_qsize 1\n",
      "INFO - 10:14:34: EPOCH 2 - PROGRESS: at 60.85% examples, 320220 words/s, in_qsize 23, out_qsize 0\n",
      "INFO - 10:15:34: EPOCH 2 - PROGRESS: at 61.27% examples, 320250 words/s, in_qsize 24, out_qsize 0\n",
      "INFO - 10:16:34: EPOCH 2 - PROGRESS: at 61.69% examples, 320285 words/s, in_qsize 23, out_qsize 0\n",
      "INFO - 10:17:34: EPOCH 2 - PROGRESS: at 62.11% examples, 320294 words/s, in_qsize 24, out_qsize 1\n",
      "INFO - 10:18:34: EPOCH 2 - PROGRESS: at 62.50% examples, 320154 words/s, in_qsize 24, out_qsize 1\n",
      "INFO - 10:19:34: EPOCH 2 - PROGRESS: at 62.87% examples, 319894 words/s, in_qsize 23, out_qsize 0\n",
      "INFO - 10:20:34: EPOCH 2 - PROGRESS: at 63.24% examples, 319654 words/s, in_qsize 23, out_qsize 0\n",
      "INFO - 10:21:34: EPOCH 2 - PROGRESS: at 63.64% examples, 319602 words/s, in_qsize 23, out_qsize 1\n",
      "INFO - 10:22:34: EPOCH 2 - PROGRESS: at 64.04% examples, 319533 words/s, in_qsize 23, out_qsize 0\n",
      "INFO - 10:23:34: EPOCH 2 - PROGRESS: at 64.46% examples, 319525 words/s, in_qsize 23, out_qsize 0\n",
      "INFO - 10:24:34: EPOCH 2 - PROGRESS: at 64.88% examples, 319535 words/s, in_qsize 23, out_qsize 0\n",
      "INFO - 10:25:34: EPOCH 2 - PROGRESS: at 65.30% examples, 319559 words/s, in_qsize 23, out_qsize 0\n",
      "INFO - 10:26:34: EPOCH 2 - PROGRESS: at 65.72% examples, 319567 words/s, in_qsize 23, out_qsize 0\n",
      "INFO - 10:27:34: EPOCH 2 - PROGRESS: at 66.14% examples, 319599 words/s, in_qsize 23, out_qsize 0\n",
      "INFO - 10:28:34: EPOCH 2 - PROGRESS: at 66.52% examples, 319453 words/s, in_qsize 23, out_qsize 0\n",
      "INFO - 10:29:34: EPOCH 2 - PROGRESS: at 66.93% examples, 319397 words/s, in_qsize 23, out_qsize 0\n",
      "INFO - 10:30:34: EPOCH 2 - PROGRESS: at 67.34% examples, 319394 words/s, in_qsize 23, out_qsize 0\n",
      "INFO - 10:31:34: EPOCH 2 - PROGRESS: at 67.76% examples, 319407 words/s, in_qsize 23, out_qsize 0\n",
      "INFO - 10:32:34: EPOCH 2 - PROGRESS: at 68.18% examples, 319430 words/s, in_qsize 23, out_qsize 0\n",
      "INFO - 10:33:34: EPOCH 2 - PROGRESS: at 68.60% examples, 319430 words/s, in_qsize 23, out_qsize 0\n",
      "INFO - 10:34:34: EPOCH 2 - PROGRESS: at 69.02% examples, 319458 words/s, in_qsize 24, out_qsize 0\n",
      "INFO - 10:35:35: EPOCH 2 - PROGRESS: at 69.44% examples, 319468 words/s, in_qsize 23, out_qsize 0\n",
      "INFO - 10:36:35: EPOCH 2 - PROGRESS: at 69.83% examples, 319335 words/s, in_qsize 23, out_qsize 0\n",
      "INFO - 10:37:35: EPOCH 2 - PROGRESS: at 70.23% examples, 319285 words/s, in_qsize 24, out_qsize 0\n",
      "INFO - 10:38:35: EPOCH 2 - PROGRESS: at 70.65% examples, 319282 words/s, in_qsize 23, out_qsize 0\n",
      "INFO - 10:39:35: EPOCH 2 - PROGRESS: at 71.07% examples, 319308 words/s, in_qsize 23, out_qsize 0\n",
      "INFO - 10:40:35: EPOCH 2 - PROGRESS: at 71.49% examples, 319320 words/s, in_qsize 23, out_qsize 0\n",
      "INFO - 10:41:35: EPOCH 2 - PROGRESS: at 71.90% examples, 319327 words/s, in_qsize 23, out_qsize 0\n",
      "INFO - 10:42:35: EPOCH 2 - PROGRESS: at 72.29% examples, 319219 words/s, in_qsize 16, out_qsize 4\n",
      "INFO - 10:43:35: EPOCH 2 - PROGRESS: at 72.70% examples, 319196 words/s, in_qsize 23, out_qsize 0\n",
      "INFO - 10:44:35: EPOCH 2 - PROGRESS: at 73.12% examples, 319216 words/s, in_qsize 23, out_qsize 0\n",
      "INFO - 10:45:35: EPOCH 2 - PROGRESS: at 73.54% examples, 319229 words/s, in_qsize 23, out_qsize 0\n",
      "INFO - 10:46:35: EPOCH 2 - PROGRESS: at 73.96% examples, 319250 words/s, in_qsize 23, out_qsize 0\n",
      "INFO - 10:47:35: EPOCH 2 - PROGRESS: at 74.38% examples, 319267 words/s, in_qsize 23, out_qsize 0\n",
      "INFO - 10:48:35: EPOCH 2 - PROGRESS: at 74.80% examples, 319293 words/s, in_qsize 11, out_qsize 2\n",
      "INFO - 10:49:35: EPOCH 2 - PROGRESS: at 75.22% examples, 319315 words/s, in_qsize 23, out_qsize 0\n",
      "INFO - 10:50:35: EPOCH 2 - PROGRESS: at 75.64% examples, 319338 words/s, in_qsize 23, out_qsize 0\n",
      "INFO - 10:51:35: EPOCH 2 - PROGRESS: at 76.06% examples, 319357 words/s, in_qsize 23, out_qsize 0\n",
      "INFO - 10:52:35: EPOCH 2 - PROGRESS: at 76.48% examples, 319366 words/s, in_qsize 23, out_qsize 0\n",
      "INFO - 10:53:35: EPOCH 2 - PROGRESS: at 76.90% examples, 319376 words/s, in_qsize 23, out_qsize 0\n",
      "INFO - 10:54:35: EPOCH 2 - PROGRESS: at 77.32% examples, 319392 words/s, in_qsize 23, out_qsize 0\n",
      "INFO - 10:55:35: EPOCH 2 - PROGRESS: at 77.74% examples, 319413 words/s, in_qsize 23, out_qsize 0\n",
      "INFO - 10:56:35: EPOCH 2 - PROGRESS: at 78.16% examples, 319426 words/s, in_qsize 24, out_qsize 0\n",
      "INFO - 10:57:35: EPOCH 2 - PROGRESS: at 78.58% examples, 319453 words/s, in_qsize 23, out_qsize 0\n",
      "INFO - 10:58:35: EPOCH 2 - PROGRESS: at 79.00% examples, 319468 words/s, in_qsize 23, out_qsize 0\n",
      "INFO - 10:59:35: EPOCH 2 - PROGRESS: at 79.42% examples, 319492 words/s, in_qsize 23, out_qsize 0\n",
      "INFO - 11:00:35: EPOCH 2 - PROGRESS: at 79.84% examples, 319511 words/s, in_qsize 23, out_qsize 0\n",
      "INFO - 11:01:35: EPOCH 2 - PROGRESS: at 80.26% examples, 319513 words/s, in_qsize 23, out_qsize 0\n",
      "INFO - 11:02:35: EPOCH 2 - PROGRESS: at 80.65% examples, 319418 words/s, in_qsize 23, out_qsize 0\n",
      "INFO - 11:03:35: EPOCH 2 - PROGRESS: at 81.05% examples, 319383 words/s, in_qsize 23, out_qsize 0\n",
      "INFO - 11:04:35: EPOCH 2 - PROGRESS: at 81.47% examples, 319373 words/s, in_qsize 23, out_qsize 0\n",
      "INFO - 11:05:35: EPOCH 2 - PROGRESS: at 81.89% examples, 319387 words/s, in_qsize 16, out_qsize 1\n",
      "INFO - 11:06:35: EPOCH 2 - PROGRESS: at 82.30% examples, 319373 words/s, in_qsize 23, out_qsize 0\n",
      "INFO - 11:07:35: EPOCH 2 - PROGRESS: at 82.71% examples, 319361 words/s, in_qsize 21, out_qsize 2\n",
      "INFO - 11:08:35: EPOCH 2 - PROGRESS: at 83.13% examples, 319367 words/s, in_qsize 13, out_qsize 0\n",
      "INFO - 11:09:36: EPOCH 2 - PROGRESS: at 83.55% examples, 319371 words/s, in_qsize 23, out_qsize 0\n",
      "INFO - 11:10:36: EPOCH 2 - PROGRESS: at 83.96% examples, 319385 words/s, in_qsize 23, out_qsize 0\n",
      "INFO - 11:11:36: EPOCH 2 - PROGRESS: at 84.38% examples, 319399 words/s, in_qsize 23, out_qsize 0\n",
      "INFO - 11:12:36: EPOCH 2 - PROGRESS: at 84.81% examples, 319427 words/s, in_qsize 22, out_qsize 1\n",
      "INFO - 11:13:36: EPOCH 2 - PROGRESS: at 85.20% examples, 319341 words/s, in_qsize 23, out_qsize 0\n",
      "INFO - 11:14:36: EPOCH 2 - PROGRESS: at 85.58% examples, 319230 words/s, in_qsize 18, out_qsize 0\n",
      "INFO - 11:15:36: EPOCH 2 - PROGRESS: at 85.98% examples, 319142 words/s, in_qsize 23, out_qsize 0\n",
      "INFO - 11:16:36: EPOCH 2 - PROGRESS: at 86.39% examples, 319123 words/s, in_qsize 23, out_qsize 0\n",
      "INFO - 11:17:36: EPOCH 2 - PROGRESS: at 86.81% examples, 319138 words/s, in_qsize 24, out_qsize 0\n",
      "INFO - 11:18:36: EPOCH 2 - PROGRESS: at 87.23% examples, 319156 words/s, in_qsize 23, out_qsize 0\n",
      "INFO - 11:19:36: EPOCH 2 - PROGRESS: at 87.64% examples, 319155 words/s, in_qsize 22, out_qsize 1\n",
      "INFO - 11:20:36: EPOCH 2 - PROGRESS: at 88.03% examples, 319056 words/s, in_qsize 23, out_qsize 0\n",
      "INFO - 11:21:36: EPOCH 2 - PROGRESS: at 88.43% examples, 319007 words/s, in_qsize 23, out_qsize 0\n",
      "INFO - 11:22:36: EPOCH 2 - PROGRESS: at 88.84% examples, 319007 words/s, in_qsize 20, out_qsize 3\n",
      "INFO - 11:23:36: EPOCH 2 - PROGRESS: at 89.26% examples, 318997 words/s, in_qsize 23, out_qsize 0\n",
      "INFO - 11:24:36: EPOCH 2 - PROGRESS: at 89.64% examples, 318892 words/s, in_qsize 23, out_qsize 0\n",
      "INFO - 11:25:36: EPOCH 2 - PROGRESS: at 90.01% examples, 318723 words/s, in_qsize 23, out_qsize 0\n",
      "INFO - 11:26:36: EPOCH 2 - PROGRESS: at 90.37% examples, 318523 words/s, in_qsize 23, out_qsize 0\n",
      "INFO - 11:27:36: EPOCH 2 - PROGRESS: at 90.76% examples, 318446 words/s, in_qsize 24, out_qsize 1\n",
      "INFO - 11:28:36: EPOCH 2 - PROGRESS: at 91.17% examples, 318434 words/s, in_qsize 23, out_qsize 0\n",
      "INFO - 11:29:36: EPOCH 2 - PROGRESS: at 91.58% examples, 318434 words/s, in_qsize 23, out_qsize 0\n",
      "INFO - 11:30:36: EPOCH 2 - PROGRESS: at 91.97% examples, 318327 words/s, in_qsize 24, out_qsize 1\n",
      "INFO - 11:31:36: EPOCH 2 - PROGRESS: at 92.37% examples, 318279 words/s, in_qsize 23, out_qsize 0\n",
      "INFO - 11:32:36: EPOCH 2 - PROGRESS: at 92.78% examples, 318262 words/s, in_qsize 23, out_qsize 0\n",
      "INFO - 11:33:36: EPOCH 2 - PROGRESS: at 93.16% examples, 318139 words/s, in_qsize 23, out_qsize 3\n",
      "INFO - 11:34:36: EPOCH 2 - PROGRESS: at 93.54% examples, 318029 words/s, in_qsize 23, out_qsize 0\n",
      "INFO - 11:35:36: EPOCH 2 - PROGRESS: at 93.91% examples, 317899 words/s, in_qsize 13, out_qsize 0\n",
      "INFO - 11:36:37: EPOCH 2 - PROGRESS: at 94.32% examples, 317875 words/s, in_qsize 23, out_qsize 0\n",
      "INFO - 11:37:37: EPOCH 2 - PROGRESS: at 94.73% examples, 317877 words/s, in_qsize 23, out_qsize 0\n",
      "INFO - 11:38:37: EPOCH 2 - PROGRESS: at 95.12% examples, 317793 words/s, in_qsize 23, out_qsize 0\n",
      "INFO - 11:39:37: EPOCH 2 - PROGRESS: at 95.52% examples, 317747 words/s, in_qsize 23, out_qsize 0\n",
      "INFO - 11:40:37: EPOCH 2 - PROGRESS: at 95.94% examples, 317748 words/s, in_qsize 23, out_qsize 0\n",
      "INFO - 11:41:37: EPOCH 2 - PROGRESS: at 96.35% examples, 317761 words/s, in_qsize 23, out_qsize 0\n",
      "INFO - 11:42:37: EPOCH 2 - PROGRESS: at 96.77% examples, 317779 words/s, in_qsize 23, out_qsize 0\n",
      "INFO - 11:43:37: EPOCH 2 - PROGRESS: at 97.19% examples, 317800 words/s, in_qsize 23, out_qsize 0\n",
      "INFO - 11:44:37: EPOCH 2 - PROGRESS: at 97.61% examples, 317809 words/s, in_qsize 23, out_qsize 0\n",
      "INFO - 11:45:37: EPOCH 2 - PROGRESS: at 98.02% examples, 317817 words/s, in_qsize 23, out_qsize 0\n",
      "INFO - 11:46:37: EPOCH 2 - PROGRESS: at 98.44% examples, 317815 words/s, in_qsize 23, out_qsize 0\n",
      "INFO - 11:47:37: EPOCH 2 - PROGRESS: at 98.85% examples, 317812 words/s, in_qsize 23, out_qsize 0\n",
      "INFO - 11:48:37: EPOCH 2 - PROGRESS: at 99.27% examples, 317830 words/s, in_qsize 23, out_qsize 0\n",
      "INFO - 11:49:37: EPOCH 2 - PROGRESS: at 99.69% examples, 317852 words/s, in_qsize 23, out_qsize 0\n",
      "INFO - 11:50:21: EPOCH 2: training on 4718217881 raw words (4613571528 effective words) took 14513.9s, 317874 effective words/s\n",
      "WARNING - 11:50:21: EPOCH 2: supplied example count (41908689) did not equal expected count (41908692)\n",
      "INFO - 11:50:21: Word2Vec lifecycle event {'msg': 'training on 14154653643 raw words (13840728780 effective words) took 43798.0s, 316013 effective words/s', 'datetime': '2022-10-11T11:50:21.700048', 'gensim': '4.2.0', 'python': '3.8.0 (default, Nov  6 2019, 21:49:08) \\n[GCC 7.3.0]', 'platform': 'Linux-5.15.71-gentoo-x86_64-x86_64-Intel-R-_Core-TM-_i7-8850H_CPU_@_2.60GHz-with-glibc2.10', 'event': 'train'}\n"
     ]
    },
    {
     "data": {
      "text/plain": [
       "(13840728780, 14154653643)"
      ]
     },
     "execution_count": 13,
     "metadata": {},
     "output_type": "execute_result"
    }
   ],
   "source": [
    "model.train(token_corpus, total_examples=token_dict.num_docs, epochs=3, report_delay=60) # epochs=5"
   ]
  },
  {
   "cell_type": "code",
   "execution_count": 22,
   "metadata": {
    "collapsed": true,
    "jupyter": {
     "outputs_hidden": true
    },
    "tags": []
   },
   "outputs": [
    {
     "name": "stderr",
     "output_type": "stream",
     "text": [
      "INFO - 00:51:54: Word2Vec lifecycle event {'msg': 'training model with 12 workers on 29434 vocabulary and 200 features, using sg=0 hs=0 sample=0.001 negative=5 window=1000 shrink_windows=True', 'datetime': '2022-10-08T00:51:54.414614', 'gensim': '4.2.0', 'python': '3.8.0 (default, Nov  6 2019, 21:49:08) \\n[GCC 7.3.0]', 'platform': 'Linux-5.15.71-gentoo-x86_64-x86_64-with-glibc2.10', 'event': 'train'}\n",
      "INFO - 00:51:55: EPOCH 0 - PROGRESS: at 0.00% examples, 188793 words/s, in_qsize 22, out_qsize 1\n",
      "INFO - 00:52:55: EPOCH 0 - PROGRESS: at 0.39% examples, 296946 words/s, in_qsize 23, out_qsize 0\n",
      "INFO - 00:53:55: EPOCH 0 - PROGRESS: at 0.77% examples, 293849 words/s, in_qsize 23, out_qsize 0\n",
      "INFO - 00:54:55: EPOCH 0 - PROGRESS: at 1.14% examples, 290546 words/s, in_qsize 23, out_qsize 0\n",
      "INFO - 00:55:55: EPOCH 0 - PROGRESS: at 1.51% examples, 288523 words/s, in_qsize 24, out_qsize 0\n",
      "INFO - 00:56:55: EPOCH 0 - PROGRESS: at 1.88% examples, 287159 words/s, in_qsize 23, out_qsize 0\n",
      "INFO - 00:57:55: EPOCH 0 - PROGRESS: at 2.24% examples, 285532 words/s, in_qsize 16, out_qsize 1\n",
      "INFO - 00:58:55: EPOCH 0 - PROGRESS: at 2.63% examples, 287912 words/s, in_qsize 22, out_qsize 1\n",
      "INFO - 00:59:55: EPOCH 0 - PROGRESS: at 3.06% examples, 293600 words/s, in_qsize 23, out_qsize 0\n",
      "INFO - 01:00:55: EPOCH 0 - PROGRESS: at 3.51% examples, 298849 words/s, in_qsize 22, out_qsize 1\n",
      "INFO - 01:01:55: EPOCH 0 - PROGRESS: at 3.96% examples, 303446 words/s, in_qsize 23, out_qsize 0\n",
      "INFO - 01:02:55: EPOCH 0 - PROGRESS: at 4.41% examples, 307524 words/s, in_qsize 23, out_qsize 0\n",
      "INFO - 01:03:55: EPOCH 0 - PROGRESS: at 4.86% examples, 310826 words/s, in_qsize 10, out_qsize 0\n",
      "INFO - 01:04:55: EPOCH 0 - PROGRESS: at 5.31% examples, 313700 words/s, in_qsize 18, out_qsize 2\n",
      "INFO - 01:05:55: EPOCH 0 - PROGRESS: at 5.77% examples, 316360 words/s, in_qsize 23, out_qsize 0\n",
      "INFO - 01:06:56: EPOCH 0 - PROGRESS: at 6.23% examples, 318710 words/s, in_qsize 23, out_qsize 0\n",
      "INFO - 01:07:56: EPOCH 0 - PROGRESS: at 6.68% examples, 320615 words/s, in_qsize 23, out_qsize 0\n",
      "INFO - 01:08:56: EPOCH 0 - PROGRESS: at 7.14% examples, 322392 words/s, in_qsize 23, out_qsize 0\n",
      "INFO - 01:09:56: EPOCH 0 - PROGRESS: at 7.60% examples, 324013 words/s, in_qsize 22, out_qsize 1\n",
      "INFO - 01:10:56: EPOCH 0 - PROGRESS: at 8.06% examples, 325507 words/s, in_qsize 23, out_qsize 0\n",
      "INFO - 01:11:56: EPOCH 0 - PROGRESS: at 8.51% examples, 326721 words/s, in_qsize 23, out_qsize 0\n",
      "INFO - 01:12:56: EPOCH 0 - PROGRESS: at 8.97% examples, 327820 words/s, in_qsize 23, out_qsize 0\n",
      "INFO - 01:13:56: EPOCH 0 - PROGRESS: at 9.43% examples, 328947 words/s, in_qsize 22, out_qsize 1\n",
      "INFO - 01:14:56: EPOCH 0 - PROGRESS: at 9.88% examples, 329864 words/s, in_qsize 23, out_qsize 0\n",
      "INFO - 01:15:56: EPOCH 0 - PROGRESS: at 10.34% examples, 330825 words/s, in_qsize 23, out_qsize 0\n",
      "INFO - 01:16:56: EPOCH 0 - PROGRESS: at 10.80% examples, 331704 words/s, in_qsize 19, out_qsize 0\n",
      "INFO - 01:17:56: EPOCH 0 - PROGRESS: at 11.26% examples, 332464 words/s, in_qsize 23, out_qsize 0\n",
      "INFO - 01:18:56: EPOCH 0 - PROGRESS: at 11.72% examples, 333220 words/s, in_qsize 23, out_qsize 0\n",
      "INFO - 01:19:56: EPOCH 0 - PROGRESS: at 12.17% examples, 333765 words/s, in_qsize 23, out_qsize 0\n",
      "INFO - 01:20:56: EPOCH 0 - PROGRESS: at 12.62% examples, 334295 words/s, in_qsize 23, out_qsize 0\n",
      "INFO - 01:21:56: EPOCH 0 - PROGRESS: at 13.08% examples, 334894 words/s, in_qsize 23, out_qsize 0\n",
      "INFO - 01:22:56: EPOCH 0 - PROGRESS: at 13.54% examples, 335455 words/s, in_qsize 17, out_qsize 0\n",
      "INFO - 01:23:56: EPOCH 0 - PROGRESS: at 14.00% examples, 336016 words/s, in_qsize 23, out_qsize 0\n",
      "INFO - 01:24:56: EPOCH 0 - PROGRESS: at 14.46% examples, 336457 words/s, in_qsize 24, out_qsize 0\n",
      "INFO - 01:25:56: EPOCH 0 - PROGRESS: at 14.91% examples, 336843 words/s, in_qsize 23, out_qsize 0\n",
      "INFO - 01:26:56: EPOCH 0 - PROGRESS: at 15.37% examples, 337268 words/s, in_qsize 23, out_qsize 0\n",
      "INFO - 01:27:56: EPOCH 0 - PROGRESS: at 15.83% examples, 337677 words/s, in_qsize 23, out_qsize 0\n",
      "INFO - 01:28:56: EPOCH 0 - PROGRESS: at 16.28% examples, 338020 words/s, in_qsize 23, out_qsize 0\n",
      "INFO - 01:29:56: EPOCH 0 - PROGRESS: at 16.74% examples, 338327 words/s, in_qsize 21, out_qsize 0\n",
      "INFO - 01:30:56: EPOCH 0 - PROGRESS: at 17.19% examples, 338601 words/s, in_qsize 19, out_qsize 0\n",
      "INFO - 01:31:56: EPOCH 0 - PROGRESS: at 17.65% examples, 338919 words/s, in_qsize 24, out_qsize 2\n",
      "INFO - 01:32:56: EPOCH 0 - PROGRESS: at 18.10% examples, 339237 words/s, in_qsize 23, out_qsize 0\n",
      "INFO - 01:33:56: EPOCH 0 - PROGRESS: at 18.56% examples, 339566 words/s, in_qsize 23, out_qsize 0\n",
      "INFO - 01:34:56: EPOCH 0 - PROGRESS: at 19.02% examples, 339789 words/s, in_qsize 23, out_qsize 0\n",
      "INFO - 01:35:56: EPOCH 0 - PROGRESS: at 19.47% examples, 339981 words/s, in_qsize 22, out_qsize 1\n",
      "INFO - 01:36:56: EPOCH 0 - PROGRESS: at 19.92% examples, 340203 words/s, in_qsize 23, out_qsize 0\n",
      "INFO - 01:37:56: EPOCH 0 - PROGRESS: at 20.38% examples, 340492 words/s, in_qsize 23, out_qsize 0\n",
      "INFO - 01:38:57: EPOCH 0 - PROGRESS: at 20.84% examples, 340748 words/s, in_qsize 23, out_qsize 0\n",
      "INFO - 01:39:57: EPOCH 0 - PROGRESS: at 21.30% examples, 341002 words/s, in_qsize 23, out_qsize 0\n",
      "INFO - 01:40:57: EPOCH 0 - PROGRESS: at 21.76% examples, 341200 words/s, in_qsize 23, out_qsize 0\n",
      "INFO - 01:41:57: EPOCH 0 - PROGRESS: at 22.22% examples, 341451 words/s, in_qsize 23, out_qsize 0\n",
      "INFO - 01:42:57: EPOCH 0 - PROGRESS: at 22.68% examples, 341685 words/s, in_qsize 23, out_qsize 0\n",
      "INFO - 01:43:57: EPOCH 0 - PROGRESS: at 23.14% examples, 341903 words/s, in_qsize 23, out_qsize 0\n",
      "INFO - 01:44:57: EPOCH 0 - PROGRESS: at 23.60% examples, 342130 words/s, in_qsize 23, out_qsize 0\n",
      "INFO - 01:45:57: EPOCH 0 - PROGRESS: at 24.06% examples, 342336 words/s, in_qsize 20, out_qsize 0\n",
      "INFO - 01:46:57: EPOCH 0 - PROGRESS: at 24.52% examples, 342570 words/s, in_qsize 23, out_qsize 0\n",
      "INFO - 01:47:57: EPOCH 0 - PROGRESS: at 24.98% examples, 342772 words/s, in_qsize 23, out_qsize 0\n",
      "INFO - 01:48:57: EPOCH 0 - PROGRESS: at 25.44% examples, 342931 words/s, in_qsize 23, out_qsize 0\n",
      "INFO - 01:49:57: EPOCH 0 - PROGRESS: at 25.89% examples, 343037 words/s, in_qsize 23, out_qsize 0\n",
      "INFO - 01:50:57: EPOCH 0 - PROGRESS: at 26.35% examples, 343166 words/s, in_qsize 22, out_qsize 1\n",
      "INFO - 01:51:57: EPOCH 0 - PROGRESS: at 26.81% examples, 343348 words/s, in_qsize 23, out_qsize 0\n",
      "INFO - 01:52:57: EPOCH 0 - PROGRESS: at 27.27% examples, 343513 words/s, in_qsize 23, out_qsize 0\n",
      "INFO - 01:53:57: EPOCH 0 - PROGRESS: at 27.73% examples, 343662 words/s, in_qsize 23, out_qsize 0\n",
      "INFO - 01:54:57: EPOCH 0 - PROGRESS: at 28.18% examples, 343760 words/s, in_qsize 23, out_qsize 0\n",
      "INFO - 01:55:57: EPOCH 0 - PROGRESS: at 28.64% examples, 343855 words/s, in_qsize 23, out_qsize 1\n",
      "INFO - 01:56:57: EPOCH 0 - PROGRESS: at 29.09% examples, 343989 words/s, in_qsize 23, out_qsize 0\n",
      "INFO - 01:57:57: EPOCH 0 - PROGRESS: at 29.56% examples, 344153 words/s, in_qsize 23, out_qsize 2\n",
      "INFO - 01:58:57: EPOCH 0 - PROGRESS: at 30.01% examples, 344292 words/s, in_qsize 23, out_qsize 0\n",
      "INFO - 01:59:57: EPOCH 0 - PROGRESS: at 30.48% examples, 344422 words/s, in_qsize 8, out_qsize 4\n",
      "INFO - 02:00:57: EPOCH 0 - PROGRESS: at 30.93% examples, 344544 words/s, in_qsize 22, out_qsize 1\n",
      "INFO - 02:01:57: EPOCH 0 - PROGRESS: at 31.40% examples, 344697 words/s, in_qsize 23, out_qsize 0\n",
      "INFO - 02:02:57: EPOCH 0 - PROGRESS: at 31.85% examples, 344812 words/s, in_qsize 23, out_qsize 0\n",
      "INFO - 02:03:57: EPOCH 0 - PROGRESS: at 32.31% examples, 344927 words/s, in_qsize 23, out_qsize 0\n",
      "INFO - 02:04:57: EPOCH 0 - PROGRESS: at 32.77% examples, 345043 words/s, in_qsize 23, out_qsize 0\n",
      "INFO - 02:05:57: EPOCH 0 - PROGRESS: at 33.23% examples, 345153 words/s, in_qsize 21, out_qsize 2\n",
      "INFO - 02:06:57: EPOCH 0 - PROGRESS: at 33.69% examples, 345253 words/s, in_qsize 23, out_qsize 0\n",
      "INFO - 02:07:57: EPOCH 0 - PROGRESS: at 34.15% examples, 345360 words/s, in_qsize 23, out_qsize 0\n",
      "INFO - 02:08:57: EPOCH 0 - PROGRESS: at 34.61% examples, 345501 words/s, in_qsize 23, out_qsize 0\n",
      "INFO - 02:09:57: EPOCH 0 - PROGRESS: at 35.07% examples, 345534 words/s, in_qsize 23, out_qsize 0\n",
      "INFO - 02:10:57: EPOCH 0 - PROGRESS: at 35.51% examples, 345504 words/s, in_qsize 23, out_qsize 0\n",
      "INFO - 02:11:57: EPOCH 0 - PROGRESS: at 35.97% examples, 345607 words/s, in_qsize 23, out_qsize 0\n",
      "INFO - 02:12:57: EPOCH 0 - PROGRESS: at 36.43% examples, 345695 words/s, in_qsize 23, out_qsize 0\n",
      "INFO - 02:13:57: EPOCH 0 - PROGRESS: at 36.89% examples, 345772 words/s, in_qsize 23, out_qsize 0\n",
      "INFO - 02:14:57: EPOCH 0 - PROGRESS: at 37.35% examples, 345845 words/s, in_qsize 19, out_qsize 0\n",
      "INFO - 02:15:57: EPOCH 0 - PROGRESS: at 37.80% examples, 345902 words/s, in_qsize 23, out_qsize 0\n",
      "INFO - 02:16:57: EPOCH 0 - PROGRESS: at 38.26% examples, 345997 words/s, in_qsize 22, out_qsize 1\n",
      "INFO - 02:17:57: EPOCH 0 - PROGRESS: at 38.72% examples, 346107 words/s, in_qsize 22, out_qsize 0\n",
      "INFO - 02:18:57: EPOCH 0 - PROGRESS: at 39.19% examples, 346210 words/s, in_qsize 22, out_qsize 1\n",
      "INFO - 02:19:57: EPOCH 0 - PROGRESS: at 39.64% examples, 346250 words/s, in_qsize 23, out_qsize 0\n",
      "INFO - 02:20:58: EPOCH 0 - PROGRESS: at 40.08% examples, 346103 words/s, in_qsize 23, out_qsize 0\n",
      "INFO - 02:21:58: EPOCH 0 - PROGRESS: at 40.53% examples, 346141 words/s, in_qsize 23, out_qsize 0\n",
      "INFO - 02:22:58: EPOCH 0 - PROGRESS: at 40.99% examples, 346214 words/s, in_qsize 23, out_qsize 0\n",
      "INFO - 02:23:58: EPOCH 0 - PROGRESS: at 41.45% examples, 346301 words/s, in_qsize 23, out_qsize 0\n",
      "INFO - 02:24:58: EPOCH 0 - PROGRESS: at 41.90% examples, 346324 words/s, in_qsize 23, out_qsize 0\n",
      "INFO - 02:25:58: EPOCH 0 - PROGRESS: at 42.35% examples, 346274 words/s, in_qsize 23, out_qsize 1\n",
      "INFO - 02:26:58: EPOCH 0 - PROGRESS: at 42.80% examples, 346339 words/s, in_qsize 16, out_qsize 0\n",
      "INFO - 02:27:58: EPOCH 0 - PROGRESS: at 43.27% examples, 346436 words/s, in_qsize 23, out_qsize 0\n",
      "INFO - 02:28:58: EPOCH 0 - PROGRESS: at 43.73% examples, 346517 words/s, in_qsize 23, out_qsize 0\n",
      "INFO - 02:29:58: EPOCH 0 - PROGRESS: at 44.19% examples, 346582 words/s, in_qsize 23, out_qsize 0\n",
      "INFO - 02:30:58: EPOCH 0 - PROGRESS: at 44.65% examples, 346657 words/s, in_qsize 23, out_qsize 0\n",
      "INFO - 02:31:58: EPOCH 0 - PROGRESS: at 45.11% examples, 346756 words/s, in_qsize 23, out_qsize 0\n",
      "INFO - 02:32:58: EPOCH 0 - PROGRESS: at 45.57% examples, 346840 words/s, in_qsize 13, out_qsize 1\n",
      "INFO - 02:33:58: EPOCH 0 - PROGRESS: at 46.03% examples, 346927 words/s, in_qsize 23, out_qsize 0\n",
      "INFO - 02:34:58: EPOCH 0 - PROGRESS: at 46.49% examples, 346948 words/s, in_qsize 23, out_qsize 0\n",
      "INFO - 02:35:58: EPOCH 0 - PROGRESS: at 46.93% examples, 346849 words/s, in_qsize 23, out_qsize 0\n",
      "INFO - 02:36:58: EPOCH 0 - PROGRESS: at 47.38% examples, 346882 words/s, in_qsize 23, out_qsize 0\n",
      "INFO - 02:37:58: EPOCH 0 - PROGRESS: at 47.84% examples, 346966 words/s, in_qsize 23, out_qsize 0\n",
      "INFO - 02:38:58: EPOCH 0 - PROGRESS: at 48.31% examples, 347043 words/s, in_qsize 23, out_qsize 0\n",
      "INFO - 02:39:58: EPOCH 0 - PROGRESS: at 48.77% examples, 347104 words/s, in_qsize 21, out_qsize 1\n",
      "INFO - 02:40:58: EPOCH 0 - PROGRESS: at 49.23% examples, 347181 words/s, in_qsize 23, out_qsize 0\n",
      "INFO - 02:41:58: EPOCH 0 - PROGRESS: at 49.69% examples, 347246 words/s, in_qsize 23, out_qsize 0\n",
      "INFO - 02:42:58: EPOCH 0 - PROGRESS: at 50.15% examples, 347302 words/s, in_qsize 23, out_qsize 0\n",
      "INFO - 02:43:58: EPOCH 0 - PROGRESS: at 50.61% examples, 347376 words/s, in_qsize 23, out_qsize 0\n",
      "INFO - 02:44:58: EPOCH 0 - PROGRESS: at 51.06% examples, 347388 words/s, in_qsize 23, out_qsize 0\n",
      "INFO - 02:45:58: EPOCH 0 - PROGRESS: at 51.50% examples, 347304 words/s, in_qsize 23, out_qsize 0\n",
      "INFO - 02:46:58: EPOCH 0 - PROGRESS: at 51.96% examples, 347344 words/s, in_qsize 23, out_qsize 0\n",
      "INFO - 02:47:58: EPOCH 0 - PROGRESS: at 52.42% examples, 347418 words/s, in_qsize 23, out_qsize 0\n",
      "INFO - 02:48:58: EPOCH 0 - PROGRESS: at 52.89% examples, 347500 words/s, in_qsize 23, out_qsize 0\n",
      "INFO - 02:49:59: EPOCH 0 - PROGRESS: at 53.34% examples, 347510 words/s, in_qsize 23, out_qsize 0\n",
      "INFO - 02:50:59: EPOCH 0 - PROGRESS: at 53.79% examples, 347510 words/s, in_qsize 22, out_qsize 1\n",
      "INFO - 02:51:59: EPOCH 0 - PROGRESS: at 54.26% examples, 347571 words/s, in_qsize 23, out_qsize 0\n",
      "INFO - 02:52:59: EPOCH 0 - PROGRESS: at 54.72% examples, 347627 words/s, in_qsize 23, out_qsize 0\n",
      "INFO - 02:53:59: EPOCH 0 - PROGRESS: at 55.18% examples, 347690 words/s, in_qsize 23, out_qsize 0\n",
      "INFO - 02:54:59: EPOCH 0 - PROGRESS: at 55.63% examples, 347692 words/s, in_qsize 23, out_qsize 0\n",
      "INFO - 02:55:59: EPOCH 0 - PROGRESS: at 56.06% examples, 347553 words/s, in_qsize 24, out_qsize 0\n",
      "INFO - 02:56:59: EPOCH 0 - PROGRESS: at 56.52% examples, 347577 words/s, in_qsize 23, out_qsize 0\n",
      "INFO - 02:57:59: EPOCH 0 - PROGRESS: at 56.98% examples, 347630 words/s, in_qsize 23, out_qsize 0\n",
      "INFO - 02:58:59: EPOCH 0 - PROGRESS: at 57.44% examples, 347697 words/s, in_qsize 23, out_qsize 0\n",
      "INFO - 02:59:59: EPOCH 0 - PROGRESS: at 57.90% examples, 347727 words/s, in_qsize 23, out_qsize 0\n",
      "INFO - 03:00:59: EPOCH 0 - PROGRESS: at 58.36% examples, 347787 words/s, in_qsize 22, out_qsize 1\n",
      "INFO - 03:01:59: EPOCH 0 - PROGRESS: at 58.82% examples, 347842 words/s, in_qsize 23, out_qsize 0\n",
      "INFO - 03:02:59: EPOCH 0 - PROGRESS: at 59.28% examples, 347895 words/s, in_qsize 23, out_qsize 0\n",
      "INFO - 03:03:59: EPOCH 0 - PROGRESS: at 59.74% examples, 347957 words/s, in_qsize 23, out_qsize 0\n",
      "INFO - 03:04:59: EPOCH 0 - PROGRESS: at 60.20% examples, 347975 words/s, in_qsize 23, out_qsize 0\n",
      "INFO - 03:05:59: EPOCH 0 - PROGRESS: at 60.62% examples, 347805 words/s, in_qsize 17, out_qsize 0\n",
      "INFO - 03:06:59: EPOCH 0 - PROGRESS: at 61.07% examples, 347783 words/s, in_qsize 23, out_qsize 0\n",
      "INFO - 03:07:59: EPOCH 0 - PROGRESS: at 61.53% examples, 347840 words/s, in_qsize 23, out_qsize 0\n",
      "Exception in thread Thread-17:\n",
      "Traceback (most recent call last):\n",
      "  File \"/home/vpetukhov/local/miniconda3/envs/nlp/lib/python3.8/threading.py\", line 932, in _bootstrap_inner\n",
      "    self.run()\n",
      "  File \"/home/vpetukhov/local/miniconda3/envs/nlp/lib/python3.8/threading.py\", line 870, in run\n",
      "    self._target(*self._args, **self._kwargs)\n",
      "  File \"/home/vpetukhov/local/miniconda3/envs/nlp/lib/python3.8/site-packages/gensim/models/word2vec.py\", line 1199, in _job_producer\n",
      "    for data_idx, data in enumerate(data_iterator):\n",
      "  File \"/tmp/ipykernel_338/1984805240.py\", line 2, in <lambda>\n",
      "AttributeError: 'NoneType' object has no attribute 'split'\n"
     ]
    },
    {
     "ename": "KeyboardInterrupt",
     "evalue": "",
     "output_type": "error",
     "traceback": [
      "\u001b[0;31m---------------------------------------------------------------------------\u001b[0m",
      "\u001b[0;31mKeyboardInterrupt\u001b[0m                         Traceback (most recent call last)",
      "\u001b[1;32m/home/vpetukhov/other/NLPProjects/LearningExperiments/word_embeddings/fine_tune_word2vec.ipynb Cell 31\u001b[0m in \u001b[0;36m<cell line: 1>\u001b[0;34m()\u001b[0m\n\u001b[0;32m----> <a href='vscode-notebook-cell:/home/vpetukhov/other/NLPProjects/LearningExperiments/word_embeddings/fine_tune_word2vec.ipynb#X43sZmlsZQ%3D%3D?line=0'>1</a>\u001b[0m model\u001b[39m.\u001b[39;49mtrain(train_iter, total_examples\u001b[39m=\u001b[39;49mtoken_dict\u001b[39m.\u001b[39;49mnum_docs, epochs\u001b[39m=\u001b[39;49m\u001b[39m3\u001b[39;49m, report_delay\u001b[39m=\u001b[39;49m\u001b[39m60\u001b[39;49m)\n",
      "File \u001b[0;32m~/local/miniconda3/envs/nlp/lib/python3.8/site-packages/gensim/models/word2vec.py:1070\u001b[0m, in \u001b[0;36mWord2Vec.train\u001b[0;34m(self, corpus_iterable, corpus_file, total_examples, total_words, epochs, start_alpha, end_alpha, word_count, queue_factor, report_delay, compute_loss, callbacks, **kwargs)\u001b[0m\n\u001b[1;32m   1067\u001b[0m     callback\u001b[39m.\u001b[39mon_epoch_begin(\u001b[39mself\u001b[39m)\n\u001b[1;32m   1069\u001b[0m \u001b[39mif\u001b[39;00m corpus_iterable \u001b[39mis\u001b[39;00m \u001b[39mnot\u001b[39;00m \u001b[39mNone\u001b[39;00m:\n\u001b[0;32m-> 1070\u001b[0m     trained_word_count_epoch, raw_word_count_epoch, job_tally_epoch \u001b[39m=\u001b[39m \u001b[39mself\u001b[39;49m\u001b[39m.\u001b[39;49m_train_epoch(\n\u001b[1;32m   1071\u001b[0m         corpus_iterable, cur_epoch\u001b[39m=\u001b[39;49mcur_epoch, total_examples\u001b[39m=\u001b[39;49mtotal_examples,\n\u001b[1;32m   1072\u001b[0m         total_words\u001b[39m=\u001b[39;49mtotal_words, queue_factor\u001b[39m=\u001b[39;49mqueue_factor, report_delay\u001b[39m=\u001b[39;49mreport_delay,\n\u001b[1;32m   1073\u001b[0m         callbacks\u001b[39m=\u001b[39;49mcallbacks, \u001b[39m*\u001b[39;49m\u001b[39m*\u001b[39;49mkwargs)\n\u001b[1;32m   1074\u001b[0m \u001b[39melse\u001b[39;00m:\n\u001b[1;32m   1075\u001b[0m     trained_word_count_epoch, raw_word_count_epoch, job_tally_epoch \u001b[39m=\u001b[39m \u001b[39mself\u001b[39m\u001b[39m.\u001b[39m_train_epoch_corpusfile(\n\u001b[1;32m   1076\u001b[0m         corpus_file, cur_epoch\u001b[39m=\u001b[39mcur_epoch, total_examples\u001b[39m=\u001b[39mtotal_examples, total_words\u001b[39m=\u001b[39mtotal_words,\n\u001b[1;32m   1077\u001b[0m         callbacks\u001b[39m=\u001b[39mcallbacks, \u001b[39m*\u001b[39m\u001b[39m*\u001b[39mkwargs)\n",
      "File \u001b[0;32m~/local/miniconda3/envs/nlp/lib/python3.8/site-packages/gensim/models/word2vec.py:1431\u001b[0m, in \u001b[0;36mWord2Vec._train_epoch\u001b[0;34m(self, data_iterable, cur_epoch, total_examples, total_words, queue_factor, report_delay, callbacks)\u001b[0m\n\u001b[1;32m   1428\u001b[0m     thread\u001b[39m.\u001b[39mdaemon \u001b[39m=\u001b[39m \u001b[39mTrue\u001b[39;00m  \u001b[39m# make interrupting the process with ctrl+c easier\u001b[39;00m\n\u001b[1;32m   1429\u001b[0m     thread\u001b[39m.\u001b[39mstart()\n\u001b[0;32m-> 1431\u001b[0m trained_word_count, raw_word_count, job_tally \u001b[39m=\u001b[39m \u001b[39mself\u001b[39;49m\u001b[39m.\u001b[39;49m_log_epoch_progress(\n\u001b[1;32m   1432\u001b[0m     progress_queue, job_queue, cur_epoch\u001b[39m=\u001b[39;49mcur_epoch, total_examples\u001b[39m=\u001b[39;49mtotal_examples,\n\u001b[1;32m   1433\u001b[0m     total_words\u001b[39m=\u001b[39;49mtotal_words, report_delay\u001b[39m=\u001b[39;49mreport_delay, is_corpus_file_mode\u001b[39m=\u001b[39;49m\u001b[39mFalse\u001b[39;49;00m,\n\u001b[1;32m   1434\u001b[0m )\n\u001b[1;32m   1436\u001b[0m \u001b[39mreturn\u001b[39;00m trained_word_count, raw_word_count, job_tally\n",
      "File \u001b[0;32m~/local/miniconda3/envs/nlp/lib/python3.8/site-packages/gensim/models/word2vec.py:1286\u001b[0m, in \u001b[0;36mWord2Vec._log_epoch_progress\u001b[0;34m(self, progress_queue, job_queue, cur_epoch, total_examples, total_words, report_delay, is_corpus_file_mode)\u001b[0m\n\u001b[1;32m   1283\u001b[0m unfinished_worker_count \u001b[39m=\u001b[39m \u001b[39mself\u001b[39m\u001b[39m.\u001b[39mworkers\n\u001b[1;32m   1285\u001b[0m \u001b[39mwhile\u001b[39;00m unfinished_worker_count \u001b[39m>\u001b[39m \u001b[39m0\u001b[39m:\n\u001b[0;32m-> 1286\u001b[0m     report \u001b[39m=\u001b[39m progress_queue\u001b[39m.\u001b[39;49mget()  \u001b[39m# blocks if workers too slow\u001b[39;00m\n\u001b[1;32m   1287\u001b[0m     \u001b[39mif\u001b[39;00m report \u001b[39mis\u001b[39;00m \u001b[39mNone\u001b[39;00m:  \u001b[39m# a thread reporting that it finished\u001b[39;00m\n\u001b[1;32m   1288\u001b[0m         unfinished_worker_count \u001b[39m-\u001b[39m\u001b[39m=\u001b[39m \u001b[39m1\u001b[39m\n",
      "File \u001b[0;32m~/local/miniconda3/envs/nlp/lib/python3.8/queue.py:170\u001b[0m, in \u001b[0;36mQueue.get\u001b[0;34m(self, block, timeout)\u001b[0m\n\u001b[1;32m    168\u001b[0m \u001b[39melif\u001b[39;00m timeout \u001b[39mis\u001b[39;00m \u001b[39mNone\u001b[39;00m:\n\u001b[1;32m    169\u001b[0m     \u001b[39mwhile\u001b[39;00m \u001b[39mnot\u001b[39;00m \u001b[39mself\u001b[39m\u001b[39m.\u001b[39m_qsize():\n\u001b[0;32m--> 170\u001b[0m         \u001b[39mself\u001b[39;49m\u001b[39m.\u001b[39;49mnot_empty\u001b[39m.\u001b[39;49mwait()\n\u001b[1;32m    171\u001b[0m \u001b[39melif\u001b[39;00m timeout \u001b[39m<\u001b[39m \u001b[39m0\u001b[39m:\n\u001b[1;32m    172\u001b[0m     \u001b[39mraise\u001b[39;00m \u001b[39mValueError\u001b[39;00m(\u001b[39m\"\u001b[39m\u001b[39m'\u001b[39m\u001b[39mtimeout\u001b[39m\u001b[39m'\u001b[39m\u001b[39m must be a non-negative number\u001b[39m\u001b[39m\"\u001b[39m)\n",
      "File \u001b[0;32m~/local/miniconda3/envs/nlp/lib/python3.8/threading.py:302\u001b[0m, in \u001b[0;36mCondition.wait\u001b[0;34m(self, timeout)\u001b[0m\n\u001b[1;32m    300\u001b[0m \u001b[39mtry\u001b[39;00m:    \u001b[39m# restore state no matter what (e.g., KeyboardInterrupt)\u001b[39;00m\n\u001b[1;32m    301\u001b[0m     \u001b[39mif\u001b[39;00m timeout \u001b[39mis\u001b[39;00m \u001b[39mNone\u001b[39;00m:\n\u001b[0;32m--> 302\u001b[0m         waiter\u001b[39m.\u001b[39;49macquire()\n\u001b[1;32m    303\u001b[0m         gotit \u001b[39m=\u001b[39m \u001b[39mTrue\u001b[39;00m\n\u001b[1;32m    304\u001b[0m     \u001b[39melse\u001b[39;00m:\n",
      "\u001b[0;31mKeyboardInterrupt\u001b[0m: "
     ]
    }
   ],
   "source": [
    "# model.train(train_iter, total_examples=token_dict.num_docs, epochs=3, report_delay=60) # epochs=5"
   ]
  },
  {
   "cell_type": "code",
   "execution_count": 14,
   "metadata": {
    "tags": []
   },
   "outputs": [
    {
     "name": "stderr",
     "output_type": "stream",
     "text": [
      "INFO - 11:50:21: Word2Vec lifecycle event {'fname_or_handle': '/home/vpetukhov/data_nlp/embeddings/w2v_pubmed_200_finetuned_all_w1000.model', 'separately': 'None', 'sep_limit': 10485760, 'ignore': frozenset(), 'datetime': '2022-10-11T11:50:21.707258', 'gensim': '4.2.0', 'python': '3.8.0 (default, Nov  6 2019, 21:49:08) \\n[GCC 7.3.0]', 'platform': 'Linux-5.15.71-gentoo-x86_64-x86_64-Intel-R-_Core-TM-_i7-8850H_CPU_@_2.60GHz-with-glibc2.10', 'event': 'saving'}\n",
      "INFO - 11:50:21: not storing attribute cum_table\n",
      "INFO - 11:50:21: saved /home/vpetukhov/data_nlp/embeddings/w2v_pubmed_200_finetuned_all_w1000.model\n"
     ]
    },
    {
     "name": "stdout",
     "output_type": "stream",
     "text": [
      "CPU times: user 22.8 ms, sys: 46.6 ms, total: 69.4 ms\n",
      "Wall time: 73.3 ms\n"
     ]
    }
   ],
   "source": [
    "%time model.save(f\"/home/vpetukhov/data_nlp/embeddings/w2v_pubmed_200_finetuned_{DATA_PART}_w{WINDOW_SIZE}.model\")"
   ]
  }
 ],
 "metadata": {
  "kernelspec": {
   "display_name": "nlp",
   "language": "python",
   "name": "nlp"
  },
  "language_info": {
   "codemirror_mode": {
    "name": "ipython",
    "version": 3
   },
   "file_extension": ".py",
   "mimetype": "text/x-python",
   "name": "python",
   "nbconvert_exporter": "python",
   "pygments_lexer": "ipython3",
   "version": "3.8.0"
  },
  "vscode": {
   "interpreter": {
    "hash": "5d9401d23a1ed1d08f25a4cec51c4493ded3c3e1025596effefd6a7f3f49276f"
   }
  }
 },
 "nbformat": 4,
 "nbformat_minor": 4
}
