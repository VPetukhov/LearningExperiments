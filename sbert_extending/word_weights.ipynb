{
 "cells": [
  {
   "cell_type": "code",
   "execution_count": 1,
   "metadata": {},
   "outputs": [],
   "source": [
    "# !pip install -U sentence_transformers torch wandb python-dotenv"
   ]
  },
  {
   "cell_type": "code",
   "execution_count": 7,
   "metadata": {},
   "outputs": [],
   "source": [
    "from datasets import DatasetDict\n",
    "from torch.utils.data import DataLoader\n",
    "import torch\n",
    "import math\n",
    "from sentence_transformers import SentenceTransformer, LoggingHandler, losses, util, InputExample\n",
    "from sentence_transformers.evaluation import EmbeddingSimilarityEvaluator\n",
    "import logging\n",
    "from datetime import datetime\n",
    "import os\n",
    "import gzip\n",
    "import csv\n",
    "import matplotlib.pyplot as plt\n",
    "\n",
    "#### Just some code to print debug information to stdout\n",
    "logging.basicConfig(format='%(asctime)s - %(message)s',\n",
    "                    datefmt='%Y-%m-%d %H:%M:%S',\n",
    "                    level=logging.INFO,\n",
    "                    handlers=[LoggingHandler()])\n",
    "#### /print debug information to stdout\n",
    "\n",
    "#Check if dataset exsist. If not, download and extract  it\n",
    "sts_dataset_path = 'datasets/stsbenchmark.tsv.gz'\n",
    "\n",
    "if not os.path.exists(sts_dataset_path):\n",
    "    util.http_get('https://sbert.net/datasets/stsbenchmark.tsv.gz', sts_dataset_path)"
   ]
  },
  {
   "cell_type": "code",
   "execution_count": 4,
   "metadata": {},
   "outputs": [
    {
     "data": {
      "text/plain": [
       "True"
      ]
     },
     "execution_count": 4,
     "metadata": {},
     "output_type": "execute_result"
    }
   ],
   "source": [
    "import wandb\n",
    "from dotenv import load_dotenv\n",
    "load_dotenv()"
   ]
  },
  {
   "cell_type": "code",
   "execution_count": 5,
   "metadata": {},
   "outputs": [
    {
     "name": "stderr",
     "output_type": "stream",
     "text": [
      "\u001b[34m\u001b[1mwandb\u001b[0m: Currently logged in as: \u001b[33mvpetukhov\u001b[0m. Use \u001b[1m`wandb login --relogin`\u001b[0m to force relogin\n"
     ]
    },
    {
     "data": {
      "text/html": [
       "Tracking run with wandb version 0.13.5"
      ],
      "text/plain": [
       "<IPython.core.display.HTML object>"
      ]
     },
     "metadata": {},
     "output_type": "display_data"
    },
    {
     "data": {
      "text/html": [
       "Run data is saved locally in <code>/notebooks/wandb/run-20221123_163356-1ehaapex</code>"
      ],
      "text/plain": [
       "<IPython.core.display.HTML object>"
      ]
     },
     "metadata": {},
     "output_type": "display_data"
    },
    {
     "data": {
      "text/html": [
       "Syncing run <strong><a href=\"https://wandb.ai/vpetukhov/ea-forum-analysis/runs/1ehaapex\" target=\"_blank\">dutiful-sun-49</a></strong> to <a href=\"https://wandb.ai/vpetukhov/ea-forum-analysis\" target=\"_blank\">Weights & Biases</a> (<a href=\"https://wandb.me/run\" target=\"_blank\">docs</a>)<br/>"
      ],
      "text/plain": [
       "<IPython.core.display.HTML object>"
      ]
     },
     "metadata": {},
     "output_type": "display_data"
    }
   ],
   "source": [
    "wandb.login() # relies on WANDB_API_KEY env var\n",
    "run = wandb.init(\n",
    "    project=\"ea-forum-analysis\", job_type=\"training\"\n",
    ")"
   ]
  },
  {
   "cell_type": "code",
   "execution_count": 8,
   "metadata": {},
   "outputs": [
    {
     "name": "stderr",
     "output_type": "stream",
     "text": [
      "\u001b[34m\u001b[1mwandb\u001b[0m: Downloading large artifact post_pairs:latest, 403.55MB. 7 files... \n",
      "\u001b[34m\u001b[1mwandb\u001b[0m:   7 of 7 files downloaded.  \n",
      "Done. 0:0:18.4\n"
     ]
    },
    {
     "data": {
      "text/plain": [
       "DatasetDict({\n",
       "    train: Dataset({\n",
       "        features: ['src_text', 'dst_text', 'src_post_id', 'dst_post_id', 'sims'],\n",
       "        num_rows: 174991\n",
       "    })\n",
       "    dev: Dataset({\n",
       "        features: ['src_text', 'dst_text', 'src_post_id', 'dst_post_id', 'sims'],\n",
       "        num_rows: 4220\n",
       "    })\n",
       "})"
      ]
     },
     "execution_count": 8,
     "metadata": {},
     "output_type": "execute_result"
    }
   ],
   "source": [
    "art = run.use_artifact(\"post_pairs:latest\")\n",
    "data = DatasetDict.load_from_disk(art.download())\n",
    "data"
   ]
  },
  {
   "cell_type": "code",
   "execution_count": 72,
   "metadata": {},
   "outputs": [
    {
     "name": "stdout",
     "output_type": "stream",
     "text": [
      "2022-11-23 17:00:08 - Load pretrained SentenceTransformer: all-MiniLM-L6-v2\n",
      "2022-11-23 17:00:08 - Use pytorch device: cuda\n"
     ]
    }
   ],
   "source": [
    "# Read the dataset\n",
    "# model_name = 'nli-distilroberta-base-v2'\n",
    "model_name = 'all-MiniLM-L6-v2'\n",
    "train_batch_size = 256\n",
    "num_epochs = 1\n",
    "model_save_path = 'output/training_stsbenchmark_continue_training-'+model_name+'-'+datetime.now().strftime(\"%Y-%m-%d_%H-%M-%S\")\n",
    "\n",
    "\n",
    "# Load a pre-trained sentence transformer model\n",
    "model = SentenceTransformer(model_name).cuda()\n",
    "\n",
    "train_samples = [InputExample(texts=ts, label=float(l)) for ts,l in zip(zip(data['train']['src_text'], data['train']['dst_text']), data['train']['sims'])]\n",
    "evaluator = EmbeddingSimilarityEvaluator(data['dev']['src_text'], data['dev']['dst_text'], data['dev']['sims'], batch_size=512)\n",
    "\n",
    "# train_samples = []\n",
    "# dev_samples = []\n",
    "# test_samples = []\n",
    "# with gzip.open(sts_dataset_path, 'rt', encoding='utf8') as fIn:\n",
    "#     reader = csv.DictReader(fIn, delimiter='\\t', quoting=csv.QUOTE_NONE)\n",
    "#     for row in reader:\n",
    "#         score = float(row['score']) / 5.0  # Normalize score to range 0 ... 1\n",
    "#         inp_example = InputExample(texts=[row['sentence1'], row['sentence2']], label=score)\n",
    "\n",
    "#         if row['split'] == 'dev':\n",
    "#             dev_samples.append(inp_example)\n",
    "#         elif row['split'] == 'test':\n",
    "#             test_samples.append(inp_example)\n",
    "#         else:\n",
    "#             train_samples.append(inp_example)\n",
    "\n",
    "# train_dataloader = DataLoader(train_samples, shuffle=True, batch_size=train_batch_size)\n",
    "# train_loss = losses.CosineSimilarityLoss(model=model)"
   ]
  },
  {
   "cell_type": "code",
   "execution_count": 9,
   "metadata": {},
   "outputs": [
    {
     "name": "stdout",
     "output_type": "stream",
     "text": [
      "2022-11-23 15:00:14 - Read STSbenchmark dev dataset\n"
     ]
    }
   ],
   "source": [
    "# Development set: Measure correlation between cosine score and gold labels\n",
    "# logging.info(\"Read STSbenchmark dev dataset\")\n",
    "# evaluator = EmbeddingSimilarityEvaluator.from_input_examples(dev_samples, name='sts-dev')"
   ]
  },
  {
   "cell_type": "code",
   "execution_count": 39,
   "metadata": {},
   "outputs": [
    {
     "name": "stdout",
     "output_type": "stream",
     "text": [
      "2022-11-23 16:43:32 - EmbeddingSimilarityEvaluator: Evaluating the model on  dataset:\n",
      "2022-11-23 16:43:52 - Cosine-Similarity :\tPearson: 0.6034\tSpearman: 0.5573\n",
      "2022-11-23 16:43:52 - Manhattan-Distance:\tPearson: 0.6100\tSpearman: 0.5580\n",
      "2022-11-23 16:43:52 - Euclidean-Distance:\tPearson: 0.6106\tSpearman: 0.5573\n",
      "2022-11-23 16:43:52 - Dot-Product-Similarity:\tPearson: 0.6034\tSpearman: 0.5573\n"
     ]
    },
    {
     "data": {
      "text/plain": [
       "0.5580159339745571"
      ]
     },
     "execution_count": 39,
     "metadata": {},
     "output_type": "execute_result"
    }
   ],
   "source": [
    "evaluator(model)"
   ]
  },
  {
   "cell_type": "markdown",
   "metadata": {},
   "source": [
    "## Suggested SBERT training"
   ]
  },
  {
   "cell_type": "code",
   "execution_count": 14,
   "metadata": {},
   "outputs": [
    {
     "name": "stdout",
     "output_type": "stream",
     "text": [
      "2022-11-23 15:01:31 - Warmup-steps: 144\n"
     ]
    },
    {
     "data": {
      "application/vnd.jupyter.widget-view+json": {
       "model_id": "7e621399857e4149b3e668c24ebaaeaf",
       "version_major": 2,
       "version_minor": 0
      },
      "text/plain": [
       "Epoch:   0%|          | 0/1 [00:00<?, ?it/s]"
      ]
     },
     "metadata": {},
     "output_type": "display_data"
    },
    {
     "data": {
      "application/vnd.jupyter.widget-view+json": {
       "model_id": "7a83329975c64428bca1c578acb028c2",
       "version_major": 2,
       "version_minor": 0
      },
      "text/plain": [
       "Iteration:   0%|          | 0/360 [00:00<?, ?it/s]"
      ]
     },
     "metadata": {},
     "output_type": "display_data"
    },
    {
     "name": "stdout",
     "output_type": "stream",
     "text": [
      "2022-11-23 15:02:12 - EmbeddingSimilarityEvaluator: Evaluating the model on sts-dev dataset after epoch 0:\n",
      "2022-11-23 15:02:14 - Cosine-Similarity :\tPearson: 0.8882\tSpearman: 0.8889\n",
      "2022-11-23 15:02:14 - Manhattan-Distance:\tPearson: 0.8607\tSpearman: 0.8634\n",
      "2022-11-23 15:02:14 - Euclidean-Distance:\tPearson: 0.8628\tSpearman: 0.8663\n",
      "2022-11-23 15:02:14 - Dot-Product-Similarity:\tPearson: 0.8396\tSpearman: 0.8415\n",
      "2022-11-23 15:02:14 - Save model to output/training_stsbenchmark_continue_training-nli-distilroberta-base-v2-2022-11-23_14-58-46\n",
      "2022-11-23 15:02:20 - Load pretrained SentenceTransformer: output/training_stsbenchmark_continue_training-nli-distilroberta-base-v2-2022-11-23_14-58-46\n",
      "2022-11-23 15:02:21 - Use pytorch device: cuda\n",
      "2022-11-23 15:02:21 - EmbeddingSimilarityEvaluator: Evaluating the model on sts-test dataset:\n",
      "2022-11-23 15:02:23 - Cosine-Similarity :\tPearson: 0.8589\tSpearman: 0.8582\n",
      "2022-11-23 15:02:23 - Manhattan-Distance:\tPearson: 0.8262\tSpearman: 0.8288\n",
      "2022-11-23 15:02:23 - Euclidean-Distance:\tPearson: 0.8297\tSpearman: 0.8319\n",
      "2022-11-23 15:02:23 - Dot-Product-Similarity:\tPearson: 0.8093\tSpearman: 0.8021\n"
     ]
    },
    {
     "data": {
      "text/plain": [
       "0.858169904173178"
      ]
     },
     "execution_count": 14,
     "metadata": {},
     "output_type": "execute_result"
    }
   ],
   "source": [
    "# Configure the training. We skip evaluation in this example\n",
    "warmup_steps = math.ceil(len(train_dataloader) * num_epochs * 0.1) #10% of train data for warm-up\n",
    "logging.info(\"Warmup-steps: {}\".format(warmup_steps))\n",
    "\n",
    "\n",
    "# Train the model\n",
    "model.fit(train_objectives=[(train_dataloader, train_loss)],\n",
    "          evaluator=evaluator,\n",
    "          epochs=1,\n",
    "          evaluation_steps=1000,\n",
    "          warmup_steps=warmup_steps,\n",
    "          output_path=model_save_path)\n",
    "\n",
    "model = SentenceTransformer(model_save_path)\n",
    "test_evaluator = EmbeddingSimilarityEvaluator.from_input_examples(test_samples, name='sts-test')\n",
    "test_evaluator(model, output_path=model_save_path)"
   ]
  },
  {
   "cell_type": "markdown",
   "metadata": {},
   "source": [
    "## Weighting layer"
   ]
  },
  {
   "cell_type": "markdown",
   "metadata": {},
   "source": [
    "### Decompose"
   ]
  },
  {
   "cell_type": "code",
   "execution_count": null,
   "metadata": {},
   "outputs": [
    {
     "name": "stdout",
     "output_type": "stream",
     "text": [
      "2022-11-23 14:55:10 - Load pretrained SentenceTransformer: nli-distilroberta-base-v2\n",
      "2022-11-23 14:55:11 - Use pytorch device: cuda\n"
     ]
    }
   ],
   "source": [
    "model = SentenceTransformer(model_name)\n",
    "train_loss = losses.CosineSimilarityLoss(model=model)"
   ]
  },
  {
   "cell_type": "code",
   "execution_count": 33,
   "metadata": {},
   "outputs": [],
   "source": [
    "t_features, t_labs = next(iter(train_dataloader))\n",
    "pred_sims = torch.cosine_similarity(\n",
    "    model(t_features[0])['sentence_embedding'], \n",
    "    model(t_features[1])['sentence_embedding']\n",
    ")"
   ]
  },
  {
   "cell_type": "code",
   "execution_count": 69,
   "metadata": {},
   "outputs": [],
   "source": [
    "pred_sims = torch.cosine_similarity(\n",
    "    model[1](model[0](t_features[0]))['sentence_embedding'],\n",
    "    model[1](model[0](t_features[1]))['sentence_embedding']\n",
    ")"
   ]
  },
  {
   "cell_type": "code",
   "execution_count": 70,
   "metadata": {},
   "outputs": [
    {
     "data": {
      "text/plain": [
       "<matplotlib.collections.PathCollection at 0x7f6c5b353bb0>"
      ]
     },
     "execution_count": 70,
     "metadata": {},
     "output_type": "execute_result"
    },
    {
     "data": {
      "image/png": "[encoded data removed]",
      "text/plain": [
       "<Figure size 432x288 with 1 Axes>"
      ]
     },
     "metadata": {
      "needs_background": "light"
     },
     "output_type": "display_data"
    }
   ],
   "source": [
    "plt.scatter(pred_sims.detach().numpy(), t_labs.detach().numpy())"
   ]
  },
  {
   "cell_type": "markdown",
   "metadata": {},
   "source": [
    "### New pooling class"
   ]
  },
  {
   "cell_type": "code",
   "execution_count": 13,
   "metadata": {},
   "outputs": [],
   "source": [
    "from tqdm.notebook import tqdm\n",
    "import numpy as np"
   ]
  },
  {
   "cell_type": "code",
   "execution_count": 192,
   "metadata": {},
   "outputs": [],
   "source": [
    "from torch import Tensor, nn\n",
    "from typing import Dict\n",
    "\n",
    "\n",
    "class WPooling(nn.Module):\n",
    "    def __init__(self, word_embedding_dimension: int):\n",
    "        super(WPooling, self).__init__()\n",
    "        self.word_embedding_dimension = word_embedding_dimension\n",
    "        self.pooling_output_dimension = word_embedding_dimension\n",
    "        self.weight_layer = nn.Linear(word_embedding_dimension, 1, bias=True)\n",
    "        self.sigma_layer = nn.ReLU()\n",
    "\n",
    "\n",
    "    def forward(self, features: Dict[str, Tensor]):\n",
    "        token_embeddings = features['token_embeddings']\n",
    "        attention_mask = features['attention_mask']\n",
    "\n",
    "        input_mask_expanded = attention_mask.unsqueeze(-1).expand(token_embeddings.size()).float()\n",
    "\n",
    "        masked_embeddings = (token_embeddings * input_mask_expanded)\n",
    "        token_weights = self.sigma_layer(self.weight_layer(masked_embeddings))\n",
    "        # token_weights = torch.zeros_like(masked_embeddings) + 1\n",
    "\n",
    "        weighted_masked_embeddings = token_weights * masked_embeddings\n",
    "\n",
    "        sum_embeddings = torch.sum(weighted_masked_embeddings, 1)\n",
    "\n",
    "        sum_mask = (token_weights * input_mask_expanded).sum(1)\n",
    "        sum_mask = torch.clamp(sum_mask, min=1e-9)\n",
    "\n",
    "        output_vector = sum_embeddings / sum_mask\n",
    "        features.update({\n",
    "            'sentence_embedding': output_vector, 'token_weights': token_weights,\n",
    "            'masked_embeddings': masked_embeddings, 'input_mask_expanded': input_mask_expanded,\n",
    "            'sum_embeddings': sum_embeddings, 'sum_mask': sum_mask, 'weighted_masked_embeddings': weighted_masked_embeddings\n",
    "        })\n",
    "        return features\n",
    "\n",
    "    # def forward(self, features: Dict[str, Tensor]):\n",
    "    #     token_embeddings = features['token_embeddings']\n",
    "    #     attention_mask = features['attention_mask']\n",
    "\n",
    "    #     input_mask_expanded = attention_mask.unsqueeze(-1).expand(token_embeddings.size()).float()\n",
    "    #     sum_embeddings = torch.sum(token_embeddings * input_mask_expanded, 1)\n",
    "\n",
    "    #     sum_mask = input_mask_expanded.sum(1)\n",
    "    #     sum_mask = torch.clamp(sum_mask, min=1e-9)\n",
    "\n",
    "    #     output_vector = sum_embeddings / sum_mask\n",
    "    #     features.update({'sentence_embedding': output_vector})\n",
    "    #     return features\n",
    "\n",
    "    def get_sentence_embedding_dimension(self):\n",
    "        return self.pooling_output_dimension"
   ]
  },
  {
   "cell_type": "code",
   "execution_count": 175,
   "metadata": {},
   "outputs": [],
   "source": [
    "# tr = model_weighted(X[0])"
   ]
  },
  {
   "cell_type": "code",
   "execution_count": 176,
   "metadata": {},
   "outputs": [],
   "source": [
    "# tr['token_weights'][1, 2]"
   ]
  },
  {
   "cell_type": "code",
   "execution_count": 174,
   "metadata": {},
   "outputs": [],
   "source": [
    "# tr['weighted_masked_embeddings'][1, 2, :]"
   ]
  },
  {
   "cell_type": "code",
   "execution_count": 173,
   "metadata": {},
   "outputs": [],
   "source": [
    "# tr['masked_embeddings'][1, 2, :] * tr['token_weights'][1, 2]"
   ]
  },
  {
   "cell_type": "code",
   "execution_count": 193,
   "metadata": {},
   "outputs": [],
   "source": [
    "train_batch_size = 128"
   ]
  },
  {
   "cell_type": "code",
   "execution_count": 201,
   "metadata": {},
   "outputs": [
    {
     "name": "stdout",
     "output_type": "stream",
     "text": [
      "2022-11-23 18:02:53 - Load pretrained SentenceTransformer: all-MiniLM-L6-v2\n",
      "2022-11-23 18:02:53 - Use pytorch device: cuda\n",
      "2022-11-23 18:02:53 - Use pytorch device: cuda\n"
     ]
    }
   ],
   "source": [
    "model = SentenceTransformer(model_name)\n",
    "model_raw = SentenceTransformer(\n",
    "    modules = [model[0], WPooling(model[0].get_word_embedding_dimension())]\n",
    ").cuda()\n",
    "\n",
    "for p in model_raw[0].parameters():\n",
    "    p.requires_grad = False"
   ]
  },
  {
   "cell_type": "code",
   "execution_count": 203,
   "metadata": {},
   "outputs": [
    {
     "name": "stdout",
     "output_type": "stream",
     "text": [
      "2022-11-23 18:03:17 - EmbeddingSimilarityEvaluator: Evaluating the model on  dataset:\n",
      "2022-11-23 18:03:37 - Cosine-Similarity :\tPearson: 0.4582\tSpearman: 0.4289\n",
      "2022-11-23 18:03:37 - Manhattan-Distance:\tPearson: 0.2996\tSpearman: 0.3261\n",
      "2022-11-23 18:03:37 - Euclidean-Distance:\tPearson: 0.2966\tSpearman: 0.3244\n",
      "2022-11-23 18:03:37 - Dot-Product-Similarity:\tPearson: 0.3580\tSpearman: 0.3797\n"
     ]
    },
    {
     "data": {
      "text/plain": [
       "0.428904590376042"
      ]
     },
     "execution_count": 203,
     "metadata": {},
     "output_type": "execute_result"
    }
   ],
   "source": [
    "evaluator(model_raw)"
   ]
  },
  {
   "cell_type": "markdown",
   "metadata": {},
   "source": [
    "```\n",
    "2022-11-23 18:03:17 - EmbeddingSimilarityEvaluator: Evaluating the model on  dataset:\n",
    "2022-11-23 18:03:37 - Cosine-Similarity :\tPearson: 0.4582\tSpearman: 0.4289\n",
    "2022-11-23 18:03:37 - Manhattan-Distance:\tPearson: 0.2996\tSpearman: 0.3261\n",
    "2022-11-23 18:03:37 - Euclidean-Distance:\tPearson: 0.2966\tSpearman: 0.3244\n",
    "2022-11-23 18:03:37 - Dot-Product-Similarity:\tPearson: 0.3580\tSpearman: 0.3797\n",
    "```"
   ]
  },
  {
   "cell_type": "code",
   "execution_count": 196,
   "metadata": {},
   "outputs": [
    {
     "name": "stdout",
     "output_type": "stream",
     "text": [
      "2022-11-23 17:52:40 - EmbeddingSimilarityEvaluator: Evaluating the model on  dataset:\n",
      "2022-11-23 17:52:59 - Cosine-Similarity :\tPearson: 0.6034\tSpearman: 0.5573\n",
      "2022-11-23 17:52:59 - Manhattan-Distance:\tPearson: 0.6100\tSpearman: 0.5580\n",
      "2022-11-23 17:52:59 - Euclidean-Distance:\tPearson: 0.6106\tSpearman: 0.5573\n",
      "2022-11-23 17:52:59 - Dot-Product-Similarity:\tPearson: 0.6034\tSpearman: 0.5573\n"
     ]
    },
    {
     "data": {
      "text/plain": [
       "0.5580159339745571"
      ]
     },
     "execution_count": 196,
     "metadata": {},
     "output_type": "execute_result"
    }
   ],
   "source": [
    "evaluator(model)"
   ]
  },
  {
   "cell_type": "code",
   "execution_count": 197,
   "metadata": {},
   "outputs": [],
   "source": [
    "train_dataloader = DataLoader(train_samples, shuffle=True, batch_size=train_batch_size)\n",
    "train_dataloader.collate_fn = model_raw.smart_batching_collate\n",
    "# train_loss_w = losses.CosineSimilarityLoss(model=model_weighted)"
   ]
  },
  {
   "cell_type": "code",
   "execution_count": 198,
   "metadata": {},
   "outputs": [],
   "source": [
    "def emb_similarity(output):\n",
    "    embeddings = [r['sentence_embedding'] for r in output]\n",
    "    return torch.cosine_similarity(embeddings[0], embeddings[1])"
   ]
  },
  {
   "cell_type": "markdown",
   "metadata": {},
   "source": [
    "#### Profile training"
   ]
  },
  {
   "cell_type": "code",
   "execution_count": 102,
   "metadata": {},
   "outputs": [],
   "source": [
    "import numpy as np"
   ]
  },
  {
   "cell_type": "code",
   "execution_count": 103,
   "metadata": {},
   "outputs": [],
   "source": [
    "train_loader2 = DataLoader([(t.texts, np.float32(t.label)) for t in train_samples], shuffle=True, batch_size=train_batch_size)"
   ]
  },
  {
   "cell_type": "code",
   "execution_count": 77,
   "metadata": {},
   "outputs": [],
   "source": [
    "# model_weighted[0].tokenize([x.texts for x in train_samples[:10]])"
   ]
  },
  {
   "cell_type": "markdown",
   "metadata": {},
   "source": [
    "- Total: 24s\n",
    "- Tokenize: 3s\n",
    "- Forward pass + Tokenize: 24s\n",
    "- BERT pass + Tokenize: 23s"
   ]
  },
  {
   "cell_type": "code",
   "execution_count": 115,
   "metadata": {},
   "outputs": [
    {
     "data": {
      "application/vnd.jupyter.widget-view+json": {
       "model_id": "af5cf1a996c848d9aafae29399cb37ef",
       "version_major": 2,
       "version_minor": 0
      },
      "text/plain": [
       "  0%|          | 0/684 [00:00<?, ?it/s]"
      ]
     },
     "metadata": {},
     "output_type": "display_data"
    }
   ],
   "source": [
    "optimizer = torch.optim.SGD(model_weighted[1].weight_layer.parameters(), lr=1e-3)\n",
    "c_loss = nn.MSELoss()\n",
    "\n",
    "for batch, (X, y) in enumerate(tqdm(train_loader2)):\n",
    "\n",
    "        X = [{k: v.to('cuda') for k,v in model_weighted[0].tokenize(t).items()} for t in X]\n",
    "        y = y.to('cuda')\n",
    "\n",
    "        res = [model_weighted[0](sentence_feature) for sentence_feature in X]\n",
    "\n",
    "        # sim = emb_similarity(res)\n",
    "\n",
    "        # # sparsity_loss = (res[0]['token_weights'] / res[0]['token_weights'].max()).sum()# + res[1]['token_weights'].sum()\n",
    "\n",
    "        # loss = c_loss(sim, y.view(-1))# + sparsity_loss * 1e-4\n",
    "\n",
    "        # # loss = train_loss_w(X, y)\n",
    "\n",
    "        # # Backpropagation\n",
    "        # optimizer.zero_grad()\n",
    "        # loss.backward()\n",
    "        # optimizer.step()\n",
    "        \n",
    "        if batch > 20:\n",
    "            break"
   ]
  },
  {
   "cell_type": "code",
   "execution_count": 111,
   "metadata": {},
   "outputs": [
    {
     "name": "stdout",
     "output_type": "stream",
     "text": [
      "-------------------------------------------------------  ------------  ------------  ------------  ------------  ------------  ------------  ------------  ------------  ------------  ------------  ---------------------------------------------------------  \n",
      "                                                   Name    Self CPU %      Self CPU   CPU total %     CPU total  CPU time avg       CPU Mem  Self CPU Mem      CUDA Mem  Self CUDA Mem    # of Calls  Source Location                                            \n",
      "-------------------------------------------------------  ------------  ------------  ------------  ------------  ------------  ------------  ------------  ------------  ------------  ------------  ---------------------------------------------------------  \n",
      "                                  cudaStreamSynchronize        77.59%     604.146ms        77.59%     604.146ms      86.307ms           0 b           0 b           0 b           0 b             7                                                             \n",
      "                                                                                                                                                                                                                                                                \n",
      "                                               TOKENIZE        17.91%     139.469ms        95.74%     745.453ms     745.453ms          -4 b      -3.00 Mb       3.00 Mb           0 b             1  runpy.py(87): _run_code                                    \n",
      "                                                                                                                                                                                                     ipykernel_launcher.py(17): <module>                        \n",
      "                                                                                                                                                                                                     traitlets/config/application.py(976): launch_instance      \n",
      "                                                                                                                                                                                                     ipykernel/kernelapp.py(712): start                         \n",
      "                                                                                                                                                                                                     tornado/platform/asyncio.py(215): start                    \n",
      "                                                                                                                                                                                                                                                                \n",
      "                                                   PASS         1.20%       9.370ms         3.12%      24.299ms      24.299ms          -4 b        -268 b     383.25 Mb     -58.51 Gb             1  runpy.py(87): _run_code                                    \n",
      "                                                                                                                                                                                                     ipykernel_launcher.py(17): <module>                        \n",
      "                                                                                                                                                                                                     traitlets/config/application.py(976): launch_instance      \n",
      "                                                                                                                                                                                                     ipykernel/kernelapp.py(712): start                         \n",
      "                                                                                                                                                                                                     tornado/platform/asyncio.py(215): start                    \n",
      "                                                                                                                                                                                                                                                                \n",
      "                                               BACKPROP         0.43%       3.367ms         0.48%       3.755ms       3.755ms          -4 b        -268 b    -387.00 Mb    -387.00 Mb             1  runpy.py(87): _run_code                                    \n",
      "                                                                                                                                                                                                     ipykernel_launcher.py(17): <module>                        \n",
      "                                                                                                                                                                                                     traitlets/config/application.py(976): launch_instance      \n",
      "                                                                                                                                                                                                     ipykernel/kernelapp.py(712): start                         \n",
      "                                                                                                                                                                                                     tornado/platform/asyncio.py(215): start                    \n",
      "                                                                                                                                                                                                                                                                \n",
      "                                            aten::addmm         0.40%       3.133ms         0.55%       4.321ms      56.855us           0 b           0 b      10.13 Gb      10.12 Gb            76  runpy.py(87): _run_code                                    \n",
      "                                                                                                                                                                                                     ipykernel_launcher.py(17): <module>                        \n",
      "                                                                                                                                                                                                     traitlets/config/application.py(976): launch_instance      \n",
      "                                                                                                                                                                                                     ipykernel/kernelapp.py(712): start                         \n",
      "                                                                                                                                                                                                     tornado/platform/asyncio.py(215): start                    \n",
      "                                                                                                                                                                                                                                                                \n",
      "-------------------------------------------------------  ------------  ------------  ------------  ------------  ------------  ------------  ------------  ------------  ------------  ------------  ---------------------------------------------------------  \n",
      "Self CPU time total: 778.632ms\n",
      "\n"
     ]
    }
   ],
   "source": [
    "print(prof.key_averages(group_by_stack_n=5).table(sort_by='self_cpu_time_total', row_limit=5))"
   ]
  },
  {
   "cell_type": "markdown",
   "metadata": {},
   "source": [
    "#### Normal training"
   ]
  },
  {
   "cell_type": "code",
   "execution_count": 207,
   "metadata": {},
   "outputs": [],
   "source": [
    "import copy\n",
    "model_weighted = copy.deepcopy(model_raw)"
   ]
  },
  {
   "cell_type": "code",
   "execution_count": 208,
   "metadata": {},
   "outputs": [
    {
     "data": {
      "application/vnd.jupyter.widget-view+json": {
       "model_id": "87766d2c4b204418ba7e047f15aac8cf",
       "version_major": 2,
       "version_minor": 0
      },
      "text/plain": [
       "  0%|          | 0/1368 [00:00<?, ?it/s]"
      ]
     },
     "metadata": {},
     "output_type": "display_data"
    },
    {
     "name": "stdout",
     "output_type": "stream",
     "text": [
      "2022-11-23 18:08:40 - EmbeddingSimilarityEvaluator: Evaluating the model on  dataset:\n",
      "2022-11-23 18:09:00 - Cosine-Similarity :\tPearson: 0.5974\tSpearman: 0.5507\n",
      "2022-11-23 18:09:00 - Manhattan-Distance:\tPearson: 0.4088\tSpearman: 0.4407\n",
      "2022-11-23 18:09:00 - Euclidean-Distance:\tPearson: 0.4045\tSpearman: 0.4395\n",
      "2022-11-23 18:09:00 - Dot-Product-Similarity:\tPearson: 0.5464\tSpearman: 0.5167\n",
      "2022-11-23 18:10:02 - EmbeddingSimilarityEvaluator: Evaluating the model on  dataset:\n",
      "2022-11-23 18:10:22 - Cosine-Similarity :\tPearson: 0.5995\tSpearman: 0.5586\n",
      "2022-11-23 18:10:22 - Manhattan-Distance:\tPearson: 0.4158\tSpearman: 0.4410\n",
      "2022-11-23 18:10:22 - Euclidean-Distance:\tPearson: 0.3933\tSpearman: 0.4391\n",
      "2022-11-23 18:10:22 - Dot-Product-Similarity:\tPearson: 0.5468\tSpearman: 0.5250\n",
      "2022-11-23 18:11:24 - EmbeddingSimilarityEvaluator: Evaluating the model on  dataset:\n",
      "2022-11-23 18:11:44 - Cosine-Similarity :\tPearson: 0.6012\tSpearman: 0.5630\n",
      "2022-11-23 18:11:44 - Manhattan-Distance:\tPearson: 0.4170\tSpearman: 0.4401\n",
      "2022-11-23 18:11:44 - Euclidean-Distance:\tPearson: 0.3886\tSpearman: 0.4374\n",
      "2022-11-23 18:11:44 - Dot-Product-Similarity:\tPearson: 0.5301\tSpearman: 0.5184\n",
      "2022-11-23 18:12:46 - EmbeddingSimilarityEvaluator: Evaluating the model on  dataset:\n",
      "2022-11-23 18:13:06 - Cosine-Similarity :\tPearson: 0.6152\tSpearman: 0.5824\n",
      "2022-11-23 18:13:06 - Manhattan-Distance:\tPearson: 0.4091\tSpearman: 0.4185\n",
      "2022-11-23 18:13:06 - Euclidean-Distance:\tPearson: 0.3742\tSpearman: 0.4137\n",
      "2022-11-23 18:13:06 - Dot-Product-Similarity:\tPearson: 0.5265\tSpearman: 0.5245\n",
      "2022-11-23 18:14:08 - EmbeddingSimilarityEvaluator: Evaluating the model on  dataset:\n",
      "2022-11-23 18:14:28 - Cosine-Similarity :\tPearson: 0.6168\tSpearman: 0.5818\n",
      "2022-11-23 18:14:28 - Manhattan-Distance:\tPearson: 0.3930\tSpearman: 0.3890\n",
      "2022-11-23 18:14:28 - Euclidean-Distance:\tPearson: 0.3542\tSpearman: 0.3795\n",
      "2022-11-23 18:14:28 - Dot-Product-Similarity:\tPearson: 0.5057\tSpearman: 0.5134\n",
      "2022-11-23 18:15:30 - EmbeddingSimilarityEvaluator: Evaluating the model on  dataset:\n",
      "2022-11-23 18:15:51 - Cosine-Similarity :\tPearson: 0.6245\tSpearman: 0.5888\n",
      "2022-11-23 18:15:51 - Manhattan-Distance:\tPearson: 0.3913\tSpearman: 0.3858\n",
      "2022-11-23 18:15:51 - Euclidean-Distance:\tPearson: 0.3515\tSpearman: 0.3753\n",
      "2022-11-23 18:15:51 - Dot-Product-Similarity:\tPearson: 0.4965\tSpearman: 0.5158\n",
      "2022-11-23 18:16:53 - EmbeddingSimilarityEvaluator: Evaluating the model on  dataset:\n",
      "2022-11-23 18:17:13 - Cosine-Similarity :\tPearson: 0.6205\tSpearman: 0.5864\n",
      "2022-11-23 18:17:13 - Manhattan-Distance:\tPearson: 0.3787\tSpearman: 0.3792\n",
      "2022-11-23 18:17:13 - Euclidean-Distance:\tPearson: 0.3258\tSpearman: 0.3592\n",
      "2022-11-23 18:17:13 - Dot-Product-Similarity:\tPearson: 0.4445\tSpearman: 0.4978\n",
      "2022-11-23 18:18:15 - EmbeddingSimilarityEvaluator: Evaluating the model on  dataset:\n",
      "2022-11-23 18:18:35 - Cosine-Similarity :\tPearson: 0.6255\tSpearman: 0.5883\n",
      "2022-11-23 18:18:35 - Manhattan-Distance:\tPearson: 0.4014\tSpearman: 0.3980\n",
      "2022-11-23 18:18:35 - Euclidean-Distance:\tPearson: 0.3521\tSpearman: 0.3809\n",
      "2022-11-23 18:18:35 - Dot-Product-Similarity:\tPearson: 0.4929\tSpearman: 0.5253\n",
      "2022-11-23 18:19:37 - EmbeddingSimilarityEvaluator: Evaluating the model on  dataset:\n",
      "2022-11-23 18:19:57 - Cosine-Similarity :\tPearson: 0.6232\tSpearman: 0.5890\n",
      "2022-11-23 18:19:57 - Manhattan-Distance:\tPearson: 0.3782\tSpearman: 0.3769\n",
      "2022-11-23 18:19:57 - Euclidean-Distance:\tPearson: 0.3271\tSpearman: 0.3581\n",
      "2022-11-23 18:19:57 - Dot-Product-Similarity:\tPearson: 0.4527\tSpearman: 0.5082\n",
      "2022-11-23 18:20:59 - EmbeddingSimilarityEvaluator: Evaluating the model on  dataset:\n",
      "2022-11-23 18:21:19 - Cosine-Similarity :\tPearson: 0.6280\tSpearman: 0.5918\n",
      "2022-11-23 18:21:19 - Manhattan-Distance:\tPearson: 0.3897\tSpearman: 0.3872\n",
      "2022-11-23 18:21:19 - Euclidean-Distance:\tPearson: 0.3359\tSpearman: 0.3678\n",
      "2022-11-23 18:21:19 - Dot-Product-Similarity:\tPearson: 0.4485\tSpearman: 0.5002\n",
      "2022-11-23 18:22:21 - EmbeddingSimilarityEvaluator: Evaluating the model on  dataset:\n",
      "2022-11-23 18:22:41 - Cosine-Similarity :\tPearson: 0.6228\tSpearman: 0.5862\n",
      "2022-11-23 18:22:41 - Manhattan-Distance:\tPearson: 0.3868\tSpearman: 0.3834\n",
      "2022-11-23 18:22:41 - Euclidean-Distance:\tPearson: 0.3379\tSpearman: 0.3667\n",
      "2022-11-23 18:22:41 - Dot-Product-Similarity:\tPearson: 0.4484\tSpearman: 0.5087\n",
      "2022-11-23 18:23:43 - EmbeddingSimilarityEvaluator: Evaluating the model on  dataset:\n",
      "2022-11-23 18:24:04 - Cosine-Similarity :\tPearson: 0.6277\tSpearman: 0.5920\n",
      "2022-11-23 18:24:04 - Manhattan-Distance:\tPearson: 0.3939\tSpearman: 0.3894\n",
      "2022-11-23 18:24:04 - Euclidean-Distance:\tPearson: 0.3412\tSpearman: 0.3726\n",
      "2022-11-23 18:24:04 - Dot-Product-Similarity:\tPearson: 0.4633\tSpearman: 0.5176\n",
      "2022-11-23 18:25:06 - EmbeddingSimilarityEvaluator: Evaluating the model on  dataset:\n",
      "2022-11-23 18:25:26 - Cosine-Similarity :\tPearson: 0.6302\tSpearman: 0.5954\n",
      "2022-11-23 18:25:26 - Manhattan-Distance:\tPearson: 0.3878\tSpearman: 0.3815\n",
      "2022-11-23 18:25:26 - Euclidean-Distance:\tPearson: 0.3354\tSpearman: 0.3619\n",
      "2022-11-23 18:25:26 - Dot-Product-Similarity:\tPearson: 0.4545\tSpearman: 0.5126\n"
     ]
    }
   ],
   "source": [
    "# optimizer = torch.optim.SGD(model_weighted[1].weight_layer.parameters(), lr=1e-1)\n",
    "optimizer = torch.optim.Adam(model_weighted[1].weight_layer.parameters(), lr=0.05)\n",
    "\n",
    "c_loss = nn.MSELoss()\n",
    "\n",
    "for batch, (X, y) in enumerate(tqdm(train_dataloader)):\n",
    "    X = [{k: v.to('cuda') for k,v in fs.items()} for fs in X]\n",
    "    y = y.cuda()\n",
    "\n",
    "    res = [model_weighted(sentence_feature) for sentence_feature in X]\n",
    "    sim = emb_similarity(res)\n",
    "\n",
    "    # sparsity_loss = (res[0]['token_weights'] / res[0]['token_weights'].max()).sum()# + res[1]['token_weights'].sum()\n",
    "\n",
    "    loss = c_loss(sim, y.view(-1))# + sparsity_loss * 1e-4\n",
    "\n",
    "    # Backpropagation\n",
    "    optimizer.zero_grad()\n",
    "    loss.backward()\n",
    "    optimizer.step()\n",
    "\n",
    "    if (batch > 0) and (batch % 100 == 0):\n",
    "        # break\n",
    "        evaluator(model_weighted)\n",
    "    \n",
    "    # if batch >= 200:\n",
    "    #     break"
   ]
  },
  {
   "cell_type": "code",
   "execution_count": 209,
   "metadata": {},
   "outputs": [
    {
     "name": "stdout",
     "output_type": "stream",
     "text": [
      "2022-11-23 18:26:31 - EmbeddingSimilarityEvaluator: Evaluating the model on  dataset:\n",
      "2022-11-23 18:26:50 - Cosine-Similarity :\tPearson: 0.6306\tSpearman: 0.5948\n",
      "2022-11-23 18:26:50 - Manhattan-Distance:\tPearson: 0.3880\tSpearman: 0.3861\n",
      "2022-11-23 18:26:50 - Euclidean-Distance:\tPearson: 0.3330\tSpearman: 0.3672\n",
      "2022-11-23 18:26:50 - Dot-Product-Similarity:\tPearson: 0.4693\tSpearman: 0.5176\n"
     ]
    },
    {
     "data": {
      "text/plain": [
       "0.5948078534110832"
      ]
     },
     "execution_count": 209,
     "metadata": {},
     "output_type": "execute_result"
    }
   ],
   "source": [
    "evaluator(model_weighted)"
   ]
  },
  {
   "cell_type": "code",
   "execution_count": 210,
   "metadata": {},
   "outputs": [
    {
     "name": "stdout",
     "output_type": "stream",
     "text": [
      "2022-11-23 18:26:51 - EmbeddingSimilarityEvaluator: Evaluating the model on  dataset:\n",
      "2022-11-23 18:27:10 - Cosine-Similarity :\tPearson: 0.6034\tSpearman: 0.5573\n",
      "2022-11-23 18:27:10 - Manhattan-Distance:\tPearson: 0.6100\tSpearman: 0.5580\n",
      "2022-11-23 18:27:10 - Euclidean-Distance:\tPearson: 0.6106\tSpearman: 0.5573\n",
      "2022-11-23 18:27:10 - Dot-Product-Similarity:\tPearson: 0.6034\tSpearman: 0.5573\n"
     ]
    },
    {
     "data": {
      "text/plain": [
       "0.5580159339745571"
      ]
     },
     "execution_count": 210,
     "metadata": {},
     "output_type": "execute_result"
    }
   ],
   "source": [
    "evaluator(model)"
   ]
  },
  {
   "cell_type": "markdown",
   "metadata": {},
   "source": [
    "## Investigate results"
   ]
  },
  {
   "cell_type": "code",
   "execution_count": null,
   "metadata": {},
   "outputs": [
    {
     "ename": "",
     "evalue": "",
     "output_type": "error",
     "traceback": [
      "\u001b[1;31mFailed to connect to the remote Jupyter Server 'https://nqzjdc1kmy.clg07azjl.paperspacegradient.com/'. Verify the server is running and reachable. (Invalid response: 503 Service Unavailable)."
     ]
    }
   ],
   "source": [
    "from pandas import DataFrame"
   ]
  },
  {
   "cell_type": "code",
   "execution_count": null,
   "metadata": {},
   "outputs": [
    {
     "data": {
      "image/png": "[encoded data removed]",
      "text/plain": [
       "<Figure size 432x288 with 1 Axes>"
      ]
     },
     "metadata": {},
     "output_type": "display_data"
    }
   ],
   "source": [
    "n_words_per_text = np.array([[len(t.split()) for t in ts.texts] for ts in train_samples])\n",
    "plt.hist(n_words_per_text);"
   ]
  },
  {
   "cell_type": "code",
   "execution_count": 245,
   "metadata": {},
   "outputs": [],
   "source": [
    "long_ids = np.where(n_words_per_text.max(axis=1) > 30)[0]"
   ]
  },
  {
   "cell_type": "code",
   "execution_count": 292,
   "metadata": {},
   "outputs": [],
   "source": [
    "# t_ex = train_samples[long_ids[0]].texts\n",
    "# inps = [model_weighted.tokenize(t) for t in t_ex]\n",
    "# preds = [model_weighted({k: v.to('cuda') for k,v in inp.items()}) for inp in inps]"
   ]
  },
  {
   "cell_type": "code",
   "execution_count": 341,
   "metadata": {},
   "outputs": [
    {
     "data": {
      "text/plain": [
       "(0.8304498195648193, 0.8400000000000001)"
      ]
     },
     "execution_count": 341,
     "metadata": {},
     "output_type": "execute_result"
    }
   ],
   "source": [
    "t_ex = train_samples[long_ids[2]]\n",
    "inps = [model_weighted[0].tokenizer.encode_plus(t, return_tensors='pt').to('cuda') for t in t_ex.texts]\n",
    "preds = [model_weighted(inp) for inp in inps]\n",
    "emb_similarity(preds)[0].item(), t_ex.label"
   ]
  },
  {
   "cell_type": "code",
   "execution_count": 342,
   "metadata": {},
   "outputs": [
    {
     "data": {
      "text/html": [
       "<div>\n",
       "<style scoped>\n",
       "    .dataframe tbody tr th:only-of-type {\n",
       "        vertical-align: middle;\n",
       "    }\n",
       "\n",
       "    .dataframe tbody tr th {\n",
       "        vertical-align: top;\n",
       "    }\n",
       "\n",
       "    .dataframe thead th {\n",
       "        text-align: right;\n",
       "    }\n",
       "</style>\n",
       "<table border=\"1\" class=\"dataframe\">\n",
       "  <thead>\n",
       "    <tr style=\"text-align: right;\">\n",
       "      <th></th>\n",
       "      <th>token</th>\n",
       "      <th>weight</th>\n",
       "    </tr>\n",
       "  </thead>\n",
       "  <tbody>\n",
       "    <tr>\n",
       "      <th>0</th>\n",
       "      <td>&lt;s&gt;</td>\n",
       "      <td>0.004005</td>\n",
       "    </tr>\n",
       "    <tr>\n",
       "      <th>1</th>\n",
       "      <td>r</td>\n",
       "      <td>0.008981</td>\n",
       "    </tr>\n",
       "    <tr>\n",
       "      <th>2</th>\n",
       "      <td>ussia</td>\n",
       "      <td>0.047740</td>\n",
       "    </tr>\n",
       "    <tr>\n",
       "      <th>3</th>\n",
       "      <td>Ġratified</td>\n",
       "      <td>0.012617</td>\n",
       "    </tr>\n",
       "    <tr>\n",
       "      <th>4</th>\n",
       "      <td>Ġthe</td>\n",
       "      <td>0.001319</td>\n",
       "    </tr>\n",
       "    <tr>\n",
       "      <th>5</th>\n",
       "      <td>Ġupdated</td>\n",
       "      <td>0.007120</td>\n",
       "    </tr>\n",
       "    <tr>\n",
       "      <th>6</th>\n",
       "      <td>Ġtreaty</td>\n",
       "      <td>0.002397</td>\n",
       "    </tr>\n",
       "    <tr>\n",
       "      <th>7</th>\n",
       "      <td>Ġin</td>\n",
       "      <td>0.006770</td>\n",
       "    </tr>\n",
       "    <tr>\n",
       "      <th>8</th>\n",
       "      <td>Ġ2004</td>\n",
       "      <td>0.013473</td>\n",
       "    </tr>\n",
       "    <tr>\n",
       "      <th>9</th>\n",
       "      <td>Ġbut</td>\n",
       "      <td>0.016851</td>\n",
       "    </tr>\n",
       "    <tr>\n",
       "      <th>10</th>\n",
       "      <td>Ġthe</td>\n",
       "      <td>0.005193</td>\n",
       "    </tr>\n",
       "    <tr>\n",
       "      <th>11</th>\n",
       "      <td>Ġunited</td>\n",
       "      <td>0.323574</td>\n",
       "    </tr>\n",
       "    <tr>\n",
       "      <th>12</th>\n",
       "      <td>Ġstates</td>\n",
       "      <td>0.024524</td>\n",
       "    </tr>\n",
       "    <tr>\n",
       "      <th>13</th>\n",
       "      <td>Ġand</td>\n",
       "      <td>0.015972</td>\n",
       "    </tr>\n",
       "    <tr>\n",
       "      <th>14</th>\n",
       "      <td>Ġother</td>\n",
       "      <td>0.017055</td>\n",
       "    </tr>\n",
       "    <tr>\n",
       "      <th>15</th>\n",
       "      <td>Ġn</td>\n",
       "      <td>0.024225</td>\n",
       "    </tr>\n",
       "    <tr>\n",
       "      <th>16</th>\n",
       "      <td>ato</td>\n",
       "      <td>0.155510</td>\n",
       "    </tr>\n",
       "    <tr>\n",
       "      <th>17</th>\n",
       "      <td>Ġmembers</td>\n",
       "      <td>0.015711</td>\n",
       "    </tr>\n",
       "    <tr>\n",
       "      <th>18</th>\n",
       "      <td>Ġhave</td>\n",
       "      <td>0.061872</td>\n",
       "    </tr>\n",
       "    <tr>\n",
       "      <th>19</th>\n",
       "      <td>Ġrefused</td>\n",
       "      <td>0.644233</td>\n",
       "    </tr>\n",
       "    <tr>\n",
       "      <th>20</th>\n",
       "      <td>Ġto</td>\n",
       "      <td>0.330967</td>\n",
       "    </tr>\n",
       "    <tr>\n",
       "      <th>21</th>\n",
       "      <td>Ġdo</td>\n",
       "      <td>0.344332</td>\n",
       "    </tr>\n",
       "    <tr>\n",
       "      <th>22</th>\n",
       "      <td>Ġso</td>\n",
       "      <td>1.000000</td>\n",
       "    </tr>\n",
       "    <tr>\n",
       "      <th>23</th>\n",
       "      <td>Ġarguing</td>\n",
       "      <td>0.027734</td>\n",
       "    </tr>\n",
       "    <tr>\n",
       "      <th>24</th>\n",
       "      <td>Ġthat</td>\n",
       "      <td>0.006024</td>\n",
       "    </tr>\n",
       "    <tr>\n",
       "      <th>25</th>\n",
       "      <td>Ġmos</td>\n",
       "      <td>0.041082</td>\n",
       "    </tr>\n",
       "    <tr>\n",
       "      <th>26</th>\n",
       "      <td>cow</td>\n",
       "      <td>0.093409</td>\n",
       "    </tr>\n",
       "    <tr>\n",
       "      <th>27</th>\n",
       "      <td>Ġmust</td>\n",
       "      <td>0.032979</td>\n",
       "    </tr>\n",
       "    <tr>\n",
       "      <th>28</th>\n",
       "      <td>Ġfirst</td>\n",
       "      <td>0.065523</td>\n",
       "    </tr>\n",
       "    <tr>\n",
       "      <th>29</th>\n",
       "      <td>Ġfulfill</td>\n",
       "      <td>0.031258</td>\n",
       "    </tr>\n",
       "    <tr>\n",
       "      <th>30</th>\n",
       "      <td>Ġobligations</td>\n",
       "      <td>0.020983</td>\n",
       "    </tr>\n",
       "    <tr>\n",
       "      <th>31</th>\n",
       "      <td>Ġto</td>\n",
       "      <td>0.005116</td>\n",
       "    </tr>\n",
       "    <tr>\n",
       "      <th>32</th>\n",
       "      <td>Ġwithdraw</td>\n",
       "      <td>0.761134</td>\n",
       "    </tr>\n",
       "    <tr>\n",
       "      <th>33</th>\n",
       "      <td>Ġforces</td>\n",
       "      <td>0.011348</td>\n",
       "    </tr>\n",
       "    <tr>\n",
       "      <th>34</th>\n",
       "      <td>Ġfrom</td>\n",
       "      <td>0.017254</td>\n",
       "    </tr>\n",
       "    <tr>\n",
       "      <th>35</th>\n",
       "      <td>Ġge</td>\n",
       "      <td>0.058367</td>\n",
       "    </tr>\n",
       "    <tr>\n",
       "      <th>36</th>\n",
       "      <td>org</td>\n",
       "      <td>0.172863</td>\n",
       "    </tr>\n",
       "    <tr>\n",
       "      <th>37</th>\n",
       "      <td>ia</td>\n",
       "      <td>0.033892</td>\n",
       "    </tr>\n",
       "    <tr>\n",
       "      <th>38</th>\n",
       "      <td>Ġand</td>\n",
       "      <td>0.009079</td>\n",
       "    </tr>\n",
       "    <tr>\n",
       "      <th>39</th>\n",
       "      <td>Ġfrom</td>\n",
       "      <td>0.024990</td>\n",
       "    </tr>\n",
       "    <tr>\n",
       "      <th>40</th>\n",
       "      <td>Ġmold</td>\n",
       "      <td>0.108117</td>\n",
       "    </tr>\n",
       "    <tr>\n",
       "      <th>41</th>\n",
       "      <td>ova</td>\n",
       "      <td>0.099091</td>\n",
       "    </tr>\n",
       "    <tr>\n",
       "      <th>42</th>\n",
       "      <td>'s</td>\n",
       "      <td>0.004443</td>\n",
       "    </tr>\n",
       "    <tr>\n",
       "      <th>43</th>\n",
       "      <td>Ġseparatist</td>\n",
       "      <td>0.023466</td>\n",
       "    </tr>\n",
       "    <tr>\n",
       "      <th>44</th>\n",
       "      <td>Ġregion</td>\n",
       "      <td>0.023655</td>\n",
       "    </tr>\n",
       "    <tr>\n",
       "      <th>45</th>\n",
       "      <td>Ġof</td>\n",
       "      <td>0.002485</td>\n",
       "    </tr>\n",
       "    <tr>\n",
       "      <th>46</th>\n",
       "      <td>Ġtrans</td>\n",
       "      <td>0.008653</td>\n",
       "    </tr>\n",
       "    <tr>\n",
       "      <th>47</th>\n",
       "      <td>-</td>\n",
       "      <td>0.002883</td>\n",
       "    </tr>\n",
       "    <tr>\n",
       "      <th>48</th>\n",
       "      <td>dn</td>\n",
       "      <td>0.058821</td>\n",
       "    </tr>\n",
       "    <tr>\n",
       "      <th>49</th>\n",
       "      <td>ies</td>\n",
       "      <td>0.059291</td>\n",
       "    </tr>\n",
       "    <tr>\n",
       "      <th>50</th>\n",
       "      <td>ter</td>\n",
       "      <td>0.032461</td>\n",
       "    </tr>\n",
       "    <tr>\n",
       "      <th>51</th>\n",
       "      <td>.</td>\n",
       "      <td>0.004307</td>\n",
       "    </tr>\n",
       "    <tr>\n",
       "      <th>52</th>\n",
       "      <td>Ġ</td>\n",
       "      <td>0.025331</td>\n",
       "    </tr>\n",
       "    <tr>\n",
       "      <th>53</th>\n",
       "      <td>&lt;/s&gt;</td>\n",
       "      <td>0.002484</td>\n",
       "    </tr>\n",
       "  </tbody>\n",
       "</table>\n",
       "</div>"
      ],
      "text/plain": [
       "           token    weight\n",
       "0            <s>  0.004005\n",
       "1              r  0.008981\n",
       "2          ussia  0.047740\n",
       "3      Ġratified  0.012617\n",
       "4           Ġthe  0.001319\n",
       "5       Ġupdated  0.007120\n",
       "6        Ġtreaty  0.002397\n",
       "7            Ġin  0.006770\n",
       "8          Ġ2004  0.013473\n",
       "9           Ġbut  0.016851\n",
       "10          Ġthe  0.005193\n",
       "11       Ġunited  0.323574\n",
       "12       Ġstates  0.024524\n",
       "13          Ġand  0.015972\n",
       "14        Ġother  0.017055\n",
       "15            Ġn  0.024225\n",
       "16           ato  0.155510\n",
       "17      Ġmembers  0.015711\n",
       "18         Ġhave  0.061872\n",
       "19      Ġrefused  0.644233\n",
       "20           Ġto  0.330967\n",
       "21           Ġdo  0.344332\n",
       "22           Ġso  1.000000\n",
       "23      Ġarguing  0.027734\n",
       "24         Ġthat  0.006024\n",
       "25          Ġmos  0.041082\n",
       "26           cow  0.093409\n",
       "27         Ġmust  0.032979\n",
       "28        Ġfirst  0.065523\n",
       "29      Ġfulfill  0.031258\n",
       "30  Ġobligations  0.020983\n",
       "31           Ġto  0.005116\n",
       "32     Ġwithdraw  0.761134\n",
       "33       Ġforces  0.011348\n",
       "34         Ġfrom  0.017254\n",
       "35           Ġge  0.058367\n",
       "36           org  0.172863\n",
       "37            ia  0.033892\n",
       "38          Ġand  0.009079\n",
       "39         Ġfrom  0.024990\n",
       "40         Ġmold  0.108117\n",
       "41           ova  0.099091\n",
       "42            's  0.004443\n",
       "43   Ġseparatist  0.023466\n",
       "44       Ġregion  0.023655\n",
       "45           Ġof  0.002485\n",
       "46        Ġtrans  0.008653\n",
       "47             -  0.002883\n",
       "48            dn  0.058821\n",
       "49           ies  0.059291\n",
       "50           ter  0.032461\n",
       "51             .  0.004307\n",
       "52             Ġ  0.025331\n",
       "53          </s>  0.002484"
      ]
     },
     "execution_count": 342,
     "metadata": {},
     "output_type": "execute_result"
    }
   ],
   "source": [
    "weights = preds[0]['token_weights'].squeeze().detach().cpu().numpy()\n",
    "DataFrame(dict(\n",
    "    token=model_weighted[0].tokenizer.tokenize(t_ex.texts[0], add_special_tokens=True), \n",
    "    weight=weights / weights.max()\n",
    "))"
   ]
  },
  {
   "cell_type": "code",
   "execution_count": 262,
   "metadata": {},
   "outputs": [
    {
     "ename": "TypeError",
     "evalue": "Can't convert {'input_ids': [[0, 506, 2], [0, 257, 2], [0, 462, 2], [0, 705, 2], [0, 118, 2], [0, 139, 2], [0, 2, 1], [0, 428, 2], [0, 242, 2], [0, 338, 2], [0, 571, 2], [0, 298, 2], [0, 242, 2], [0, 462, 2], [0, 462, 2], [0, 102, 2], [0, 2, 1], [0, 29, 2], [0, 90, 2], [0, 102, 2], [0, 90, 2], [0, 242, 2], [0, 417, 2], [0, 2, 1], [0, 90, 2], [0, 298, 2], [0, 102, 2], [0, 90, 2], [0, 2, 1], [0, 90, 2], [0, 298, 2], [0, 242, 2], [0, 2, 1], [0, 417, 2], [0, 118, 2], [0, 571, 2], [0, 118, 2], [0, 90, 2], [0, 102, 2], [0, 462, 2], [0, 2, 1], [0, 605, 2], [0, 139, 2], [0, 338, 2], [0, 119, 2], [0, 2, 1], [0, 282, 2], [0, 102, 2], [0, 119, 2], [0, 242, 2], [0, 417, 2], [0, 2, 1], [0, 29, 2], [0, 1343, 2], [0, 2, 1], [0, 298, 2], [0, 242, 2], [0, 462, 2], [0, 462, 2], [0, 2, 1], [0, 605, 2], [0, 102, 2], [0, 29, 2], [0, 2, 1], [0, 642, 2], [0, 102, 2], [0, 338, 2], [0, 90, 2], [0, 118, 2], [0, 438, 2], [0, 257, 2], [0, 462, 2], [0, 102, 2], [0, 338, 2], [0, 462, 2], [0, 219, 2], [0, 2, 1], [0, 705, 2], [0, 118, 2], [0, 338, 2], [0, 257, 2], [0, 462, 2], [0, 242, 2], [0, 282, 2], [0, 90, 2], [0, 2, 1], [0, 102, 2], [0, 282, 2], [0, 417, 2], [0, 2, 1], [0, 338, 2], [0, 242, 2], [0, 642, 2], [0, 462, 2], [0, 118, 2], [0, 438, 2], [0, 102, 2], [0, 90, 2], [0, 242, 2], [0, 417, 2], [0, 2, 1], [0, 118, 2], [0, 90, 2], [0, 29, 2], [0, 242, 2], [0, 462, 2], [0, 506, 2], [0, 2, 1], [0, 102, 2], [0, 90, 2], [0, 2, 1], [0, 90, 2], [0, 298, 2], [0, 242, 2], [0, 2, 1], [0, 338, 2], [0, 102, 2], [0, 90, 2], [0, 242, 2], [0, 2, 1], [0, 139, 2], [0, 506, 2], [0, 2, 1], [0, 398, 2], [0, 288, 2], [0, 288, 2], [0, 288, 2], [0, 2, 1], [0, 90, 2], [0, 118, 2], [0, 119, 2], [0, 242, 2], [0, 29, 2], [0, 2, 1], [0, 102, 2], [0, 282, 2], [0, 2, 1], [0, 298, 2], [0, 139, 2], [0, 257, 2], [0, 338, 2], [0, 4, 2], [0, 2, 1]], 'attention_mask': [[1, 1, 1], [1, 1, 1], [1, 1, 1], [1, 1, 1], [1, 1, 1], [1, 1, 1], [1, 1, 0], [1, 1, 1], [1, 1, 1], [1, 1, 1], [1, 1, 1], [1, 1, 1], [1, 1, 1], [1, 1, 1], [1, 1, 1], [1, 1, 1], [1, 1, 0], [1, 1, 1], [1, 1, 1], [1, 1, 1], [1, 1, 1], [1, 1, 1], [1, 1, 1], [1, 1, 0], [1, 1, 1], [1, 1, 1], [1, 1, 1], [1, 1, 1], [1, 1, 0], [1, 1, 1], [1, 1, 1], [1, 1, 1], [1, 1, 0], [1, 1, 1], [1, 1, 1], [1, 1, 1], [1, 1, 1], [1, 1, 1], [1, 1, 1], [1, 1, 1], [1, 1, 0], [1, 1, 1], [1, 1, 1], [1, 1, 1], [1, 1, 1], [1, 1, 0], [1, 1, 1], [1, 1, 1], [1, 1, 1], [1, 1, 1], [1, 1, 1], [1, 1, 0], [1, 1, 1], [1, 1, 1], [1, 1, 0], [1, 1, 1], [1, 1, 1], [1, 1, 1], [1, 1, 1], [1, 1, 0], [1, 1, 1], [1, 1, 1], [1, 1, 1], [1, 1, 0], [1, 1, 1], [1, 1, 1], [1, 1, 1], [1, 1, 1], [1, 1, 1], [1, 1, 1], [1, 1, 1], [1, 1, 1], [1, 1, 1], [1, 1, 1], [1, 1, 1], [1, 1, 1], [1, 1, 0], [1, 1, 1], [1, 1, 1], [1, 1, 1], [1, 1, 1], [1, 1, 1], [1, 1, 1], [1, 1, 1], [1, 1, 1], [1, 1, 0], [1, 1, 1], [1, 1, 1], [1, 1, 1], [1, 1, 0], [1, 1, 1], [1, 1, 1], [1, 1, 1], [1, 1, 1], [1, 1, 1], [1, 1, 1], [1, 1, 1], [1, 1, 1], [1, 1, 1], [1, 1, 1], [1, 1, 0], [1, 1, 1], [1, 1, 1], [1, 1, 1], [1, 1, 1], [1, 1, 1], [1, 1, 1], [1, 1, 0], [1, 1, 1], [1, 1, 1], [1, 1, 0], [1, 1, 1], [1, 1, 1], [1, 1, 1], [1, 1, 0], [1, 1, 1], [1, 1, 1], [1, 1, 1], [1, 1, 1], [1, 1, 0], [1, 1, 1], [1, 1, 1], [1, 1, 0], [1, 1, 1], [1, 1, 1], [1, 1, 1], [1, 1, 1], [1, 1, 0], [1, 1, 1], [1, 1, 1], [1, 1, 1], [1, 1, 1], [1, 1, 1], [1, 1, 0], [1, 1, 1], [1, 1, 1], [1, 1, 0], [1, 1, 1], [1, 1, 1], [1, 1, 1], [1, 1, 1], [1, 1, 1], [1, 1, 0]]} to Sequence",
     "output_type": "error",
     "traceback": [
      "\u001b[0;31m---------------------------------------------------------------------------\u001b[0m",
      "\u001b[0;31mTypeError\u001b[0m                                 Traceback (most recent call last)",
      "\u001b[1;32m/home/vpetukhov/other/NLPProjects/LearningExperiments/sbert_extending/word_weights.ipynb Cell 32\u001b[0m in \u001b[0;36m<cell line: 1>\u001b[0;34m()\u001b[0m\n\u001b[0;32m----> <a href='vscode-notebook-cell:/home/vpetukhov/other/NLPProjects/LearningExperiments/sbert_extending/word_weights.ipynb#Y241sZmlsZQ%3D%3D?line=0'>1</a>\u001b[0m model_weighted[\u001b[39m0\u001b[39;49m]\u001b[39m.\u001b[39;49mtokenizer\u001b[39m.\u001b[39;49mdecode(inps[\u001b[39m0\u001b[39;49m])\n",
      "File \u001b[0;32m/usr/local/lib/python3.9/dist-packages/transformers/tokenization_utils_base.py:3345\u001b[0m, in \u001b[0;36mPreTrainedTokenizerBase.decode\u001b[0;34m(self, token_ids, skip_special_tokens, clean_up_tokenization_spaces, **kwargs)\u001b[0m\n\u001b[1;32m   3342\u001b[0m \u001b[39m# Convert inputs to python lists\u001b[39;00m\n\u001b[1;32m   3343\u001b[0m token_ids \u001b[39m=\u001b[39m to_py_obj(token_ids)\n\u001b[0;32m-> 3345\u001b[0m \u001b[39mreturn\u001b[39;00m \u001b[39mself\u001b[39;49m\u001b[39m.\u001b[39;49m_decode(\n\u001b[1;32m   3346\u001b[0m     token_ids\u001b[39m=\u001b[39;49mtoken_ids,\n\u001b[1;32m   3347\u001b[0m     skip_special_tokens\u001b[39m=\u001b[39;49mskip_special_tokens,\n\u001b[1;32m   3348\u001b[0m     clean_up_tokenization_spaces\u001b[39m=\u001b[39;49mclean_up_tokenization_spaces,\n\u001b[1;32m   3349\u001b[0m     \u001b[39m*\u001b[39;49m\u001b[39m*\u001b[39;49mkwargs,\n\u001b[1;32m   3350\u001b[0m )\n",
      "File \u001b[0;32m/usr/local/lib/python3.9/dist-packages/transformers/tokenization_utils_fast.py:548\u001b[0m, in \u001b[0;36mPreTrainedTokenizerFast._decode\u001b[0;34m(self, token_ids, skip_special_tokens, clean_up_tokenization_spaces, **kwargs)\u001b[0m\n\u001b[1;32m    546\u001b[0m \u001b[39mif\u001b[39;00m \u001b[39misinstance\u001b[39m(token_ids, \u001b[39mint\u001b[39m):\n\u001b[1;32m    547\u001b[0m     token_ids \u001b[39m=\u001b[39m [token_ids]\n\u001b[0;32m--> 548\u001b[0m text \u001b[39m=\u001b[39m \u001b[39mself\u001b[39;49m\u001b[39m.\u001b[39;49m_tokenizer\u001b[39m.\u001b[39;49mdecode(token_ids, skip_special_tokens\u001b[39m=\u001b[39;49mskip_special_tokens)\n\u001b[1;32m    550\u001b[0m \u001b[39mif\u001b[39;00m clean_up_tokenization_spaces:\n\u001b[1;32m    551\u001b[0m     clean_text \u001b[39m=\u001b[39m \u001b[39mself\u001b[39m\u001b[39m.\u001b[39mclean_up_tokenization(text)\n",
      "\u001b[0;31mTypeError\u001b[0m: Can't convert {'input_ids': [[0, 506, 2], [0, 257, 2], [0, 462, 2], [0, 705, 2], [0, 118, 2], [0, 139, 2], [0, 2, 1], [0, 428, 2], [0, 242, 2], [0, 338, 2], [0, 571, 2], [0, 298, 2], [0, 242, 2], [0, 462, 2], [0, 462, 2], [0, 102, 2], [0, 2, 1], [0, 29, 2], [0, 90, 2], [0, 102, 2], [0, 90, 2], [0, 242, 2], [0, 417, 2], [0, 2, 1], [0, 90, 2], [0, 298, 2], [0, 102, 2], [0, 90, 2], [0, 2, 1], [0, 90, 2], [0, 298, 2], [0, 242, 2], [0, 2, 1], [0, 417, 2], [0, 118, 2], [0, 571, 2], [0, 118, 2], [0, 90, 2], [0, 102, 2], [0, 462, 2], [0, 2, 1], [0, 605, 2], [0, 139, 2], [0, 338, 2], [0, 119, 2], [0, 2, 1], [0, 282, 2], [0, 102, 2], [0, 119, 2], [0, 242, 2], [0, 417, 2], [0, 2, 1], [0, 29, 2], [0, 1343, 2], [0, 2, 1], [0, 298, 2], [0, 242, 2], [0, 462, 2], [0, 462, 2], [0, 2, 1], [0, 605, 2], [0, 102, 2], [0, 29, 2], [0, 2, 1], [0, 642, 2], [0, 102, 2], [0, 338, 2], [0, 90, 2], [0, 118, 2], [0, 438, 2], [0, 257, 2], [0, 462, 2], [0, 102, 2], [0, 338, 2], [0, 462, 2], [0, 219, 2], [0, 2, 1], [0, 705, 2], [0, 118, 2], [0, 338, 2], [0, 257, 2], [0, 462, 2], [0, 242, 2], [0, 282, 2], [0, 90, 2], [0, 2, 1], [0, 102, 2], [0, 282, 2], [0, 417, 2], [0, 2, 1], [0, 338, 2], [0, 242, 2], [0, 642, 2], [0, 462, 2], [0, 118, 2], [0, 438, 2], [0, 102, 2], [0, 90, 2], [0, 242, 2], [0, 417, 2], [0, 2, 1], [0, 118, 2], [0, 90, 2], [0, 29, 2], [0, 242, 2], [0, 462, 2], [0, 506, 2], [0, 2, 1], [0, 102, 2], [0, 90, 2], [0, 2, 1], [0, 90, 2], [0, 298, 2], [0, 242, 2], [0, 2, 1], [0, 338, 2], [0, 102, 2], [0, 90, 2], [0, 242, 2], [0, 2, 1], [0, 139, 2], [0, 506, 2], [0, 2, 1], [0, 398, 2], [0, 288, 2], [0, 288, 2], [0, 288, 2], [0, 2, 1], [0, 90, 2], [0, 118, 2], [0, 119, 2], [0, 242, 2], [0, 29, 2], [0, 2, 1], [0, 102, 2], [0, 282, 2], [0, 2, 1], [0, 298, 2], [0, 139, 2], [0, 257, 2], [0, 338, 2], [0, 4, 2], [0, 2, 1]], 'attention_mask': [[1, 1, 1], [1, 1, 1], [1, 1, 1], [1, 1, 1], [1, 1, 1], [1, 1, 1], [1, 1, 0], [1, 1, 1], [1, 1, 1], [1, 1, 1], [1, 1, 1], [1, 1, 1], [1, 1, 1], [1, 1, 1], [1, 1, 1], [1, 1, 1], [1, 1, 0], [1, 1, 1], [1, 1, 1], [1, 1, 1], [1, 1, 1], [1, 1, 1], [1, 1, 1], [1, 1, 0], [1, 1, 1], [1, 1, 1], [1, 1, 1], [1, 1, 1], [1, 1, 0], [1, 1, 1], [1, 1, 1], [1, 1, 1], [1, 1, 0], [1, 1, 1], [1, 1, 1], [1, 1, 1], [1, 1, 1], [1, 1, 1], [1, 1, 1], [1, 1, 1], [1, 1, 0], [1, 1, 1], [1, 1, 1], [1, 1, 1], [1, 1, 1], [1, 1, 0], [1, 1, 1], [1, 1, 1], [1, 1, 1], [1, 1, 1], [1, 1, 1], [1, 1, 0], [1, 1, 1], [1, 1, 1], [1, 1, 0], [1, 1, 1], [1, 1, 1], [1, 1, 1], [1, 1, 1], [1, 1, 0], [1, 1, 1], [1, 1, 1], [1, 1, 1], [1, 1, 0], [1, 1, 1], [1, 1, 1], [1, 1, 1], [1, 1, 1], [1, 1, 1], [1, 1, 1], [1, 1, 1], [1, 1, 1], [1, 1, 1], [1, 1, 1], [1, 1, 1], [1, 1, 1], [1, 1, 0], [1, 1, 1], [1, 1, 1], [1, 1, 1], [1, 1, 1], [1, 1, 1], [1, 1, 1], [1, 1, 1], [1, 1, 1], [1, 1, 0], [1, 1, 1], [1, 1, 1], [1, 1, 1], [1, 1, 0], [1, 1, 1], [1, 1, 1], [1, 1, 1], [1, 1, 1], [1, 1, 1], [1, 1, 1], [1, 1, 1], [1, 1, 1], [1, 1, 1], [1, 1, 1], [1, 1, 0], [1, 1, 1], [1, 1, 1], [1, 1, 1], [1, 1, 1], [1, 1, 1], [1, 1, 1], [1, 1, 0], [1, 1, 1], [1, 1, 1], [1, 1, 0], [1, 1, 1], [1, 1, 1], [1, 1, 1], [1, 1, 0], [1, 1, 1], [1, 1, 1], [1, 1, 1], [1, 1, 1], [1, 1, 0], [1, 1, 1], [1, 1, 1], [1, 1, 0], [1, 1, 1], [1, 1, 1], [1, 1, 1], [1, 1, 1], [1, 1, 0], [1, 1, 1], [1, 1, 1], [1, 1, 1], [1, 1, 1], [1, 1, 1], [1, 1, 0], [1, 1, 1], [1, 1, 1], [1, 1, 0], [1, 1, 1], [1, 1, 1], [1, 1, 1], [1, 1, 1], [1, 1, 1], [1, 1, 0]]} to Sequence"
     ]
    }
   ],
   "source": [
    "model_weighted[0].tokenizer.decode(inps[0])"
   ]
  },
  {
   "cell_type": "code",
   "execution_count": 254,
   "metadata": {},
   "outputs": [
    {
     "data": {
      "text/plain": [
       "tensor([[[0.4410],\n",
       "         [0.4084],\n",
       "         [0.4127]],\n",
       "\n",
       "        [[0.5261],\n",
       "         [0.4620],\n",
       "         [0.4923]],\n",
       "\n",
       "        [[0.5091],\n",
       "         [0.5238],\n",
       "         [0.4647]],\n",
       "\n",
       "        [[0.5243],\n",
       "         [0.5109],\n",
       "         [0.4907]],\n",
       "\n",
       "        [[0.5627],\n",
       "         [0.5200],\n",
       "         [0.5301]],\n",
       "\n",
       "        [[0.4686],\n",
       "         [0.4629],\n",
       "         [0.4195]],\n",
       "\n",
       "        [[0.4641],\n",
       "         [0.4520],\n",
       "         [0.5063]],\n",
       "\n",
       "        [[0.4310],\n",
       "         [0.4204],\n",
       "         [0.3855]],\n",
       "\n",
       "        [[0.5197],\n",
       "         [0.4970],\n",
       "         [0.4718]],\n",
       "\n",
       "        [[0.4787],\n",
       "         [0.4499],\n",
       "         [0.4380]],\n",
       "\n",
       "        [[0.4930],\n",
       "         [0.4623],\n",
       "         [0.4272]],\n",
       "\n",
       "        [[0.4905],\n",
       "         [0.4717],\n",
       "         [0.4213]],\n",
       "\n",
       "        [[0.5197],\n",
       "         [0.4970],\n",
       "         [0.4718]],\n",
       "\n",
       "        [[0.5091],\n",
       "         [0.5238],\n",
       "         [0.4647]],\n",
       "\n",
       "        [[0.5091],\n",
       "         [0.5238],\n",
       "         [0.4647]],\n",
       "\n",
       "        [[0.4844],\n",
       "         [0.4513],\n",
       "         [0.4277]],\n",
       "\n",
       "        [[0.4641],\n",
       "         [0.4520],\n",
       "         [0.5063]],\n",
       "\n",
       "        [[0.4847],\n",
       "         [0.4442],\n",
       "         [0.4419]],\n",
       "\n",
       "        [[0.4624],\n",
       "         [0.4424],\n",
       "         [0.4127]],\n",
       "\n",
       "        [[0.4844],\n",
       "         [0.4513],\n",
       "         [0.4277]],\n",
       "\n",
       "        [[0.4624],\n",
       "         [0.4424],\n",
       "         [0.4127]],\n",
       "\n",
       "        [[0.5197],\n",
       "         [0.4970],\n",
       "         [0.4718]],\n",
       "\n",
       "        [[0.4709],\n",
       "         [0.4423],\n",
       "         [0.4220]],\n",
       "\n",
       "        [[0.4641],\n",
       "         [0.4520],\n",
       "         [0.5063]],\n",
       "\n",
       "        [[0.4624],\n",
       "         [0.4424],\n",
       "         [0.4127]],\n",
       "\n",
       "        [[0.4905],\n",
       "         [0.4717],\n",
       "         [0.4213]],\n",
       "\n",
       "        [[0.4844],\n",
       "         [0.4513],\n",
       "         [0.4277]],\n",
       "\n",
       "        [[0.4624],\n",
       "         [0.4424],\n",
       "         [0.4127]],\n",
       "\n",
       "        [[0.4641],\n",
       "         [0.4520],\n",
       "         [0.5063]],\n",
       "\n",
       "        [[0.4624],\n",
       "         [0.4424],\n",
       "         [0.4127]],\n",
       "\n",
       "        [[0.4905],\n",
       "         [0.4717],\n",
       "         [0.4213]],\n",
       "\n",
       "        [[0.5197],\n",
       "         [0.4970],\n",
       "         [0.4718]],\n",
       "\n",
       "        [[0.4641],\n",
       "         [0.4520],\n",
       "         [0.5063]],\n",
       "\n",
       "        [[0.4709],\n",
       "         [0.4423],\n",
       "         [0.4220]],\n",
       "\n",
       "        [[0.5627],\n",
       "         [0.5200],\n",
       "         [0.5301]],\n",
       "\n",
       "        [[0.4930],\n",
       "         [0.4623],\n",
       "         [0.4272]],\n",
       "\n",
       "        [[0.5627],\n",
       "         [0.5200],\n",
       "         [0.5301]],\n",
       "\n",
       "        [[0.4624],\n",
       "         [0.4424],\n",
       "         [0.4127]],\n",
       "\n",
       "        [[0.4844],\n",
       "         [0.4513],\n",
       "         [0.4277]],\n",
       "\n",
       "        [[0.5091],\n",
       "         [0.5238],\n",
       "         [0.4647]],\n",
       "\n",
       "        [[0.4641],\n",
       "         [0.4520],\n",
       "         [0.5063]],\n",
       "\n",
       "        [[0.4910],\n",
       "         [0.4762],\n",
       "         [0.4402]],\n",
       "\n",
       "        [[0.4686],\n",
       "         [0.4629],\n",
       "         [0.4195]],\n",
       "\n",
       "        [[0.4787],\n",
       "         [0.4499],\n",
       "         [0.4380]],\n",
       "\n",
       "        [[0.5381],\n",
       "         [0.5278],\n",
       "         [0.4745]],\n",
       "\n",
       "        [[0.4641],\n",
       "         [0.4520],\n",
       "         [0.5063]],\n",
       "\n",
       "        [[0.4799],\n",
       "         [0.4806],\n",
       "         [0.4370]],\n",
       "\n",
       "        [[0.4844],\n",
       "         [0.4513],\n",
       "         [0.4277]],\n",
       "\n",
       "        [[0.5381],\n",
       "         [0.5278],\n",
       "         [0.4745]],\n",
       "\n",
       "        [[0.5197],\n",
       "         [0.4970],\n",
       "         [0.4718]],\n",
       "\n",
       "        [[0.4709],\n",
       "         [0.4423],\n",
       "         [0.4220]],\n",
       "\n",
       "        [[0.4641],\n",
       "         [0.4520],\n",
       "         [0.5063]],\n",
       "\n",
       "        [[0.4847],\n",
       "         [0.4442],\n",
       "         [0.4419]],\n",
       "\n",
       "        [[0.4756],\n",
       "         [0.3902],\n",
       "         [0.4124]],\n",
       "\n",
       "        [[0.4641],\n",
       "         [0.4520],\n",
       "         [0.5063]],\n",
       "\n",
       "        [[0.4905],\n",
       "         [0.4717],\n",
       "         [0.4213]],\n",
       "\n",
       "        [[0.5197],\n",
       "         [0.4970],\n",
       "         [0.4718]],\n",
       "\n",
       "        [[0.5091],\n",
       "         [0.5238],\n",
       "         [0.4647]],\n",
       "\n",
       "        [[0.5091],\n",
       "         [0.5238],\n",
       "         [0.4647]],\n",
       "\n",
       "        [[0.4641],\n",
       "         [0.4520],\n",
       "         [0.5063]],\n",
       "\n",
       "        [[0.4910],\n",
       "         [0.4762],\n",
       "         [0.4402]],\n",
       "\n",
       "        [[0.4844],\n",
       "         [0.4513],\n",
       "         [0.4277]],\n",
       "\n",
       "        [[0.4847],\n",
       "         [0.4442],\n",
       "         [0.4419]],\n",
       "\n",
       "        [[0.4641],\n",
       "         [0.4520],\n",
       "         [0.5063]],\n",
       "\n",
       "        [[0.4733],\n",
       "         [0.4621],\n",
       "         [0.4142]],\n",
       "\n",
       "        [[0.4844],\n",
       "         [0.4513],\n",
       "         [0.4277]],\n",
       "\n",
       "        [[0.4787],\n",
       "         [0.4499],\n",
       "         [0.4380]],\n",
       "\n",
       "        [[0.4624],\n",
       "         [0.4424],\n",
       "         [0.4127]],\n",
       "\n",
       "        [[0.5627],\n",
       "         [0.5200],\n",
       "         [0.5301]],\n",
       "\n",
       "        [[0.4809],\n",
       "         [0.4325],\n",
       "         [0.4285]],\n",
       "\n",
       "        [[0.5261],\n",
       "         [0.4620],\n",
       "         [0.4923]],\n",
       "\n",
       "        [[0.5091],\n",
       "         [0.5238],\n",
       "         [0.4647]],\n",
       "\n",
       "        [[0.4844],\n",
       "         [0.4513],\n",
       "         [0.4277]],\n",
       "\n",
       "        [[0.4787],\n",
       "         [0.4499],\n",
       "         [0.4380]],\n",
       "\n",
       "        [[0.5091],\n",
       "         [0.5238],\n",
       "         [0.4647]],\n",
       "\n",
       "        [[0.5082],\n",
       "         [0.4811],\n",
       "         [0.4549]],\n",
       "\n",
       "        [[0.4641],\n",
       "         [0.4520],\n",
       "         [0.5063]],\n",
       "\n",
       "        [[0.5243],\n",
       "         [0.5109],\n",
       "         [0.4907]],\n",
       "\n",
       "        [[0.5627],\n",
       "         [0.5200],\n",
       "         [0.5301]],\n",
       "\n",
       "        [[0.4787],\n",
       "         [0.4499],\n",
       "         [0.4380]],\n",
       "\n",
       "        [[0.5261],\n",
       "         [0.4620],\n",
       "         [0.4923]],\n",
       "\n",
       "        [[0.5091],\n",
       "         [0.5238],\n",
       "         [0.4647]],\n",
       "\n",
       "        [[0.5197],\n",
       "         [0.4970],\n",
       "         [0.4718]],\n",
       "\n",
       "        [[0.4799],\n",
       "         [0.4806],\n",
       "         [0.4370]],\n",
       "\n",
       "        [[0.4624],\n",
       "         [0.4424],\n",
       "         [0.4127]],\n",
       "\n",
       "        [[0.4641],\n",
       "         [0.4520],\n",
       "         [0.5063]],\n",
       "\n",
       "        [[0.4844],\n",
       "         [0.4513],\n",
       "         [0.4277]],\n",
       "\n",
       "        [[0.4799],\n",
       "         [0.4806],\n",
       "         [0.4370]],\n",
       "\n",
       "        [[0.4709],\n",
       "         [0.4423],\n",
       "         [0.4220]],\n",
       "\n",
       "        [[0.4641],\n",
       "         [0.4520],\n",
       "         [0.5063]],\n",
       "\n",
       "        [[0.4787],\n",
       "         [0.4499],\n",
       "         [0.4380]],\n",
       "\n",
       "        [[0.5197],\n",
       "         [0.4970],\n",
       "         [0.4718]],\n",
       "\n",
       "        [[0.4733],\n",
       "         [0.4621],\n",
       "         [0.4142]],\n",
       "\n",
       "        [[0.5091],\n",
       "         [0.5238],\n",
       "         [0.4647]],\n",
       "\n",
       "        [[0.5627],\n",
       "         [0.5200],\n",
       "         [0.5301]],\n",
       "\n",
       "        [[0.4809],\n",
       "         [0.4325],\n",
       "         [0.4285]],\n",
       "\n",
       "        [[0.4844],\n",
       "         [0.4513],\n",
       "         [0.4277]],\n",
       "\n",
       "        [[0.4624],\n",
       "         [0.4424],\n",
       "         [0.4127]],\n",
       "\n",
       "        [[0.5197],\n",
       "         [0.4970],\n",
       "         [0.4718]],\n",
       "\n",
       "        [[0.4709],\n",
       "         [0.4423],\n",
       "         [0.4220]],\n",
       "\n",
       "        [[0.4641],\n",
       "         [0.4520],\n",
       "         [0.5063]],\n",
       "\n",
       "        [[0.5627],\n",
       "         [0.5200],\n",
       "         [0.5301]],\n",
       "\n",
       "        [[0.4624],\n",
       "         [0.4424],\n",
       "         [0.4127]],\n",
       "\n",
       "        [[0.4847],\n",
       "         [0.4442],\n",
       "         [0.4419]],\n",
       "\n",
       "        [[0.5197],\n",
       "         [0.4970],\n",
       "         [0.4718]],\n",
       "\n",
       "        [[0.5091],\n",
       "         [0.5238],\n",
       "         [0.4647]],\n",
       "\n",
       "        [[0.4410],\n",
       "         [0.4084],\n",
       "         [0.4127]],\n",
       "\n",
       "        [[0.4641],\n",
       "         [0.4520],\n",
       "         [0.5063]],\n",
       "\n",
       "        [[0.4844],\n",
       "         [0.4513],\n",
       "         [0.4277]],\n",
       "\n",
       "        [[0.4624],\n",
       "         [0.4424],\n",
       "         [0.4127]],\n",
       "\n",
       "        [[0.4641],\n",
       "         [0.4520],\n",
       "         [0.5063]],\n",
       "\n",
       "        [[0.4624],\n",
       "         [0.4424],\n",
       "         [0.4127]],\n",
       "\n",
       "        [[0.4905],\n",
       "         [0.4717],\n",
       "         [0.4213]],\n",
       "\n",
       "        [[0.5197],\n",
       "         [0.4970],\n",
       "         [0.4718]],\n",
       "\n",
       "        [[0.4641],\n",
       "         [0.4520],\n",
       "         [0.5063]],\n",
       "\n",
       "        [[0.4787],\n",
       "         [0.4499],\n",
       "         [0.4380]],\n",
       "\n",
       "        [[0.4844],\n",
       "         [0.4513],\n",
       "         [0.4277]],\n",
       "\n",
       "        [[0.4624],\n",
       "         [0.4424],\n",
       "         [0.4127]],\n",
       "\n",
       "        [[0.5197],\n",
       "         [0.4970],\n",
       "         [0.4718]],\n",
       "\n",
       "        [[0.4641],\n",
       "         [0.4520],\n",
       "         [0.5063]],\n",
       "\n",
       "        [[0.4686],\n",
       "         [0.4629],\n",
       "         [0.4195]],\n",
       "\n",
       "        [[0.4410],\n",
       "         [0.4084],\n",
       "         [0.4127]],\n",
       "\n",
       "        [[0.4641],\n",
       "         [0.4520],\n",
       "         [0.5063]],\n",
       "\n",
       "        [[0.5544],\n",
       "         [0.5371],\n",
       "         [0.5252]],\n",
       "\n",
       "        [[0.5005],\n",
       "         [0.4713],\n",
       "         [0.4388]],\n",
       "\n",
       "        [[0.5005],\n",
       "         [0.4713],\n",
       "         [0.4388]],\n",
       "\n",
       "        [[0.5005],\n",
       "         [0.4713],\n",
       "         [0.4388]],\n",
       "\n",
       "        [[0.4641],\n",
       "         [0.4520],\n",
       "         [0.5063]],\n",
       "\n",
       "        [[0.4624],\n",
       "         [0.4424],\n",
       "         [0.4127]],\n",
       "\n",
       "        [[0.5627],\n",
       "         [0.5200],\n",
       "         [0.5301]],\n",
       "\n",
       "        [[0.5381],\n",
       "         [0.5278],\n",
       "         [0.4745]],\n",
       "\n",
       "        [[0.5197],\n",
       "         [0.4970],\n",
       "         [0.4718]],\n",
       "\n",
       "        [[0.4847],\n",
       "         [0.4442],\n",
       "         [0.4419]],\n",
       "\n",
       "        [[0.4641],\n",
       "         [0.4520],\n",
       "         [0.5063]],\n",
       "\n",
       "        [[0.4844],\n",
       "         [0.4513],\n",
       "         [0.4277]],\n",
       "\n",
       "        [[0.4799],\n",
       "         [0.4806],\n",
       "         [0.4370]],\n",
       "\n",
       "        [[0.4641],\n",
       "         [0.4520],\n",
       "         [0.5063]],\n",
       "\n",
       "        [[0.4905],\n",
       "         [0.4717],\n",
       "         [0.4213]],\n",
       "\n",
       "        [[0.4686],\n",
       "         [0.4629],\n",
       "         [0.4195]],\n",
       "\n",
       "        [[0.5261],\n",
       "         [0.4620],\n",
       "         [0.4923]],\n",
       "\n",
       "        [[0.4787],\n",
       "         [0.4499],\n",
       "         [0.4380]],\n",
       "\n",
       "        [[0.4617],\n",
       "         [0.4515],\n",
       "         [0.4136]],\n",
       "\n",
       "        [[0.4641],\n",
       "         [0.4520],\n",
       "         [0.5063]]], device='cuda:0', grad_fn=<SliceBackward0>)"
      ]
     },
     "execution_count": 254,
     "metadata": {},
     "output_type": "execute_result"
    }
   ],
   "source": [
    "preds[0]['token_weights'][:,:,:]"
   ]
  },
  {
   "cell_type": "code",
   "execution_count": null,
   "metadata": {},
   "outputs": [],
   "source": [
    "pre"
   ]
  },
  {
   "cell_type": "code",
   "execution_count": 151,
   "metadata": {},
   "outputs": [],
   "source": [
    "# model_weighted(X[0])['token_weights'].min()"
   ]
  },
  {
   "cell_type": "code",
   "execution_count": 152,
   "metadata": {},
   "outputs": [],
   "source": [
    "# ((1 - model_weighted(X[0])['token_weights'])).max()"
   ]
  },
  {
   "cell_type": "markdown",
   "metadata": {},
   "source": [
    "TODO: \n",
    "- add mean embedding to the weighter input\n",
    "- add more layers"
   ]
  }
 ],
 "metadata": {
  "kernelspec": {
   "display_name": "Python 3 (ipykernel)",
   "language": "python",
   "name": "python3"
  },
  "orig_nbformat": 4,
  "vscode": {
   "interpreter": {
    "hash": "e7370f93d1d0cde622a1f8e1c04877d8463912d04d973331ad4851f04de6915a"
   }
  }
 },
 "nbformat": 4,
 "nbformat_minor": 2
}
